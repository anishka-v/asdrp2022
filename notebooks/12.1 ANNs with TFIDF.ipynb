{
 "cells": [
  {
   "cell_type": "markdown",
   "id": "e14ed487",
   "metadata": {},
   "source": [
    "# ANNs with TFIDF and Tensorflow\n",
    "\n",
    "Playground for trying out different feedforward NN is at:\n",
    "\n",
    "https://playground.tensorflow.org/"
   ]
  },
  {
   "cell_type": "code",
   "execution_count": 1,
   "id": "f40e68d8",
   "metadata": {},
   "outputs": [],
   "source": [
    "import numpy as np\n",
    "import pandas as pd\n",
    "import tensorflow as tf\n",
    "import matplotlib.pyplot as plt\n",
    "from sklearn.model_selection import train_test_split\n",
    "from sklearn.feature_extraction.text import TfidfVectorizer\n",
    "from sklearn.metrics import roc_auc_score, f1_score, confusion_matrix\n",
    "\n",
    "from tensorflow.keras.layers import Dense, Input\n",
    "from tensorflow.keras.models import Model\n",
    "\n",
    "tf.compat.v1.logging.set_verbosity(tf.compat.v1.logging.ERROR)"
   ]
  },
  {
   "cell_type": "code",
   "execution_count": 2,
   "id": "bb9980f4",
   "metadata": {},
   "outputs": [],
   "source": [
    "df = pd.read_csv('../data/bbc_text.csv')"
   ]
  },
  {
   "cell_type": "code",
   "execution_count": 3,
   "id": "4bfe4a6c",
   "metadata": {},
   "outputs": [
    {
     "data": {
      "text/html": [
       "<div>\n",
       "<style scoped>\n",
       "    .dataframe tbody tr th:only-of-type {\n",
       "        vertical-align: middle;\n",
       "    }\n",
       "\n",
       "    .dataframe tbody tr th {\n",
       "        vertical-align: top;\n",
       "    }\n",
       "\n",
       "    .dataframe thead th {\n",
       "        text-align: right;\n",
       "    }\n",
       "</style>\n",
       "<table border=\"1\" class=\"dataframe\">\n",
       "  <thead>\n",
       "    <tr style=\"text-align: right;\">\n",
       "      <th></th>\n",
       "      <th>text</th>\n",
       "      <th>labels</th>\n",
       "    </tr>\n",
       "  </thead>\n",
       "  <tbody>\n",
       "    <tr>\n",
       "      <th>0</th>\n",
       "      <td>Ad sales boost Time Warner profit\\n\\nQuarterly...</td>\n",
       "      <td>business</td>\n",
       "    </tr>\n",
       "    <tr>\n",
       "      <th>1</th>\n",
       "      <td>Dollar gains on Greenspan speech\\n\\nThe dollar...</td>\n",
       "      <td>business</td>\n",
       "    </tr>\n",
       "    <tr>\n",
       "      <th>2</th>\n",
       "      <td>Yukos unit buyer faces loan claim\\n\\nThe owner...</td>\n",
       "      <td>business</td>\n",
       "    </tr>\n",
       "    <tr>\n",
       "      <th>3</th>\n",
       "      <td>High fuel prices hit BA's profits\\n\\nBritish A...</td>\n",
       "      <td>business</td>\n",
       "    </tr>\n",
       "    <tr>\n",
       "      <th>4</th>\n",
       "      <td>Pernod takeover talk lifts Domecq\\n\\nShares in...</td>\n",
       "      <td>business</td>\n",
       "    </tr>\n",
       "  </tbody>\n",
       "</table>\n",
       "</div>"
      ],
      "text/plain": [
       "                                                text    labels\n",
       "0  Ad sales boost Time Warner profit\\n\\nQuarterly...  business\n",
       "1  Dollar gains on Greenspan speech\\n\\nThe dollar...  business\n",
       "2  Yukos unit buyer faces loan claim\\n\\nThe owner...  business\n",
       "3  High fuel prices hit BA's profits\\n\\nBritish A...  business\n",
       "4  Pernod takeover talk lifts Domecq\\n\\nShares in...  business"
      ]
     },
     "execution_count": 3,
     "metadata": {},
     "output_type": "execute_result"
    }
   ],
   "source": [
    "df.head()"
   ]
  },
  {
   "cell_type": "code",
   "execution_count": 4,
   "id": "5e3ed64e",
   "metadata": {},
   "outputs": [
    {
     "data": {
      "text/plain": [
       "0       0\n",
       "1       0\n",
       "2       0\n",
       "3       0\n",
       "4       0\n",
       "       ..\n",
       "2220    4\n",
       "2221    4\n",
       "2222    4\n",
       "2223    4\n",
       "2224    4\n",
       "Length: 2225, dtype: int8"
      ]
     },
     "execution_count": 4,
     "metadata": {},
     "output_type": "execute_result"
    }
   ],
   "source": [
    "# map classes to integers from 0...K-1\n",
    "df['labels'].astype(\"category\").cat.codes"
   ]
  },
  {
   "cell_type": "code",
   "execution_count": 5,
   "id": "0351f885",
   "metadata": {},
   "outputs": [
    {
     "data": {
      "text/plain": [
       "<AxesSubplot:>"
      ]
     },
     "execution_count": 5,
     "metadata": {},
     "output_type": "execute_result"
    },
    {
     "data": {
      "image/png": "[encoded data removed]",
      "text/plain": [
       "<Figure size 432x288 with 1 Axes>"
      ]
     },
     "metadata": {
      "needs_background": "light"
     },
     "output_type": "display_data"
    }
   ],
   "source": [
    "df['labels'].hist()"
   ]
  },
  {
   "cell_type": "code",
   "execution_count": 6,
   "id": "1105bc62",
   "metadata": {},
   "outputs": [],
   "source": [
    "df['targets'] = df['labels'].astype(\"category\").cat.codes"
   ]
  },
  {
   "cell_type": "code",
   "execution_count": 7,
   "id": "9d44c283",
   "metadata": {},
   "outputs": [],
   "source": [
    "df_train, df_test = train_test_split(df, test_size=0.3)"
   ]
  },
  {
   "cell_type": "code",
   "execution_count": 8,
   "id": "b6f654ea",
   "metadata": {},
   "outputs": [
    {
     "data": {
      "text/html": [
       "<div>\n",
       "<style scoped>\n",
       "    .dataframe tbody tr th:only-of-type {\n",
       "        vertical-align: middle;\n",
       "    }\n",
       "\n",
       "    .dataframe tbody tr th {\n",
       "        vertical-align: top;\n",
       "    }\n",
       "\n",
       "    .dataframe thead th {\n",
       "        text-align: right;\n",
       "    }\n",
       "</style>\n",
       "<table border=\"1\" class=\"dataframe\">\n",
       "  <thead>\n",
       "    <tr style=\"text-align: right;\">\n",
       "      <th></th>\n",
       "      <th>text</th>\n",
       "      <th>labels</th>\n",
       "      <th>targets</th>\n",
       "    </tr>\n",
       "  </thead>\n",
       "  <tbody>\n",
       "    <tr>\n",
       "      <th>1350</th>\n",
       "      <td>Radcliffe proves doubters wrong\\n\\nThis won't ...</td>\n",
       "      <td>sport</td>\n",
       "      <td>3</td>\n",
       "    </tr>\n",
       "    <tr>\n",
       "      <th>561</th>\n",
       "      <td>Spike Lee backs student directors\\n\\nFilm-make...</td>\n",
       "      <td>entertainment</td>\n",
       "      <td>1</td>\n",
       "    </tr>\n",
       "    <tr>\n",
       "      <th>1624</th>\n",
       "      <td>Wales win in Rome\\n\\nWales secured their first...</td>\n",
       "      <td>sport</td>\n",
       "      <td>3</td>\n",
       "    </tr>\n",
       "    <tr>\n",
       "      <th>768</th>\n",
       "      <td>Rapper Kanye West's shrewd soul\\n\\nUS hip-hop ...</td>\n",
       "      <td>entertainment</td>\n",
       "      <td>1</td>\n",
       "    </tr>\n",
       "    <tr>\n",
       "      <th>861</th>\n",
       "      <td>Vera Drake's Bafta triumph hope\\n\\nAt the Baft...</td>\n",
       "      <td>entertainment</td>\n",
       "      <td>1</td>\n",
       "    </tr>\n",
       "  </tbody>\n",
       "</table>\n",
       "</div>"
      ],
      "text/plain": [
       "                                                   text         labels  \\\n",
       "1350  Radcliffe proves doubters wrong\\n\\nThis won't ...          sport   \n",
       "561   Spike Lee backs student directors\\n\\nFilm-make...  entertainment   \n",
       "1624  Wales win in Rome\\n\\nWales secured their first...          sport   \n",
       "768   Rapper Kanye West's shrewd soul\\n\\nUS hip-hop ...  entertainment   \n",
       "861   Vera Drake's Bafta triumph hope\\n\\nAt the Baft...  entertainment   \n",
       "\n",
       "      targets  \n",
       "1350        3  \n",
       "561         1  \n",
       "1624        3  \n",
       "768         1  \n",
       "861         1  "
      ]
     },
     "execution_count": 8,
     "metadata": {},
     "output_type": "execute_result"
    }
   ],
   "source": [
    "df_train.head()"
   ]
  },
  {
   "cell_type": "code",
   "execution_count": 10,
   "id": "0ff25465",
   "metadata": {},
   "outputs": [
    {
     "data": {
      "text/plain": [
       "pandas.core.series.Series"
      ]
     },
     "execution_count": 10,
     "metadata": {},
     "output_type": "execute_result"
    }
   ],
   "source": [
    "type(df_train['text'])"
   ]
  },
  {
   "cell_type": "code",
   "execution_count": 28,
   "id": "8d437e18",
   "metadata": {},
   "outputs": [],
   "source": [
    "tfidf = TfidfVectorizer(stop_words='english')\n",
    "Xtrain = tfidf.fit_transform(df_train['text'])\n",
    "Xtest = tfidf.transform(df_test['text'])"
   ]
  },
  {
   "cell_type": "code",
   "execution_count": 29,
   "id": "05f65c08",
   "metadata": {},
   "outputs": [],
   "source": [
    "Ytrain = df_train['targets']\n",
    "Ytest = df_test['targets']"
   ]
  },
  {
   "cell_type": "code",
   "execution_count": 30,
   "id": "2fd85278",
   "metadata": {},
   "outputs": [
    {
     "data": {
      "text/plain": [
       "5"
      ]
     },
     "execution_count": 30,
     "metadata": {},
     "output_type": "execute_result"
    }
   ],
   "source": [
    "# number of classes\n",
    "K = df['targets'].max() + 1\n",
    "K"
   ]
  },
  {
   "cell_type": "code",
   "execution_count": 31,
   "id": "1c3ebbb0",
   "metadata": {},
   "outputs": [
    {
     "data": {
      "text/plain": [
       "(1557, 25013)"
      ]
     },
     "execution_count": 31,
     "metadata": {},
     "output_type": "execute_result"
    }
   ],
   "source": [
    "Xtrain.shape"
   ]
  },
  {
   "cell_type": "code",
   "execution_count": 32,
   "id": "76ca98a3",
   "metadata": {},
   "outputs": [
    {
     "data": {
      "text/plain": [
       "25013"
      ]
     },
     "execution_count": 32,
     "metadata": {},
     "output_type": "execute_result"
    }
   ],
   "source": [
    "# input dimensions\n",
    "D = Xtrain.shape[1]\n",
    "D"
   ]
  },
  {
   "cell_type": "code",
   "execution_count": 33,
   "id": "ce0c369c",
   "metadata": {},
   "outputs": [],
   "source": [
    "# build model\n",
    "i = Input(shape=(D,))\n",
    "x = Dense(600, activation='relu')(i)\n",
    "x = Dense(300, activation='relu')(x)\n",
    "x = Dense(K)(x) # softmax included in loss\n",
    "\n",
    "model = Model(i, x)"
   ]
  },
  {
   "cell_type": "code",
   "execution_count": 34,
   "id": "d6b819fe",
   "metadata": {},
   "outputs": [
    {
     "name": "stdout",
     "output_type": "stream",
     "text": [
      "Model: \"model_2\"\n",
      "_________________________________________________________________\n",
      " Layer (type)                Output Shape              Param #   \n",
      "=================================================================\n",
      " input_3 (InputLayer)        [(None, 25013)]           0         \n",
      "                                                                 \n",
      " dense_5 (Dense)             (None, 600)               15008400  \n",
      "                                                                 \n",
      " dense_6 (Dense)             (None, 300)               180300    \n",
      "                                                                 \n",
      " dense_7 (Dense)             (None, 5)                 1505      \n",
      "                                                                 \n",
      "=================================================================\n",
      "Total params: 15,190,205\n",
      "Trainable params: 15,190,205\n",
      "Non-trainable params: 0\n",
      "_________________________________________________________________\n"
     ]
    }
   ],
   "source": [
    "model.summary()"
   ]
  },
  {
   "cell_type": "code",
   "execution_count": 35,
   "id": "d85f8063",
   "metadata": {},
   "outputs": [],
   "source": [
    "model.compile(\n",
    "  loss=tf.keras.losses.SparseCategoricalCrossentropy(from_logits=True),\n",
    "  optimizer='adam',\n",
    "  metrics=['accuracy']\n",
    ")"
   ]
  },
  {
   "cell_type": "code",
   "execution_count": 36,
   "id": "3d3d3400",
   "metadata": {},
   "outputs": [],
   "source": [
    "# data must not be sparse matrix before passing into tensorflow\n",
    "Xtrain = Xtrain.toarray()\n",
    "Xtest = Xtest.toarray()"
   ]
  },
  {
   "cell_type": "code",
   "execution_count": 37,
   "id": "6b04b0ff",
   "metadata": {},
   "outputs": [
    {
     "name": "stdout",
     "output_type": "stream",
     "text": [
      "Epoch 1/7\n",
      "13/13 [==============================] - 1s 74ms/step - loss: 1.3536 - accuracy: 0.7932 - val_loss: 0.7246 - val_accuracy: 0.9386\n",
      "Epoch 2/7\n",
      "13/13 [==============================] - 1s 63ms/step - loss: 0.2374 - accuracy: 0.9968 - val_loss: 0.1244 - val_accuracy: 0.9701\n",
      "Epoch 3/7\n",
      "13/13 [==============================] - 1s 63ms/step - loss: 0.0070 - accuracy: 1.0000 - val_loss: 0.0896 - val_accuracy: 0.9746\n",
      "Epoch 4/7\n",
      "13/13 [==============================] - 1s 64ms/step - loss: 6.7988e-04 - accuracy: 1.0000 - val_loss: 0.0893 - val_accuracy: 0.9760\n",
      "Epoch 5/7\n",
      "13/13 [==============================] - 1s 63ms/step - loss: 3.1422e-04 - accuracy: 1.0000 - val_loss: 0.0898 - val_accuracy: 0.9760\n",
      "Epoch 6/7\n",
      "13/13 [==============================] - 1s 62ms/step - loss: 2.3014e-04 - accuracy: 1.0000 - val_loss: 0.0898 - val_accuracy: 0.9760\n",
      "Epoch 7/7\n",
      "13/13 [==============================] - 1s 62ms/step - loss: 1.9688e-04 - accuracy: 1.0000 - val_loss: 0.0898 - val_accuracy: 0.9760\n"
     ]
    }
   ],
   "source": [
    "r = model.fit(\n",
    "  Xtrain, Ytrain,\n",
    "  validation_data=(Xtest, Ytest),\n",
    "  epochs=7,\n",
    "  batch_size=128,\n",
    ")"
   ]
  },
  {
   "cell_type": "code",
   "execution_count": 38,
   "id": "ce946dc8",
   "metadata": {},
   "outputs": [
    {
     "data": {
      "image/png": "[encoded data removed]",
      "text/plain": [
       "<Figure size 432x288 with 1 Axes>"
      ]
     },
     "metadata": {
      "needs_background": "light"
     },
     "output_type": "display_data"
    }
   ],
   "source": [
    "# Plot loss per iteration\n",
    "plt.plot(r.history['loss'], label='train loss')\n",
    "plt.plot(r.history['val_loss'], label='val loss')\n",
    "plt.legend();"
   ]
  },
  {
   "cell_type": "code",
   "execution_count": 39,
   "id": "284db222",
   "metadata": {},
   "outputs": [
    {
     "data": {
      "image/png": "[encoded data removed]",
      "text/plain": [
       "<Figure size 432x288 with 1 Axes>"
      ]
     },
     "metadata": {
      "needs_background": "light"
     },
     "output_type": "display_data"
    }
   ],
   "source": [
    "# Plot accuracy per iteration\n",
    "plt.plot(r.history['accuracy'], label='train acc')\n",
    "plt.plot(r.history['val_accuracy'], label='val acc')\n",
    "plt.legend();"
   ]
  },
  {
   "cell_type": "code",
   "execution_count": 40,
   "id": "1ffee0b3",
   "metadata": {},
   "outputs": [
    {
     "data": {
      "text/plain": [
       "<AxesSubplot:>"
      ]
     },
     "execution_count": 40,
     "metadata": {},
     "output_type": "execute_result"
    },
    {
     "data": {
      "image/png": "[encoded data removed]",
      "text/plain": [
       "<Figure size 432x288 with 1 Axes>"
      ]
     },
     "metadata": {
      "needs_background": "light"
     },
     "output_type": "display_data"
    }
   ],
   "source": [
    "df['labels'].hist()"
   ]
  },
  {
   "cell_type": "code",
   "execution_count": null,
   "id": "8b3ce8d9",
   "metadata": {},
   "outputs": [],
   "source": []
  }
 ],
 "metadata": {
  "kernelspec": {
   "display_name": "Python 3 (ipykernel)",
   "language": "python",
   "name": "python3"
  },
  "language_info": {
   "codemirror_mode": {
    "name": "ipython",
    "version": 3
   },
   "file_extension": ".py",
   "mimetype": "text/x-python",
   "name": "python",
   "nbconvert_exporter": "python",
   "pygments_lexer": "ipython3",
   "version": "3.9.12"
  }
 },
 "nbformat": 4,
 "nbformat_minor": 5
}
