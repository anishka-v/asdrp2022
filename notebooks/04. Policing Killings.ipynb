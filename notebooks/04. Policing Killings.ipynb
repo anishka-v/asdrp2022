{
 "cells": [
  {
   "cell_type": "markdown",
   "metadata": {},
   "source": [
    "#  Understanding Police Fatal Shootings\n",
    "\n",
    "Notebook for analyzing police fatal shooting factors related to race.\n",
    "\n",
    "Reference: bit.ly/mui-asdrp"
   ]
  },
  {
   "cell_type": "markdown",
   "metadata": {
    "id": "_oE4p4w2Psa7"
   },
   "source": [
    "Data Download and Pre-Processing from [Mapping Police Violence](https://mappingpoliceviolence.us/s/MPVDatasetDownload.xlsx)"
   ]
  },
  {
   "cell_type": "code",
   "execution_count": null,
   "metadata": {
    "id": "igcix6D5aHh7"
   },
   "outputs": [],
   "source": [
    "#importing useful libraries\n",
    "import pandas as pd\n",
    "import numpy  as np\n",
    "import matplotlib.pyplot as plt"
   ]
  },
  {
   "cell_type": "code",
   "execution_count": null,
   "metadata": {},
   "outputs": [],
   "source": [
    "df = pd.read_csv(\"../data/police-violence.csv\")"
   ]
  },
  {
   "cell_type": "code",
   "execution_count": null,
   "metadata": {},
   "outputs": [],
   "source": [
    "df.shape"
   ]
  },
  {
   "cell_type": "code",
   "execution_count": null,
   "metadata": {},
   "outputs": [],
   "source": [
    "df.head(2)"
   ]
  },
  {
   "cell_type": "code",
   "execution_count": null,
   "metadata": {},
   "outputs": [],
   "source": [
    "df = df[['name', 'age', 'gender', 'race', 'date', 'city', 'state', 'zip', 'county', 'agency_responsible', 'cause_of_death', 'counter_type', 'initial_reason']]"
   ]
  },
  {
   "cell_type": "code",
   "execution_count": null,
   "metadata": {},
   "outputs": [],
   "source": [
    "df.tail(2)"
   ]
  },
  {
   "cell_type": "code",
   "execution_count": null,
   "metadata": {
    "id": "wpg96y5Qyk2G"
   },
   "outputs": [],
   "source": [
    "from numpy import array\n",
    "from numpy import argmax\n",
    "from sklearn.preprocessing import LabelEncoder\n",
    "from sklearn.preprocessing import OneHotEncoder\n",
    "#creates a one-hot encoder function which returns a column of our dataframe one-hot encodeded as well as their categorical name (given input of the column) \n",
    "\n",
    "def one_hot_encode(data):\n",
    "  values = array(data)\n",
    "  label_encoder = LabelEncoder()\n",
    "  integer_encoded = label_encoder.fit_transform(values)\n",
    "  onehot_encoder = OneHotEncoder(sparse=False)\n",
    "  integer_encoded = integer_encoded.reshape(len(integer_encoded), 1)\n",
    "  onehot_encoded = onehot_encoder.fit_transform(integer_encoded)\n",
    "  shape = onehot_encoded.shape\n",
    "  inverted = []\n",
    "  for i in range(shape[-1]):\n",
    "      inverted.append(label_encoder.inverse_transform([i]))\n",
    "  return onehot_encoded, inverted"
   ]
  },
  {
   "cell_type": "code",
   "execution_count": null,
   "metadata": {
    "id": "4kO5buFyjNY2"
   },
   "outputs": [],
   "source": [
    "# declares output array\n",
    "outputs = [[] for i in range(len(df))] "
   ]
  },
  {
   "cell_type": "code",
   "execution_count": null,
   "metadata": {
    "id": "s9fAav0-lUe5"
   },
   "outputs": [],
   "source": [
    "#creates inputs [1,0] = African American Killing by Police, [0,1] = non African American Killing by Police\n",
    "races = df[\"race\"] \n",
    "count = 0\n",
    "for race in races:\n",
    "  if(race == \"Black\"):\n",
    "    outputs[count].append(1)\n",
    "    outputs[count].append(0)\n",
    "  else:\n",
    "    outputs[count].append(0)\n",
    "    outputs[count].append(1)\n",
    "  count += 1\n",
    "df = df.drop(columns = \"race\")"
   ]
  },
  {
   "cell_type": "code",
   "execution_count": null,
   "metadata": {
    "id": "ZGGoOl9r38cY"
   },
   "outputs": [],
   "source": [
    "xOutputs = []\n",
    "for race in races:\n",
    "  if(race == \"Black\"):\n",
    "    xOutputs.append(1)\n",
    "  else:\n",
    "    xOutputs.append(0)"
   ]
  },
  {
   "cell_type": "code",
   "execution_count": null,
   "metadata": {
    "colab": {
     "base_uri": "https://localhost:8080/"
    },
    "id": "-BZRP40M4PgD",
    "outputId": "8527ec90-2954-4679-83ff-a5db39e99709"
   },
   "outputs": [],
   "source": [
    "len(xOutputs)"
   ]
  },
  {
   "cell_type": "code",
   "execution_count": null,
   "metadata": {
    "id": "OA81B_JJDqOs"
   },
   "outputs": [],
   "source": [
    "# creates inputs by one-hot encoding individual dataframe columns\n",
    "# inverted is a list of categorical data which corresponds to each \"1\" in the one-hot encoding\n",
    "inputs = list()\n",
    "inverted = []\n",
    "for column in df: \n",
    "  check = array(df[column])\n",
    "  encodedArray = one_hot_encode(check)[0]\n",
    "  inverted.extend(one_hot_encode(check)[1])\n",
    "  inputs.append(encodedArray)\n",
    "inputs = np.hstack(inputs)\n"
   ]
  },
  {
   "cell_type": "code",
   "execution_count": null,
   "metadata": {
    "id": "U63hxFfxP4Sz"
   },
   "outputs": [],
   "source": [
    "# code for undersampling\n",
    "#import random\n",
    "#temp = list(zip(inputs, outputs)) \n",
    "#random.shuffle(temp) \n",
    "#inputs, outputs = zip(*temp)"
   ]
  },
  {
   "cell_type": "code",
   "execution_count": null,
   "metadata": {
    "id": "0Wr6WJO_oHs8"
   },
   "outputs": [],
   "source": [
    "#count = 0\n",
    "#countx = 0\n",
    "#for i in range(len(outputs)):\n",
    "#  if(outputs[i][0] == 1):\n",
    "#    count += 1\n",
    "#  if(outputs[i][0] == 0):\n",
    "#    countx += 1\n",
    "#check = 0\n",
    "#newInputs = []\n",
    "#newOutputs = []\n",
    "#inputs = list(inputs)\n",
    "#outputs = list(outputs)\n",
    "#for i in range(len(inputs) - 1):\n",
    "#  if(check < abs(count-countx)):\n",
    "#    if(outputs[i][1] == 0):\n",
    "#      newInputs.append(inputs[i])\n",
    "#      newOutputs.append(outputs[i])\n",
    "#    else:\n",
    "#      check += 1\n",
    "#  else:\n",
    "#    newInputs.append(inputs[i])\n",
    "#    newOutputs.append(outputs[i])"
   ]
  },
  {
   "cell_type": "code",
   "execution_count": null,
   "metadata": {
    "id": "BD6CN4ugVgZC"
   },
   "outputs": [],
   "source": [
    "#import random\n",
    "#temp = list(zip(newInputs, newOutputs)) \n",
    "#random.shuffle(temp) \n",
    "#newInputs, newOutputs = zip(*temp)"
   ]
  },
  {
   "cell_type": "code",
   "execution_count": null,
   "metadata": {
    "colab": {
     "base_uri": "https://localhost:8080/"
    },
    "id": "B4ow2Pkv55BS",
    "outputId": "b96b70aa-9f76-473c-cef3-3d5dd673db29"
   },
   "outputs": [],
   "source": [
    "len(inputs)"
   ]
  },
  {
   "cell_type": "code",
   "execution_count": null,
   "metadata": {
    "colab": {
     "base_uri": "https://localhost:8080/"
    },
    "id": "gEQuel7b8rxi",
    "outputId": "1d1566be-05a4-4f03-b66f-afb8301dd721"
   },
   "outputs": [],
   "source": [
    "len(xOutputs)"
   ]
  },
  {
   "cell_type": "code",
   "execution_count": null,
   "metadata": {},
   "outputs": [],
   "source": [
    "# summarize class distribution\n",
    "print(Counter(xOutputs))"
   ]
  },
  {
   "cell_type": "code",
   "execution_count": null,
   "metadata": {
    "colab": {
     "base_uri": "https://localhost:8080/"
    },
    "id": "y8pBrDMvsrUC",
    "outputId": "c2284148-9cc3-4a12-8600-72baa286a920"
   },
   "outputs": [],
   "source": [
    "import sklearn.utils._cython_blas\n",
    "import imblearn"
   ]
  },
  {
   "cell_type": "code",
   "execution_count": null,
   "metadata": {},
   "outputs": [],
   "source": [
    "from imblearn.over_sampling import RandomOverSampler\n",
    "from collections import Counter\n",
    "oversample = RandomOverSampler(sampling_strategy='minority')\n",
    "newInputs, newOutputs = oversample.fit_resample(inputs, xOutputs)\n",
    "\n",
    "# summarize class distribution\n",
    "print(Counter(newOutputs))"
   ]
  },
  {
   "cell_type": "code",
   "execution_count": null,
   "metadata": {
    "id": "iSVcz9Po5hpB"
   },
   "outputs": [],
   "source": [
    "import random\n",
    "temp = list(zip(newInputs, newOutputs)) \n",
    "random.shuffle(temp) \n",
    "newInputs, newOutputs = zip(*temp)"
   ]
  },
  {
   "cell_type": "code",
   "execution_count": null,
   "metadata": {
    "id": "7L8uT9ecRtqq"
   },
   "outputs": [],
   "source": [
    "# creates a train/test split of 80-20\n",
    "newOutputs = np.array(newOutputs)\n",
    "split = int(0.7*len(newInputs))\n",
    "X_train, X_test, y_train, y_test = newInputs[:split], newInputs[split:], newOutputs[:split], newOutputs[split:]\n",
    "X_train = np.expand_dims(X_train, axis = 2)\n",
    "X_test = np.expand_dims(X_test, axis = 2)"
   ]
  },
  {
   "cell_type": "code",
   "execution_count": null,
   "metadata": {
    "id": "Cd_IwUCMWY2I"
   },
   "outputs": [],
   "source": [
    "import tensorflow as tf\n",
    "from tensorflow import keras\n",
    "from tensorflow.keras import layers\n",
    "from keras.models import Sequential\n",
    "from keras.layers import Dense, Dropout, BatchNormalization, LSTM, Flatten, Conv1D\n",
    "#earlystop = tf.keras.callbacks.EarlyStopping(monitor='val_loss', patience=7, restore_best_weights= True)\n",
    "model = Sequential()\n",
    "model.add(Flatten())\n",
    "model.add(Dense(2000, activation = 'relu'))\n",
    "model.add(Dropout(.3))\n",
    "model.add(Dense(200, activation = 'relu'))\n",
    "model.add(Dropout(.3))\n",
    "model.add(Dense(1, activation = 'relu'))\n",
    "model.compile(loss = \"MSE\", optimizer = \"Adam\", metrics=[\"accuracy\"])"
   ]
  },
  {
   "cell_type": "code",
   "execution_count": null,
   "metadata": {
    "colab": {
     "base_uri": "https://localhost:8080/"
    },
    "id": "GPbiLnFIWpi-",
    "outputId": "bc2331f6-4068-4dd8-e97b-0e0ced8be05f"
   },
   "outputs": [],
   "source": [
    "# fits the model to the training data\n",
    "# it is extremely important to use class_weights as otherwise, the model only predicts one class (as 68% of the inputs are non-African American Killings)\n",
    "# this ensures that our model is fair and treats the individual accuracy of each class' classification the same\n",
    "model.fit(X_train, y_train,\n",
    "            batch_size=16,\n",
    "            epochs= 20,\n",
    "            validation_split = 0.2, \n",
    "            )"
   ]
  },
  {
   "cell_type": "code",
   "execution_count": null,
   "metadata": {
    "colab": {
     "base_uri": "https://localhost:8080/"
    },
    "id": "0ABdCQr3A2on",
    "outputId": "1b154bb1-2aae-46d9-cac9-38de266ecdd1"
   },
   "outputs": [],
   "source": [
    "model.summary()"
   ]
  },
  {
   "cell_type": "code",
   "execution_count": null,
   "metadata": {
    "colab": {
     "base_uri": "https://localhost:8080/"
    },
    "id": "7aK0fYTG636q",
    "outputId": "9697279c-7370-478a-cd77-10c6240e25d3"
   },
   "outputs": [],
   "source": [
    "from sklearn.metrics import f1_score\n",
    "preds = model.predict(X_test)\n",
    "check = 0\n",
    "num_correct = 0\n",
    "for i in range(len(preds)):\n",
    "  if(preds[i] < 0.5):\n",
    "    preds[i] = 0\n",
    "  else:\n",
    "    preds[i] = 1      \n",
    "for i in range(len(preds)):\n",
    "  if(preds[i].round() == y_test[i]):\n",
    "    num_correct += 1\n",
    "print(\"The fraction of correctly classified examples in the test set is: \" + str(num_correct / len(preds)))\n",
    "f1_score(y_test, preds, average = None)"
   ]
  },
  {
   "cell_type": "code",
   "execution_count": null,
   "metadata": {
    "id": "2iNPLOItSC6L"
   },
   "outputs": [],
   "source": [
    "# creates a train/test split of 80-20\n",
    "newOutputs = np.array(newOutputs)\n",
    "split = int(0.8*len(newInputs))\n",
    "X_train, X_test, y_train, y_test = newInputs[:split], newInputs[split:], newOutputs[:split], newOutputs[split:]"
   ]
  },
  {
   "cell_type": "code",
   "execution_count": null,
   "metadata": {
    "colab": {
     "base_uri": "https://localhost:8080/"
    },
    "id": "giqWzY0cGaFM",
    "outputId": "a0464975-2d07-490a-a409-87e489662869"
   },
   "outputs": [],
   "source": [
    "from sklearn.tree import DecisionTreeClassifier\n",
    "from sklearn.model_selection import cross_val_score\n",
    "from sklearn import tree\n",
    "from sklearn.metrics import f1_score\n",
    "model = tree.DecisionTreeClassifier(max_depth= 5000)\n",
    "model.fit(X_train, y_train)\n",
    "preds = model.predict(X_test)\n",
    "check = 0\n",
    "num_correct = 0\n",
    "for i in range(len(preds)):\n",
    "  if(preds[i] < 0.5):\n",
    "    preds[i] = 0\n",
    "  else:\n",
    "    preds[i] == 1\n",
    "for i in range(len(preds)):\n",
    "  if(preds[i].round() == y_test[i]):\n",
    "    num_correct += 1\n",
    "print(\"The fraction of correctly classified examples in the test set is: \" + str(num_correct / len(preds)))\n",
    "f1_score(y_test, preds, average = None)"
   ]
  },
  {
   "cell_type": "code",
   "execution_count": null,
   "metadata": {
    "colab": {
     "base_uri": "https://localhost:8080/"
    },
    "id": "7vw0_CE_VAJM",
    "outputId": "495b7ab1-fd86-4931-a2c8-cfffa20497fa"
   },
   "outputs": [],
   "source": [
    "from sklearn.ensemble import RandomForestClassifier\n",
    "from sklearn.metrics import f1_score\n",
    "model = RandomForestClassifier(300)\n",
    "model.fit(X_train, y_train)\n",
    "preds = model.predict(X_test)\n",
    "check = 0\n",
    "num_correct = 0\n",
    "for i in range(len(preds)):\n",
    "  if(preds[i] < 0.5):\n",
    "    preds[i] = 0\n",
    "  else:\n",
    "    preds[i] == 1\n",
    "for i in range(len(preds)):\n",
    "  if(preds[i].round() == y_test[i]):\n",
    "    num_correct += 1\n",
    "print(\"The fraction of correctly classified examples in the test set is: \" + str(num_correct / len(preds)))\n",
    "f1_score(y_test, preds, average = None)"
   ]
  },
  {
   "cell_type": "code",
   "execution_count": null,
   "metadata": {},
   "outputs": [],
   "source": [
    "! pip install graphviz\n",
    "\n",
    "# if you are using mac:\n",
    "! brew install graphviz\n",
    "\n",
    "# if you are using Ubuntu\n",
    "! sudo apt-get install graphivz\n",
    "\n",
    "# if you are using Windows\n",
    "! echo \"You need to install GraphViz executable from web first\""
   ]
  },
  {
   "cell_type": "code",
   "execution_count": null,
   "metadata": {
    "colab": {
     "base_uri": "https://localhost:8080/",
     "height": 777
    },
    "id": "jruG2hd3sDV1",
    "outputId": "1639838a-679a-4be7-86db-097bbf58a1b3"
   },
   "outputs": [],
   "source": [
    "import graphviz\n",
    "model = tree.DecisionTreeClassifier(max_depth= 4)\n",
    "model.fit(X_train, y_train)"
   ]
  },
  {
   "cell_type": "code",
   "execution_count": null,
   "metadata": {},
   "outputs": [],
   "source": [
    "dot_data = tree.export_graphviz(model, out_file=None, \n",
    "                                feature_names=inverted,  \n",
    "                                class_names= [\"AA\", \"nonAA\"],\n",
    "                                filled=True)"
   ]
  },
  {
   "cell_type": "code",
   "execution_count": null,
   "metadata": {},
   "outputs": [],
   "source": [
    "graph = graphviz.Source(dot_data, format=\"png\") "
   ]
  },
  {
   "cell_type": "code",
   "execution_count": null,
   "metadata": {},
   "outputs": [],
   "source": [
    "import pydotplus\n",
    "pydot_graph = pydotplus.graph_from_dot_data(dot_data)"
   ]
  },
  {
   "cell_type": "code",
   "execution_count": null,
   "metadata": {},
   "outputs": [],
   "source": [
    "from IPython.display import Image\n",
    "Image(pydot_graph.create_png())"
   ]
  },
  {
   "cell_type": "code",
   "execution_count": null,
   "metadata": {},
   "outputs": [],
   "source": [
    "graph = graphviz.Source(dot_data, format=\"png\") \n",
    "graph"
   ]
  },
  {
   "cell_type": "code",
   "execution_count": null,
   "metadata": {
    "colab": {
     "base_uri": "https://localhost:8080/",
     "height": 1000
    },
    "id": "LkF3DAifrP17",
    "outputId": "24ba2916-5133-4f43-bab3-f7a2130d8dbc"
   },
   "outputs": [],
   "source": [
    "from sklearn.metrics import accuracy_score\n",
    "accuracies = []\n",
    "medAccuracies = []\n",
    "depths = []\n",
    "\n",
    "# this takes many HOURS -- be ready to get 8+ hours sleep!\n",
    "for i in range(5,500, 5):\n",
    "  print(i)\n",
    "  depths.append(i)\n",
    "  model = RandomForestClassifier(300, max_depth=i)\n",
    "  model.fit(X_train, y_train)\n",
    "  estimatorAccuracy=[]\n",
    "  for curEstimator in range(300):\n",
    "    estimatorAccuracy.append([curEstimator,accuracy_score(y_test, model.estimators_[curEstimator].predict(X_test))])\n",
    "\n",
    "  estimatorAccuracy=pd.DataFrame(estimatorAccuracy,columns=['estimatorNumber','Accuracy'])\n",
    "  estimatorAccuracy.sort_values(inplace=True,by='Accuracy',ascending=False)\n",
    "  estimatorAccuracy = estimatorAccuracy.reset_index(drop=True)\n",
    "\n",
    "  bestAccuracy= estimatorAccuracy['Accuracy'][0]\n",
    "  accuracies.append(bestAccuracy)\n",
    "  medAccuracies.append(estimatorAccuracy['Accuracy'][(len(estimatorAccuracy)/2) + 1])\n",
    "\n",
    "\n",
    "estimatorAccuracy.head()"
   ]
  },
  {
   "cell_type": "code",
   "execution_count": null,
   "metadata": {
    "colab": {
     "base_uri": "https://localhost:8080/",
     "height": 312
    },
    "id": "YyjdhabWJqrF",
    "outputId": "5622d243-9dda-44b6-9831-fe4e8c042fc0"
   },
   "outputs": [],
   "source": [
    "plt.title(\"Various Accuracies of Decision Trees in the Random Forest Based On Depth\")\n",
    "plt.plot(depths, accuracies, label = \"Accuracy of the Most Accurate Decision Tree in the Random Forest\")\n",
    "plt.plot(depths, medAccuracies, label = \"Median Accuracy of the Decision Trees in the Random Forest\")\n",
    "\n",
    "plt.xlabel(\"Maximum Depth\")\n",
    "plt.ylabel(\"Accuracy\")\n",
    "plt.legend()"
   ]
  },
  {
   "cell_type": "code",
   "execution_count": null,
   "metadata": {
    "colab": {
     "base_uri": "https://localhost:8080/",
     "height": 460
    },
    "id": "gWfV9tLOsezn",
    "outputId": "b9cd1c7a-2331-4e9e-f08a-2b5b33390d61"
   },
   "outputs": [],
   "source": [
    "import matplotlib.pyplot as plt # has a different graph nearly every time, but the range of accuracies is always similar, which is what the graph is used for\n",
    "answers = []\n",
    "for i in range(100):\n",
    "  model = RandomForestClassifier(300) \n",
    "  model.fit(X_train, y_train)\n",
    "  preds = model.predict(X_test)\n",
    "  check = 0\n",
    "  num_correct = 0\n",
    "  for i in range(len(preds)):\n",
    "    if(preds[i] < 0.5):\n",
    "      preds[i] = 0\n",
    "    else:\n",
    "      preds[i] == 1\n",
    "  for i in range(len(preds)):\n",
    "    if(preds[i].round() == y_test[i]):\n",
    "      num_correct += 1\n",
    "  answers.append(num_correct / len(preds))\n",
    "\n",
    "plt.rcParams.update({'figure.figsize':(7,5), 'figure.dpi':100})\n",
    "plt.hist(answers, bins=20)\n",
    "plt.gca().set(title='Accuracy Distribution', ylabel='Frequency');"
   ]
  },
  {
   "cell_type": "code",
   "execution_count": null,
   "metadata": {
    "colab": {
     "base_uri": "https://localhost:8080/"
    },
    "id": "Gf3uLFwEYtmV",
    "outputId": "84206c5f-aa17-4e99-8411-47b749180857"
   },
   "outputs": [],
   "source": [
    "from sklearn import svm\n",
    "from sklearn.metrics import f1_score\n",
    "model = svm.SVC()\n",
    "model.fit(X_train, y_train)\n",
    "preds = model.predict(X_test)\n",
    "check = 0\n",
    "num_correct = 0\n",
    "for i in range(len(preds)):\n",
    "  if(preds[i] < 0.5):\n",
    "    preds[i] = 0\n",
    "  else:\n",
    "    preds[i] == 1\n",
    "for i in range(len(preds)):\n",
    "  if(preds[i].round() == y_test[i]):\n",
    "    num_correct += 1\n",
    "print(\"The fraction of correctly classified examples in the test set is: \" + str(num_correct / len(preds)))\n",
    "f1_score(y_test, preds, average = None)"
   ]
  },
  {
   "cell_type": "code",
   "execution_count": null,
   "metadata": {
    "colab": {
     "base_uri": "https://localhost:8080/"
    },
    "id": "CEj6GgNOosH9",
    "outputId": "0d4a88c8-75d0-44e0-f76d-96ed785d34f1"
   },
   "outputs": [],
   "source": [
    "from sklearn.ensemble import GradientBoostingClassifier\n",
    "from sklearn.metrics import f1_score\n",
    "model = GradientBoostingClassifier(n_estimators = 300, max_depth= None)\n",
    "model.fit(X_train, y_train)\n",
    "preds = model.predict(X_test)\n",
    "check = 0\n",
    "num_correct = 0\n",
    "for i in range(len(preds)):\n",
    "  if(preds[i] < 0.5):\n",
    "    preds[i] = 0\n",
    "  else:\n",
    "    preds[i] == 1\n",
    "for i in range(len(preds)):\n",
    "  if(preds[i].round() == y_test[i]):\n",
    "    num_correct += 1\n",
    "print(\"The fraction of correctly classified examples in the test set is: \" + str(num_correct / len(preds)))\n",
    "f1_score(y_test, preds, average = None)"
   ]
  },
  {
   "cell_type": "code",
   "execution_count": null,
   "metadata": {
    "colab": {
     "base_uri": "https://localhost:8080/"
    },
    "id": "TWZEQcqFprre",
    "outputId": "78126937-6d01-4de9-9ec7-c7911437e4f3"
   },
   "outputs": [],
   "source": [
    "from sklearn.linear_model import Lasso, LogisticRegression\n",
    "from sklearn.metrics import f1_score\n",
    "model = LogisticRegression()\n",
    "model.fit(X_train, y_train)\n",
    "preds = model.predict(X_test)\n",
    "check = 0\n",
    "num_correct = 0\n",
    "for i in range(len(preds)):\n",
    "  if(preds[i] < 0.5):\n",
    "    preds[i] = 0\n",
    "  else:\n",
    "    preds[i] == 1\n",
    "for i in range(len(preds)):\n",
    "  if(preds[i].round() == y_test[i]):\n",
    "    num_correct += 1\n",
    "print(\"The fraction of correctly classified examples in the test set is: \" + str(num_correct / len(preds)))\n",
    "f1_score(y_test, preds, average = None)"
   ]
  },
  {
   "cell_type": "code",
   "execution_count": null,
   "metadata": {},
   "outputs": [],
   "source": []
  }
 ],
 "metadata": {
  "colab": {
   "collapsed_sections": [],
   "name": "PoliceKillingsClassifier.ipynb",
   "provenance": []
  },
  "kernelspec": {
   "display_name": "Python 3 (ipykernel)",
   "language": "python",
   "name": "python3"
  },
  "language_info": {
   "codemirror_mode": {
    "name": "ipython",
    "version": 3
   },
   "file_extension": ".py",
   "mimetype": "text/x-python",
   "name": "python",
   "nbconvert_exporter": "python",
   "pygments_lexer": "ipython3",
   "version": "3.9.7"
  }
 },
 "nbformat": 4,
 "nbformat_minor": 1
}
