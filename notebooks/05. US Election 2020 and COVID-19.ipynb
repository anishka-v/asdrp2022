{
 "cells": [
  {
   "cell_type": "markdown",
   "metadata": {},
   "source": [
    "# Exploring Relationships between US Election & COVID-19\n",
    "\n",
    "We have all been impacted by the pandemic this past year.\n",
    "\n",
    "Are there correlation between political beliefs and how we are impacted by COVID-19?  We use a proxy of political beliefs by using the recent presidential election by state, and infer if there is reason to believe that there are differential impact of COVID-19 to Americans.\n",
    "\n",
    "The data used in this notebook is taken as a snapshot right after the November 2020 election.\n",
    "\n",
    "<b>NULL Hypothesis</b>: there is no difference between political beliefs (or affiliation) and how we are impacted by COVID-19 in 2020."
   ]
  },
  {
   "cell_type": "code",
   "execution_count": null,
   "metadata": {},
   "outputs": [],
   "source": [
    "import numpy as np\n",
    "import pandas as pd\n",
    "import seaborn as sns\n",
    "import matplotlib.pyplot as plt\n",
    "import ssl\n",
    "\n",
    "ssl._create_default_https_context = ssl._create_unverified_context\n",
    "plt.rcParams['figure.figsize'] = (12,10)\n",
    "plt.rcParams['font.size'] = 14\n",
    "plt.style.use(\"fivethirtyeight\")\n",
    "%matplotlib inline"
   ]
  },
  {
   "cell_type": "markdown",
   "metadata": {},
   "source": [
    "## Data Sources\n",
    "\n",
    "Source: https://www.nbcnews.com/politics/2020-elections/president-results\n",
    "\n",
    "Date: November 14, 2020\n"
   ]
  },
  {
   "cell_type": "code",
   "execution_count": null,
   "metadata": {},
   "outputs": [],
   "source": [
    "presidential_results = \"../data/us-presidential-results-2020.csv\"\n",
    "\n",
    "presidential_data = pd.read_csv(presidential_results,\n",
    "                               index_col=\"state\",\n",
    "                               thousands=\",\")\n",
    "presidential_data.dtypes"
   ]
  },
  {
   "cell_type": "code",
   "execution_count": null,
   "metadata": {},
   "outputs": [],
   "source": [
    "presidential_data.tail(5)"
   ]
  },
  {
   "cell_type": "code",
   "execution_count": null,
   "metadata": {},
   "outputs": [],
   "source": [
    "presidential_data['voters'] = presidential_data.trump + presidential_data.biden\n",
    "presidential_data['trump_pct'] = 100*presidential_data.trump / presidential_data.voters\n",
    "presidential_data.head()"
   ]
  },
  {
   "cell_type": "markdown",
   "metadata": {},
   "source": [
    "## COVID-19 Data\n",
    "\n",
    "Source: https://covid.cdc.gov/covid-data-tracker/#cases_casesper100klast7days\n",
    "\n",
    "Date: November 14, 2020"
   ]
  },
  {
   "cell_type": "code",
   "execution_count": null,
   "metadata": {},
   "outputs": [],
   "source": [
    "covid_raw_cases = \"../data/us-covid-11-14-2020.csv\"\n",
    "\n",
    "covid_data = pd.read_csv(covid_raw_cases, skiprows=3)\n",
    "covid_data.rename(columns= { \"State/Territory\" : \"state\",\n",
    "                             \"Total Cases\" : \"cases\",\n",
    "                             \"Case Rate per 100000\" : \"case_rate\",\n",
    "                             \"Case Rate per 100000 in Last 7 Days\" : \"case_rate_7days\"\n",
    "                           },\n",
    "                  inplace=True)\n",
    "covid_data.shape"
   ]
  },
  {
   "cell_type": "code",
   "execution_count": null,
   "metadata": {},
   "outputs": [],
   "source": [
    "covid_data.head(5)"
   ]
  },
  {
   "cell_type": "code",
   "execution_count": null,
   "metadata": {},
   "outputs": [],
   "source": [
    "covid_data = covid_data[[\"state\", \"cases\", \"case_rate\", \"case_rate_7days\"]]\n",
    "covid_data.head()"
   ]
  },
  {
   "cell_type": "markdown",
   "metadata": {},
   "source": [
    "## Merging Voting data + COVID-19 data"
   ]
  },
  {
   "cell_type": "code",
   "execution_count": null,
   "metadata": {},
   "outputs": [],
   "source": [
    "data = presidential_data.join(covid_data.set_index('state'), on=\"state\", how=\"inner\")"
   ]
  },
  {
   "cell_type": "code",
   "execution_count": null,
   "metadata": {},
   "outputs": [],
   "source": [
    "data.dtypes"
   ]
  },
  {
   "cell_type": "code",
   "execution_count": null,
   "metadata": {},
   "outputs": [],
   "source": [
    "data"
   ]
  },
  {
   "cell_type": "markdown",
   "metadata": {},
   "source": [
    "## Visualizing"
   ]
  },
  {
   "cell_type": "code",
   "execution_count": null,
   "metadata": {},
   "outputs": [],
   "source": [
    "data.plot(kind='scatter', x='trump_pct', y='cases', alpha=0.5)"
   ]
  },
  {
   "cell_type": "code",
   "execution_count": null,
   "metadata": {},
   "outputs": [],
   "source": [
    "data.plot(kind='scatter', x='trump_pct', y='case_rate', alpha=0.5)"
   ]
  },
  {
   "cell_type": "code",
   "execution_count": null,
   "metadata": {},
   "outputs": [],
   "source": [
    "data.plot(kind='scatter', x='trump_pct', y='case_rate_7days', alpha=0.5)"
   ]
  },
  {
   "cell_type": "code",
   "execution_count": null,
   "metadata": {},
   "outputs": [],
   "source": [
    "# plotting a regression line\n",
    "sns.lmplot(x='trump_pct', y='case_rate_7days', data=data, aspect=1.6, scatter_kws={'alpha':0.2});\n",
    "plt.title(\"COVID Cases per 100,000 in the last 7 days & Trump Vote%\")\n",
    "plt.xlabel(\"Percentage of Trump Vote in 2020\")\n",
    "plt.ylabel(\"COVID Cases per 100,000 in week of 11/14/2020\")"
   ]
  },
  {
   "cell_type": "markdown",
   "metadata": {},
   "source": [
    "## Linear Regression in sklearn"
   ]
  },
  {
   "cell_type": "code",
   "execution_count": null,
   "metadata": {},
   "outputs": [],
   "source": [
    "# single variable linear regression\n",
    "feature_cols = ['trump_pct']\n",
    "X = data[feature_cols]\n",
    "y = data.case_rate_7days\n",
    "\n",
    "X.head()"
   ]
  },
  {
   "cell_type": "markdown",
   "metadata": {},
   "source": [
    "### sklearn 4-steps ML¶"
   ]
  },
  {
   "cell_type": "code",
   "execution_count": null,
   "metadata": {},
   "outputs": [],
   "source": [
    "# Step 1: Import the model class\n",
    "\n",
    "from sklearn.linear_model import LinearRegression"
   ]
  },
  {
   "cell_type": "code",
   "execution_count": null,
   "metadata": {},
   "outputs": [],
   "source": [
    "# Step 2: Instantiate the estimator\n",
    "\n",
    "model = LinearRegression()"
   ]
  },
  {
   "cell_type": "code",
   "execution_count": null,
   "metadata": {},
   "outputs": [],
   "source": [
    "# Step 3: Fit the model with data (training)\n",
    "\n",
    "model.fit(X.values,y)"
   ]
  },
  {
   "cell_type": "code",
   "execution_count": null,
   "metadata": {},
   "outputs": [],
   "source": [
    "# Step 4: Predict response for new inputs\n",
    "\n",
    "print(f\"0%: {model.predict([[0.0]])}\")\n",
    "print(f\"50%: {model.predict([[50.0]])}\")\n",
    "print(f\"100%: {model.predict([[100.0]])}\")"
   ]
  },
  {
   "cell_type": "markdown",
   "metadata": {},
   "source": [
    "Let's look at the _intercept_ and _coeff_ : bring back the algebra!"
   ]
  },
  {
   "cell_type": "code",
   "execution_count": null,
   "metadata": {},
   "outputs": [],
   "source": [
    "print(\"intercept: {0}, coeff: {1}\".\n",
    "      format(model.intercept_, model.coef_))"
   ]
  },
  {
   "cell_type": "markdown",
   "metadata": {},
   "source": [
    "Recall that each model always contains some amount of random irreducible error $\\epsilon$. So, given a prediction $\\hat{y}$, the actual $y = \\hat{y} + \\epsilon$. Below, we will assume $y$ is exactly linear.\n",
    "\n",
    "- We are often taught the formula for a line is: $y = mx + b$.\n",
    "- Note this can alternatively be written: $y = \\beta_0 + \\beta_1 x$.\n",
    "\n",
    "Interpreting the intercept ($\\beta_0$):\n",
    "\n",
    "- It is the value of $y$ when all independent variables are 0.\n",
    "- Here, it is the estimated # COVID-19 cases per 100,000 when the Trump vote percentage is 0.\n",
    "- **Note:** It does not always make sense to interpret the intercept. (Why?)\n",
    "\n",
    "Interpreting the \"trump_pct\" coefficient ($\\beta_1$):\n",
    "\n",
    "- **Interpretation:** An increase of 1 percentage for Trump is _associated with_ increasing the number of cases per 100,000 people in the state population by $\\beta_1$.\n",
    "- Here, a Trump vote percentage increase of 1 % in a state is _associated with_ an increase of 1.6 COVID-19 cases per 100,000 people in the state population.\n",
    "- This is not a statement of causation.\n",
    "- $\\beta_1$ would be **negative** if an increase in Trump vote percentage was associated with a **decrease** in # COVID-19 cases per 100,000 population.\n",
    "- $\\beta_1$ would be **zero** if Trump vote percentage is not associated with COVID-19 cases per 100,000 population.\n",
    "\n",
    "---\n",
    "\n",
    "---\n",
    "\n",
    "Here, we will generalize this to $n$ independent variables as follows:\n",
    "\n",
    "$y = \\beta_0 + \\beta_1x_1 + \\beta_2x_2 + ... + \\beta_nx_n + \\epsilon$\n",
    "\n",
    "- $y$ is the response.\n",
    "- $\\beta_0$ is the intercept.\n",
    "- $\\beta_1$ is the coefficient for $x_1$ (the first feature).\n",
    "- $\\beta_n$ is the coefficient for $x_n$ (the nth feature).\n",
    "- $\\epsilon$ is the _error_ term\n",
    "\n",
    "This equation is still called **linear** because the highest degree of the independent variables (e.g. $x_i$) is 1. Note that because the $\\beta$ values are constants, they will not be independent variables in the final model, as seen above.\n",
    "\n",
    "\n",
    "---\n",
    "\n",
    "The $\\beta$ values are called the **model coefficients**:\n",
    "\n",
    "- These values are estimated (or \"learned\") during the model fitting process using the **least squares criterion**.\n",
    "- Specifically, we are trying to find the line (mathematically) that minimizes the **sum of squared residuals** (or \"sum of squared errors\").\n",
    "- Once we've learned these coefficients, we can use the model to predict the response.\n",
    "\n",
    "![Estimating coefficients](./images/estimating_coefficients.png)\n",
    "\n",
    "In the diagram above:\n",
    "\n",
    "- The black dots are the **observed values** of x and y.\n",
    "- The blue line is our **least squares line**.\n",
    "- The red lines are the **residuals**, which are the vertical distances between the observed values and the least squares line.\n"
   ]
  },
  {
   "cell_type": "markdown",
   "metadata": {},
   "source": [
    "### Consider these 3 predictions again:"
   ]
  },
  {
   "cell_type": "code",
   "execution_count": null,
   "metadata": {},
   "outputs": [],
   "source": [
    "print(f\"0%: {model.predict([[0.0]])}\")\n",
    "print(f\"50%: {model.predict([[50.0]])}\")\n",
    "print(f\"100%: {model.predict([[100.0]])}\")"
   ]
  },
  {
   "cell_type": "code",
   "execution_count": null,
   "metadata": {},
   "outputs": [],
   "source": []
  }
 ],
 "metadata": {
  "kernelspec": {
   "display_name": "Python 3 (ipykernel)",
   "language": "python",
   "name": "python3"
  },
  "language_info": {
   "codemirror_mode": {
    "name": "ipython",
    "version": 3
   },
   "file_extension": ".py",
   "mimetype": "text/x-python",
   "name": "python",
   "nbconvert_exporter": "python",
   "pygments_lexer": "ipython3",
   "version": "3.9.7"
  }
 },
 "nbformat": 4,
 "nbformat_minor": 4
}
