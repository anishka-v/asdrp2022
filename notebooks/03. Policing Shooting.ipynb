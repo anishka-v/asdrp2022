{
 "cells": [
  {
   "cell_type": "markdown",
   "metadata": {},
   "source": [
    "# Understanding US Police Shooting Fatality\n",
    "\n",
    "Let's get granular police shooting data to check if what we hear in the hears about police shooting fatality is consistent with actual data.\n",
    "\n",
    "Source: Phil Mui\n",
    "\n",
    "Reference: bit.ly/mui-asdrp"
   ]
  },
  {
   "cell_type": "code",
   "execution_count": null,
   "metadata": {},
   "outputs": [],
   "source": [
    "# Police Shooting in 2020\n",
    "us_2020_url = 'http://findmarley.org/the-data/database/2020'\n",
    "us_2019_url = 'http://findmarley.org/the-data/database/2019'\n",
    "\n",
    "us_2020_file = '../data/marley-police-fatality-2020june.csv'\n",
    "us_2019_file = '../data/marley-police-fatality-2019.csv'"
   ]
  },
  {
   "cell_type": "code",
   "execution_count": null,
   "metadata": {},
   "outputs": [],
   "source": [
    "import numpy as np\n",
    "import pandas as pd\n",
    "\n",
    "pd.plotting.register_matplotlib_converters()\n",
    "import matplotlib.pyplot as plt\n",
    "import seaborn as sns\n",
    "import ssl\n",
    "\n",
    "ssl._create_default_https_context = ssl._create_unverified_context\n",
    "%matplotlib inline"
   ]
  },
  {
   "cell_type": "code",
   "execution_count": null,
   "metadata": {},
   "outputs": [],
   "source": [
    "# df = pd.read_html(us_2020_url)"
   ]
  },
  {
   "cell_type": "code",
   "execution_count": null,
   "metadata": {},
   "outputs": [],
   "source": [
    "df = pd.read_csv(us_2019_file, encoding='utf-8', index_col='ID', parse_dates=True)"
   ]
  },
  {
   "cell_type": "code",
   "execution_count": null,
   "metadata": {},
   "outputs": [],
   "source": [
    "df.shape"
   ]
  },
  {
   "cell_type": "code",
   "execution_count": null,
   "metadata": {},
   "outputs": [],
   "source": [
    "df.describe()"
   ]
  },
  {
   "cell_type": "code",
   "execution_count": null,
   "metadata": {},
   "outputs": [],
   "source": [
    "df.columns"
   ]
  },
  {
   "cell_type": "code",
   "execution_count": null,
   "metadata": {},
   "outputs": [],
   "source": [
    "df.head(3)"
   ]
  },
  {
   "cell_type": "code",
   "execution_count": null,
   "metadata": {},
   "outputs": [],
   "source": [
    "# need to sort index by Date\n",
    "\n",
    "df['DATE'] = pd.to_datetime(df.DATE)\n",
    "df.sort_values(by='DATE')\n",
    "df.head(5)"
   ]
  },
  {
   "cell_type": "code",
   "execution_count": null,
   "metadata": {},
   "outputs": [],
   "source": [
    "daily_count_series = df.groupby('DATE')['AGE'].count()\n",
    "daily_count_series.shape"
   ]
  },
  {
   "cell_type": "code",
   "execution_count": null,
   "metadata": {},
   "outputs": [],
   "source": [
    "daily_count_series.head(5)"
   ]
  },
  {
   "cell_type": "code",
   "execution_count": null,
   "metadata": {},
   "outputs": [],
   "source": [
    "fig = plt.figure(figsize=(14,6)); np.random.seed(123)\n",
    "\n",
    "plt.title(\"2019 Daily Police Fatal Shooting in US\")\n",
    "plot_ = sns.lineplot(data=daily_count_series)\n",
    "\n",
    "plt.ylabel('Daily Fatality')\n",
    "plt.xlabel('Date')\n",
    "\n",
    "plt.MaxNLocator(12)"
   ]
  },
  {
   "cell_type": "code",
   "execution_count": null,
   "metadata": {},
   "outputs": [],
   "source": [
    "print(plot_.get_xticklabels())"
   ]
  },
  {
   "cell_type": "code",
   "execution_count": null,
   "metadata": {},
   "outputs": [],
   "source": [
    "daily_count_series.tail(5)"
   ]
  },
  {
   "cell_type": "markdown",
   "metadata": {},
   "source": [
    "### Age distribution"
   ]
  },
  {
   "cell_type": "code",
   "execution_count": null,
   "metadata": {},
   "outputs": [],
   "source": [
    "age_death_input = df.groupby('AGE')['DATE'].size()"
   ]
  },
  {
   "cell_type": "code",
   "execution_count": null,
   "metadata": {},
   "outputs": [],
   "source": [
    "print(type(age_death_input))\n",
    "age_death_input.head(5)"
   ]
  },
  {
   "cell_type": "code",
   "execution_count": null,
   "metadata": {},
   "outputs": [],
   "source": [
    "del age_death_input[0]\n",
    "age_death_input.head(5)"
   ]
  },
  {
   "cell_type": "code",
   "execution_count": null,
   "metadata": {},
   "outputs": [],
   "source": [
    "# remove AGE=0 which means unspecified AGE\n",
    "age_death_input.shape"
   ]
  },
  {
   "cell_type": "code",
   "execution_count": null,
   "metadata": {},
   "outputs": [],
   "source": [
    "age_death_input.index.max()"
   ]
  },
  {
   "cell_type": "code",
   "execution_count": null,
   "metadata": {},
   "outputs": [],
   "source": [
    "zeros = np.zeros(age_death_input.index.max())\n",
    "len(zeros)"
   ]
  },
  {
   "cell_type": "code",
   "execution_count": null,
   "metadata": {},
   "outputs": [],
   "source": [
    "type(zeros)"
   ]
  },
  {
   "cell_type": "code",
   "execution_count": null,
   "metadata": {},
   "outputs": [],
   "source": [
    "age_death = pd.DataFrame(zeros, \n",
    "                         columns=['DEATHS'],\n",
    "                         dtype='int32',\n",
    "                         index=np.arange(1, len(zeros)+1))\n",
    "age_death"
   ]
  },
  {
   "cell_type": "code",
   "execution_count": null,
   "metadata": {},
   "outputs": [],
   "source": [
    "for age,deaths in age_death_input.items():\n",
    "    age_death.at[age,'DEATHS'] = deaths"
   ]
  },
  {
   "cell_type": "code",
   "execution_count": null,
   "metadata": {},
   "outputs": [],
   "source": [
    "age_death"
   ]
  },
  {
   "cell_type": "code",
   "execution_count": null,
   "metadata": {},
   "outputs": [],
   "source": [
    "fig = plt.figure(figsize=(14,6)); np.random.seed(123)\n",
    "\n",
    "plt.title(\"Age Distribution of 2019 Police Fatal Shooting in US\")\n",
    "# ax = sns.barplot(x=age_death.index, y=age_death)\n",
    "ax = sns.barplot(x=age_death.index, y=age_death['DEATHS'])\n",
    "\n",
    "plt.ylabel('# Deaths')\n",
    "plt.xlabel('Age')\n",
    "\n",
    "for label in ax.get_xticklabels()[::2]:\n",
    "    label.set_visible(False)"
   ]
  },
  {
   "cell_type": "code",
   "execution_count": null,
   "metadata": {},
   "outputs": [],
   "source": [
    "sns.set(color_codes=True)\n",
    "fig = plt.figure(figsize=(14,6)); np.random.seed(123)\n",
    "\n",
    "plt.title(\"Age Distribution of 2019 Police Fatal Shooting in US\")\n",
    "ax = sns.kdeplot(df.AGE, shade=True)\n",
    "\n",
    "plt.ylabel('Density')\n",
    "plt.xlabel('Age')\n",
    "plt.xlim(0, None)\n",
    "\n",
    "#for label in ax.get_xticklabels()[::2]:\n",
    "#    label.set_visible(False)"
   ]
  },
  {
   "cell_type": "code",
   "execution_count": null,
   "metadata": {},
   "outputs": [],
   "source": [
    "df.groupby(['GENDER', 'RACE'])['DATE'].count()"
   ]
  },
  {
   "cell_type": "markdown",
   "metadata": {},
   "source": [
    "## US Population Characteriziation\n",
    "\n",
    "Source: https://www.census.gov/quickfacts/fact/table/US/IPE120218\n",
    "\n",
    "Population estimates, July 1, 2019, (V2019)\t328,239,523\n",
    "\n",
    "| Race and Ethnicity | Percentage | People |\n",
    "| -------------------| -----------|--------|\n",
    "| White                               | 76.5% | 251103235|\n",
    "| Black or African American           | 13.4% | 43984096 |\n",
    "| American Indian and Alaska Native   | 1.3%  | 4267114  |\n",
    "| Asian                               | 5.9%  | 19366132 |\n",
    "| Native Hawaiian Pacific Islander    | 0.2%  | 656479   |\n",
    "| Two or More Races                   | 2.7%  | 8862467  |\n",
    "| Hispanic or Latino                  | 18.3% | 60067833 |\n",
    "| White alone, not Hispanic or Latino | 60.4% | 198256672|\n",
    "\n"
   ]
  },
  {
   "cell_type": "code",
   "execution_count": null,
   "metadata": {},
   "outputs": [],
   "source": [
    "race_death_count = df.groupby(['RACE'])['DATE'].count()\n",
    "race_death_count"
   ]
  },
  {
   "cell_type": "code",
   "execution_count": null,
   "metadata": {},
   "outputs": [],
   "source": [
    "US_POPULATION_2019 = 328239523"
   ]
  },
  {
   "cell_type": "code",
   "execution_count": null,
   "metadata": {},
   "outputs": [],
   "source": [
    "race_data = pd.DataFrame({ 'Race' : \n",
    "                                [\n",
    "                                 'Asian/Pacific Islander', \n",
    "                                 'European-American/White', \n",
    "                                 'Native American/Alaskan',\n",
    "                                 'Hispanic/Latino',\n",
    "                                 'African-American/Black', \n",
    "                                ],\n",
    "                            'Population' :\n",
    "                                 [\n",
    "                                  19366132+656479,\n",
    "                                  251103235, \n",
    "                                  4267114,\n",
    "                                  60067833,\n",
    "                                  43984096, \n",
    "                                  ],\n",
    "                             'Deaths' : np.zeros(5),\n",
    "                             'Rate' : np.zeros(5)\n",
    "                         })\n",
    "race_data.set_index('Race')"
   ]
  },
  {
   "cell_type": "code",
   "execution_count": null,
   "metadata": {},
   "outputs": [],
   "source": [
    "# calculate deaths per 100,000 people\n",
    "\n",
    "for race,deaths in race_death_count.items():\n",
    "    population = race_data.loc[ race_data['Race']==race ]['Population']\n",
    "    scale = population / US_POPULATION_2019 * 100000.0\n",
    "    \n",
    "    race_data.loc[ race_data['Race']==race, 'Deaths'] = deaths\n",
    "    race_data.loc[ race_data['Race']==race, 'Rate'] = deaths / scale\n"
   ]
  },
  {
   "cell_type": "code",
   "execution_count": null,
   "metadata": {},
   "outputs": [],
   "source": [
    "race_data"
   ]
  },
  {
   "cell_type": "code",
   "execution_count": null,
   "metadata": {},
   "outputs": [],
   "source": [
    "fig = plt.figure(figsize=(14,6)); np.random.seed(123)\n",
    "\n",
    "plt.title(\"2019 US Police Fatal Shooting Death per 100,000\")\n",
    "ax = sns.barplot(x=race_data.Race, y=race_data.Rate)\n",
    "\n",
    "plt.ylabel('Death per 100,000')\n",
    "plt.xlabel('')"
   ]
  },
  {
   "cell_type": "code",
   "execution_count": null,
   "metadata": {},
   "outputs": [],
   "source": [
    "df.groupby('RACE')['AGE'].mean()"
   ]
  },
  {
   "cell_type": "code",
   "execution_count": null,
   "metadata": {},
   "outputs": [],
   "source": [
    "df.groupby(['RACE', 'GENDER'])['AGE'].mean()"
   ]
  },
  {
   "cell_type": "code",
   "execution_count": null,
   "metadata": {},
   "outputs": [],
   "source": []
  },
  {
   "cell_type": "code",
   "execution_count": null,
   "metadata": {},
   "outputs": [],
   "source": []
  }
 ],
 "metadata": {
  "kernelspec": {
   "display_name": "Python 3 (ipykernel)",
   "language": "python",
   "name": "python3"
  },
  "language_info": {
   "codemirror_mode": {
    "name": "ipython",
    "version": 3
   },
   "file_extension": ".py",
   "mimetype": "text/x-python",
   "name": "python",
   "nbconvert_exporter": "python",
   "pygments_lexer": "ipython3",
   "version": "3.9.7"
  }
 },
 "nbformat": 4,
 "nbformat_minor": 4
}
