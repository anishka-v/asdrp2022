{
 "cells": [
  {
   "cell_type": "markdown",
   "id": "a52a2ba2",
   "metadata": {},
   "source": [
    "# Word Vectors\n",
    "\n",
    "In this notebook, we create word vectors from a corpus of public-domain books, a selection from [Project Gutenberg](https://www.gutenberg.org/)."
   ]
  },
  {
   "cell_type": "code",
   "execution_count": 1,
   "id": "20fe24a0",
   "metadata": {},
   "outputs": [],
   "source": [
    "import nltk\n",
    "from nltk import word_tokenize, sent_tokenize\n",
    "import gensim\n",
    "from gensim.models.word2vec import Word2Vec\n",
    "from sklearn.manifold import TSNE\n",
    "import pandas as pd\n",
    "from bokeh.io import output_notebook\n",
    "from bokeh.plotting import show, figure"
   ]
  },
  {
   "cell_type": "markdown",
   "id": "ddec633c",
   "metadata": {},
   "source": [
    "Download an English-language sentence tokenizer (not all periods end sentences; not all sentences start with a capital letter)"
   ]
  },
  {
   "cell_type": "code",
   "execution_count": 2,
   "id": "5ba081bd",
   "metadata": {},
   "outputs": [
    {
     "name": "stderr",
     "output_type": "stream",
     "text": [
      "[nltk_data] Downloading package punkt to /Users/pmui/nltk_data...\n",
      "[nltk_data]   Package punkt is already up-to-date!\n"
     ]
    },
    {
     "data": {
      "text/plain": [
       "True"
      ]
     },
     "execution_count": 2,
     "metadata": {},
     "output_type": "execute_result"
    }
   ],
   "source": [
    "nltk.download('punkt') "
   ]
  },
  {
   "cell_type": "code",
   "execution_count": 3,
   "id": "60fe3cf4",
   "metadata": {},
   "outputs": [
    {
     "name": "stderr",
     "output_type": "stream",
     "text": [
      "[nltk_data] Downloading package gutenberg to /Users/pmui/nltk_data...\n",
      "[nltk_data]   Package gutenberg is already up-to-date!\n"
     ]
    },
    {
     "data": {
      "text/plain": [
       "True"
      ]
     },
     "execution_count": 3,
     "metadata": {},
     "output_type": "execute_result"
    }
   ],
   "source": [
    "nltk.download('gutenberg')"
   ]
  },
  {
   "cell_type": "code",
   "execution_count": 5,
   "id": "d9995f12",
   "metadata": {},
   "outputs": [
    {
     "data": {
      "text/plain": [
       "18"
      ]
     },
     "execution_count": 5,
     "metadata": {},
     "output_type": "execute_result"
    }
   ],
   "source": [
    "from nltk.corpus import gutenberg\n",
    "len(gutenberg.fileids())"
   ]
  },
  {
   "cell_type": "code",
   "execution_count": 6,
   "id": "c3d3f349",
   "metadata": {},
   "outputs": [
    {
     "data": {
      "text/plain": [
       "['austen-emma.txt',\n",
       " 'austen-persuasion.txt',\n",
       " 'austen-sense.txt',\n",
       " 'bible-kjv.txt',\n",
       " 'blake-poems.txt',\n",
       " 'bryant-stories.txt',\n",
       " 'burgess-busterbrown.txt',\n",
       " 'carroll-alice.txt',\n",
       " 'chesterton-ball.txt',\n",
       " 'chesterton-brown.txt',\n",
       " 'chesterton-thursday.txt',\n",
       " 'edgeworth-parents.txt',\n",
       " 'melville-moby_dick.txt',\n",
       " 'milton-paradise.txt',\n",
       " 'shakespeare-caesar.txt',\n",
       " 'shakespeare-hamlet.txt',\n",
       " 'shakespeare-macbeth.txt',\n",
       " 'whitman-leaves.txt']"
      ]
     },
     "execution_count": 6,
     "metadata": {},
     "output_type": "execute_result"
    }
   ],
   "source": [
    "gutenberg.fileids()"
   ]
  },
  {
   "cell_type": "markdown",
   "id": "0eb8b558",
   "metadata": {},
   "source": [
    "Tokenize the whole Gutenberg dataset to start"
   ]
  },
  {
   "cell_type": "code",
   "execution_count": 56,
   "id": "4348938a",
   "metadata": {},
   "outputs": [
    {
     "data": {
      "text/plain": [
       "[['[', 'Emma', 'by', 'Jane', 'Austen', '1816', ']'],\n",
       " ['VOLUME', 'I'],\n",
       " ['CHAPTER', 'I'],\n",
       " ['Emma',\n",
       "  'Woodhouse',\n",
       "  ',',\n",
       "  'handsome',\n",
       "  ',',\n",
       "  'clever',\n",
       "  ',',\n",
       "  'and',\n",
       "  'rich',\n",
       "  ',',\n",
       "  'with',\n",
       "  'a',\n",
       "  'comfortable',\n",
       "  'home',\n",
       "  'and',\n",
       "  'happy',\n",
       "  'disposition',\n",
       "  ',',\n",
       "  'seemed',\n",
       "  'to',\n",
       "  'unite',\n",
       "  'some',\n",
       "  'of',\n",
       "  'the',\n",
       "  'best',\n",
       "  'blessings',\n",
       "  'of',\n",
       "  'existence',\n",
       "  ';',\n",
       "  'and',\n",
       "  'had',\n",
       "  'lived',\n",
       "  'nearly',\n",
       "  'twenty',\n",
       "  '-',\n",
       "  'one',\n",
       "  'years',\n",
       "  'in',\n",
       "  'the',\n",
       "  'world',\n",
       "  'with',\n",
       "  'very',\n",
       "  'little',\n",
       "  'to',\n",
       "  'distress',\n",
       "  'or',\n",
       "  'vex',\n",
       "  'her',\n",
       "  '.'],\n",
       " ['She',\n",
       "  'was',\n",
       "  'the',\n",
       "  'youngest',\n",
       "  'of',\n",
       "  'the',\n",
       "  'two',\n",
       "  'daughters',\n",
       "  'of',\n",
       "  'a',\n",
       "  'most',\n",
       "  'affectionate',\n",
       "  ',',\n",
       "  'indulgent',\n",
       "  'father',\n",
       "  ';',\n",
       "  'and',\n",
       "  'had',\n",
       "  ',',\n",
       "  'in',\n",
       "  'consequence',\n",
       "  'of',\n",
       "  'her',\n",
       "  'sister',\n",
       "  \"'\",\n",
       "  's',\n",
       "  'marriage',\n",
       "  ',',\n",
       "  'been',\n",
       "  'mistress',\n",
       "  'of',\n",
       "  'his',\n",
       "  'house',\n",
       "  'from',\n",
       "  'a',\n",
       "  'very',\n",
       "  'early',\n",
       "  'period',\n",
       "  '.'],\n",
       " ['Her',\n",
       "  'mother',\n",
       "  'had',\n",
       "  'died',\n",
       "  'too',\n",
       "  'long',\n",
       "  'ago',\n",
       "  'for',\n",
       "  'her',\n",
       "  'to',\n",
       "  'have',\n",
       "  'more',\n",
       "  'than',\n",
       "  'an',\n",
       "  'indistinct',\n",
       "  'remembrance',\n",
       "  'of',\n",
       "  'her',\n",
       "  'caresses',\n",
       "  ';',\n",
       "  'and',\n",
       "  'her',\n",
       "  'place',\n",
       "  'had',\n",
       "  'been',\n",
       "  'supplied',\n",
       "  'by',\n",
       "  'an',\n",
       "  'excellent',\n",
       "  'woman',\n",
       "  'as',\n",
       "  'governess',\n",
       "  ',',\n",
       "  'who',\n",
       "  'had',\n",
       "  'fallen',\n",
       "  'little',\n",
       "  'short',\n",
       "  'of',\n",
       "  'a',\n",
       "  'mother',\n",
       "  'in',\n",
       "  'affection',\n",
       "  '.']]"
      ]
     },
     "execution_count": 56,
     "metadata": {},
     "output_type": "execute_result"
    }
   ],
   "source": [
    "sent_tokens = gutenberg.sents()\n",
    "sent_tokens[0:6]"
   ]
  },
  {
   "cell_type": "code",
   "execution_count": 57,
   "id": "678e9e4e",
   "metadata": {
    "scrolled": true
   },
   "outputs": [
    {
     "data": {
      "text/plain": [
       "['She',\n",
       " 'was',\n",
       " 'the',\n",
       " 'youngest',\n",
       " 'of',\n",
       " 'the',\n",
       " 'two',\n",
       " 'daughters',\n",
       " 'of',\n",
       " 'a',\n",
       " 'most',\n",
       " 'affectionate',\n",
       " ',',\n",
       " 'indulgent',\n",
       " 'father',\n",
       " ';',\n",
       " 'and',\n",
       " 'had',\n",
       " ',',\n",
       " 'in',\n",
       " 'consequence',\n",
       " 'of',\n",
       " 'her',\n",
       " 'sister',\n",
       " \"'\",\n",
       " 's',\n",
       " 'marriage',\n",
       " ',',\n",
       " 'been',\n",
       " 'mistress',\n",
       " 'of',\n",
       " 'his',\n",
       " 'house',\n",
       " 'from',\n",
       " 'a',\n",
       " 'very',\n",
       " 'early',\n",
       " 'period',\n",
       " '.']"
      ]
     },
     "execution_count": 57,
     "metadata": {},
     "output_type": "execute_result"
    }
   ],
   "source": [
    "sent_tokens[4]"
   ]
  },
  {
   "cell_type": "markdown",
   "id": "34f41325",
   "metadata": {},
   "source": [
    "Running Word2Vec to get the word vectors for Emma"
   ]
  },
  {
   "cell_type": "code",
   "execution_count": 58,
   "id": "e554d57d",
   "metadata": {},
   "outputs": [
    {
     "data": {
      "text/plain": [
       "2621613"
      ]
     },
     "execution_count": 58,
     "metadata": {},
     "output_type": "execute_result"
    }
   ],
   "source": [
    "len(gutenberg.words())"
   ]
  },
  {
   "cell_type": "code",
   "execution_count": 59,
   "id": "47c7881d",
   "metadata": {},
   "outputs": [],
   "source": [
    "#model = Word2Vec(sentences=sent_tokens, vector_size=64, sg=1, window=10, min_count=5, workers=8)"
   ]
  },
  {
   "cell_type": "code",
   "execution_count": 60,
   "id": "097a79b4",
   "metadata": {},
   "outputs": [],
   "source": [
    "#model.save(\"raw_gutenberg_model.w2v\")"
   ]
  },
  {
   "cell_type": "code",
   "execution_count": 27,
   "id": "26fdb774",
   "metadata": {},
   "outputs": [],
   "source": [
    "# loading a saved model\n",
    "model = gensim.models.Word2Vec.load(\"raw_gutenberg_model.w2v\")"
   ]
  },
  {
   "cell_type": "code",
   "execution_count": 61,
   "id": "c541c3b5",
   "metadata": {},
   "outputs": [
    {
     "data": {
      "text/plain": [
       "array([ 0.01370176,  0.22500455, -0.05491016, -0.1497299 , -0.39918563,\n",
       "       -0.9466593 , -0.23806794,  0.06541684, -0.5867431 ,  0.30739272,\n",
       "        0.29969707, -1.0434798 , -0.6723457 ,  0.23000027, -0.02115234,\n",
       "        0.367245  ,  0.29904786,  0.08746465, -0.24358644,  0.22357315,\n",
       "       -0.76923054,  0.09547183, -0.7056944 , -0.01593498,  0.11702862,\n",
       "        0.03967537, -0.84854954,  0.30024785, -0.45569143, -0.22919582,\n",
       "        0.16489261,  0.4144973 ,  0.15083969, -0.46133596,  0.48821652,\n",
       "       -0.20048411, -0.06484802, -0.01160421,  0.17056887,  0.726382  ,\n",
       "        0.05902689,  0.254967  ,  0.05261955,  0.07178308, -0.18504174,\n",
       "        0.8067065 , -0.5149449 , -0.57864046, -0.24244928,  0.02294801,\n",
       "       -0.34703016,  0.28952575,  0.15114594, -0.6846604 ,  0.22382724,\n",
       "        0.8493356 ,  0.22802389, -0.13548031,  0.30732042,  0.73340213,\n",
       "       -0.70284235, -0.18872747,  0.4432426 ,  0.63178104], dtype=float32)"
      ]
     },
     "execution_count": 61,
     "metadata": {},
     "output_type": "execute_result"
    }
   ],
   "source": [
    "model.wv['family']"
   ]
  },
  {
   "cell_type": "code",
   "execution_count": 62,
   "id": "b84588de",
   "metadata": {},
   "outputs": [
    {
     "data": {
      "text/plain": [
       "64"
      ]
     },
     "execution_count": 62,
     "metadata": {},
     "output_type": "execute_result"
    }
   ],
   "source": [
    "len(model.wv['family'])"
   ]
  },
  {
   "cell_type": "code",
   "execution_count": 63,
   "id": "521ca5d2",
   "metadata": {},
   "outputs": [
    {
     "data": {
      "text/plain": [
       "[('tribe', 0.7183826565742493),\n",
       " ('families', 0.7014538049697876),\n",
       " ('possession', 0.6622105240821838),\n",
       " ('estate', 0.6603050231933594),\n",
       " ('married', 0.6488141417503357),\n",
       " ('Simeon', 0.645974338054657),\n",
       " ('Hebronites', 0.6380577087402344),\n",
       " ('principal', 0.6346883773803711),\n",
       " ('Levi', 0.6340548396110535),\n",
       " ('Yorkshire', 0.6309234499931335)]"
      ]
     },
     "execution_count": 63,
     "metadata": {},
     "output_type": "execute_result"
    }
   ],
   "source": [
    "model.wv.most_similar('family')"
   ]
  },
  {
   "cell_type": "code",
   "execution_count": 64,
   "id": "c6f8ad5e",
   "metadata": {},
   "outputs": [
    {
     "data": {
      "text/plain": [
       "[('sister', 0.8769340515136719),\n",
       " ('father', 0.8622261881828308),\n",
       " ('brother', 0.8195726871490479),\n",
       " ('husband', 0.8162870407104492),\n",
       " ('wife', 0.8079290390014648),\n",
       " ('daughter', 0.7986083030700684),\n",
       " ('child', 0.7753573656082153),\n",
       " ('Amnon', 0.7469168305397034),\n",
       " ('Mary', 0.7448557615280151),\n",
       " ('nurse', 0.7387875914573669)]"
      ]
     },
     "execution_count": 64,
     "metadata": {},
     "output_type": "execute_result"
    }
   ],
   "source": [
    "model.wv.most_similar('mother')"
   ]
  },
  {
   "cell_type": "code",
   "execution_count": 65,
   "id": "ca0ac3a1",
   "metadata": {},
   "outputs": [
    {
     "data": {
      "text/plain": [
       "[('evening', 0.8844550251960754),\n",
       " ('day', 0.790565013885498),\n",
       " ('early', 0.779312252998352),\n",
       " ('night', 0.7577750086784363),\n",
       " ('afternoon', 0.7505846619606018),\n",
       " ('dinner', 0.7242652773857117),\n",
       " ('week', 0.722480297088623),\n",
       " ('Saturday', 0.7215426564216614),\n",
       " ('Early', 0.7043284177780151),\n",
       " ('morrow', 0.7010214924812317)]"
      ]
     },
     "execution_count": 65,
     "metadata": {},
     "output_type": "execute_result"
    }
   ],
   "source": [
    "model.wv.most_similar('morning')"
   ]
  },
  {
   "cell_type": "code",
   "execution_count": 66,
   "id": "d42e7208",
   "metadata": {},
   "outputs": [
    {
     "data": {
      "text/plain": [
       "'carriage'"
      ]
     },
     "execution_count": 66,
     "metadata": {},
     "output_type": "execute_result"
    }
   ],
   "source": [
    "model.wv.doesnt_match(\"mother father sister carriage\".split())"
   ]
  },
  {
   "cell_type": "code",
   "execution_count": 67,
   "id": "be77cfca",
   "metadata": {},
   "outputs": [
    {
     "data": {
      "text/plain": [
       "0.8622261"
      ]
     },
     "execution_count": 67,
     "metadata": {},
     "output_type": "execute_result"
    }
   ],
   "source": [
    "model.wv.similarity('father', 'mother')"
   ]
  },
  {
   "cell_type": "code",
   "execution_count": 68,
   "id": "2b0ad914",
   "metadata": {},
   "outputs": [
    {
     "data": {
      "text/plain": [
       "0.57134414"
      ]
     },
     "execution_count": 68,
     "metadata": {},
     "output_type": "execute_result"
    }
   ],
   "source": [
    "model.wv.similarity('father', 'house')"
   ]
  },
  {
   "cell_type": "code",
   "execution_count": 69,
   "id": "73baf8ef",
   "metadata": {},
   "outputs": [
    {
     "data": {
      "text/plain": [
       "[('wife', 0.7734214067459106),\n",
       " ('mother', 0.7695086598396301),\n",
       " ('daughter', 0.7631699442863464),\n",
       " ('husband', 0.7569361925125122),\n",
       " ('sister', 0.752987802028656),\n",
       " ('brother', 0.724442720413208),\n",
       " ('daughters', 0.7116524577140808),\n",
       " ('Rachel', 0.704686164855957),\n",
       " ('Sarah', 0.7033936977386475),\n",
       " ('Sarai', 0.6915766596794128)]"
      ]
     },
     "execution_count": 69,
     "metadata": {},
     "output_type": "execute_result"
    }
   ],
   "source": [
    "model.wv.most_similar(positive=['father', 'woman'], negative=['man'])"
   ]
  },
  {
   "cell_type": "code",
   "execution_count": 70,
   "id": "5869983c",
   "metadata": {},
   "outputs": [
    {
     "data": {
      "text/plain": [
       "[('loved', 0.6622974276542664),\n",
       " ('dearly', 0.6467137932777405),\n",
       " ('lewdness', 0.6300287246704102),\n",
       " ('remembrance', 0.6279667615890503),\n",
       " ('chaste', 0.6238080263137817),\n",
       " ('blessings', 0.6226779818534851),\n",
       " ('lovers', 0.6211674809455872),\n",
       " ('praise', 0.6199450492858887),\n",
       " ('charity', 0.6140302419662476),\n",
       " ('whoredoms', 0.6042092442512512)]"
      ]
     },
     "execution_count": 70,
     "metadata": {},
     "output_type": "execute_result"
    }
   ],
   "source": [
    "model.wv.most_similar(positive=['love', 'woman'], negative=['man'])"
   ]
  },
  {
   "cell_type": "markdown",
   "id": "aed48739",
   "metadata": {},
   "source": [
    "## Dimensionality Reduction to 2-D for Visualization"
   ]
  },
  {
   "cell_type": "code",
   "execution_count": 71,
   "id": "3694a26f",
   "metadata": {},
   "outputs": [
    {
     "data": {
      "text/plain": [
       "17011"
      ]
     },
     "execution_count": 71,
     "metadata": {},
     "output_type": "execute_result"
    }
   ],
   "source": [
    "len(model.wv.key_to_index)"
   ]
  },
  {
   "cell_type": "code",
   "execution_count": 77,
   "id": "e0e7a21d",
   "metadata": {},
   "outputs": [],
   "source": [
    "tsne = TSNE(n_components=2, n_iter=1000, init='pca')  "
   ]
  },
  {
   "cell_type": "code",
   "execution_count": 78,
   "id": "728f6c87",
   "metadata": {},
   "outputs": [
    {
     "name": "stderr",
     "output_type": "stream",
     "text": [
      "/Users/pmui/opt/anaconda3/lib/python3.9/site-packages/sklearn/manifold/_t_sne.py:790: FutureWarning: The default learning rate in TSNE will change from 200.0 to 'auto' in 1.2.\n",
      "  warnings.warn(\n",
      "/Users/pmui/opt/anaconda3/lib/python3.9/site-packages/sklearn/manifold/_t_sne.py:982: FutureWarning: The PCA initialization in TSNE will change to have the standard deviation of PC1 equal to 1e-4 in 1.2. This will ensure better convergence.\n",
      "  warnings.warn(\n"
     ]
    }
   ],
   "source": [
    "X = model.wv[model.wv.key_to_index]\n",
    "X_2d = tsne.fit_transform(X)"
   ]
  },
  {
   "cell_type": "code",
   "execution_count": 79,
   "id": "80a0979f",
   "metadata": {},
   "outputs": [
    {
     "data": {
      "text/plain": [
       "array([[ -6.8539524, -37.36104  ],\n",
       "       [ -6.779822 , -37.361275 ],\n",
       "       [ -6.7653074, -37.521152 ],\n",
       "       [ -7.761465 , -38.0432   ],\n",
       "       [ -6.3467727, -37.577957 ]], dtype=float32)"
      ]
     },
     "execution_count": 79,
     "metadata": {},
     "output_type": "execute_result"
    }
   ],
   "source": [
    "X_2d[0:5]"
   ]
  },
  {
   "cell_type": "code",
   "execution_count": 81,
   "id": "53fbb973",
   "metadata": {},
   "outputs": [],
   "source": [
    "coords_df = pd.DataFrame(X_2d, columns=['x', 'y'])\n",
    "coords_df['token'] = model.wv.key_to_index.keys()"
   ]
  },
  {
   "cell_type": "code",
   "execution_count": 82,
   "id": "dafcbe43",
   "metadata": {},
   "outputs": [],
   "source": [
    "#coords_df.to_csv('raw_gutenberg_tsne.csv', index=False)"
   ]
  },
  {
   "cell_type": "markdown",
   "id": "ad5b69b5",
   "metadata": {},
   "source": [
    "## Visualize 2D representation of word vectors"
   ]
  },
  {
   "cell_type": "code",
   "execution_count": 83,
   "id": "c18be332",
   "metadata": {},
   "outputs": [
    {
     "data": {
      "text/html": [
       "<div>\n",
       "<style scoped>\n",
       "    .dataframe tbody tr th:only-of-type {\n",
       "        vertical-align: middle;\n",
       "    }\n",
       "\n",
       "    .dataframe tbody tr th {\n",
       "        vertical-align: top;\n",
       "    }\n",
       "\n",
       "    .dataframe thead th {\n",
       "        text-align: right;\n",
       "    }\n",
       "</style>\n",
       "<table border=\"1\" class=\"dataframe\">\n",
       "  <thead>\n",
       "    <tr style=\"text-align: right;\">\n",
       "      <th></th>\n",
       "      <th>x</th>\n",
       "      <th>y</th>\n",
       "      <th>token</th>\n",
       "    </tr>\n",
       "  </thead>\n",
       "  <tbody>\n",
       "    <tr>\n",
       "      <th>0</th>\n",
       "      <td>-6.853952</td>\n",
       "      <td>-37.361040</td>\n",
       "      <td>,</td>\n",
       "    </tr>\n",
       "    <tr>\n",
       "      <th>1</th>\n",
       "      <td>-6.779822</td>\n",
       "      <td>-37.361275</td>\n",
       "      <td>the</td>\n",
       "    </tr>\n",
       "    <tr>\n",
       "      <th>2</th>\n",
       "      <td>-6.765307</td>\n",
       "      <td>-37.521152</td>\n",
       "      <td>and</td>\n",
       "    </tr>\n",
       "    <tr>\n",
       "      <th>3</th>\n",
       "      <td>-7.761465</td>\n",
       "      <td>-38.043200</td>\n",
       "      <td>.</td>\n",
       "    </tr>\n",
       "    <tr>\n",
       "      <th>4</th>\n",
       "      <td>-6.346773</td>\n",
       "      <td>-37.577957</td>\n",
       "      <td>of</td>\n",
       "    </tr>\n",
       "  </tbody>\n",
       "</table>\n",
       "</div>"
      ],
      "text/plain": [
       "          x          y token\n",
       "0 -6.853952 -37.361040     ,\n",
       "1 -6.779822 -37.361275   the\n",
       "2 -6.765307 -37.521152   and\n",
       "3 -7.761465 -38.043200     .\n",
       "4 -6.346773 -37.577957    of"
      ]
     },
     "execution_count": 83,
     "metadata": {},
     "output_type": "execute_result"
    }
   ],
   "source": [
    "coords_df = pd.read_csv('raw_gutenberg_tsne.csv')\n",
    "coords_df.head()"
   ]
  },
  {
   "cell_type": "code",
   "execution_count": 84,
   "id": "e513404e",
   "metadata": {},
   "outputs": [
    {
     "data": {
      "image/png": "[encoded data removed]",
      "text/plain": [
       "<Figure size 864x864 with 1 Axes>"
      ]
     },
     "metadata": {
      "needs_background": "light"
     },
     "output_type": "display_data"
    }
   ],
   "source": [
    "_ = coords_df.plot.scatter('x', 'y', figsize=(12,12), marker='.', s=10, alpha=0.2)"
   ]
  },
  {
   "cell_type": "code",
   "execution_count": 85,
   "id": "24479d8d",
   "metadata": {},
   "outputs": [
    {
     "data": {
      "text/html": [
       "<div class=\"bk-root\">\n",
       "        <a href=\"https://bokeh.org\" target=\"_blank\" class=\"bk-logo bk-logo-small bk-logo-notebook\"></a>\n",
       "        <span id=\"1002\">Loading BokehJS ...</span>\n",
       "    </div>\n"
      ]
     },
     "metadata": {},
     "output_type": "display_data"
    },
    {
     "data": {
      "application/javascript": [
       "(function(root) {\n",
       "  function now() {\n",
       "    return new Date();\n",
       "  }\n",
       "\n",
       "  const force = true;\n",
       "\n",
       "  if (typeof root._bokeh_onload_callbacks === \"undefined\" || force === true) {\n",
       "    root._bokeh_onload_callbacks = [];\n",
       "    root._bokeh_is_loading = undefined;\n",
       "  }\n",
       "\n",
       "const JS_MIME_TYPE = 'application/javascript';\n",
       "  const HTML_MIME_TYPE = 'text/html';\n",
       "  const EXEC_MIME_TYPE = 'application/vnd.bokehjs_exec.v0+json';\n",
       "  const CLASS_NAME = 'output_bokeh rendered_html';\n",
       "\n",
       "  /**\n",
       "   * Render data to the DOM node\n",
       "   */\n",
       "  function render(props, node) {\n",
       "    const script = document.createElement(\"script\");\n",
       "    node.appendChild(script);\n",
       "  }\n",
       "\n",
       "  /**\n",
       "   * Handle when an output is cleared or removed\n",
       "   */\n",
       "  function handleClearOutput(event, handle) {\n",
       "    const cell = handle.cell;\n",
       "\n",
       "    const id = cell.output_area._bokeh_element_id;\n",
       "    const server_id = cell.output_area._bokeh_server_id;\n",
       "    // Clean up Bokeh references\n",
       "    if (id != null && id in Bokeh.index) {\n",
       "      Bokeh.index[id].model.document.clear();\n",
       "      delete Bokeh.index[id];\n",
       "    }\n",
       "\n",
       "    if (server_id !== undefined) {\n",
       "      // Clean up Bokeh references\n",
       "      const cmd_clean = \"from bokeh.io.state import curstate; print(curstate().uuid_to_server['\" + server_id + \"'].get_sessions()[0].document.roots[0]._id)\";\n",
       "      cell.notebook.kernel.execute(cmd_clean, {\n",
       "        iopub: {\n",
       "          output: function(msg) {\n",
       "            const id = msg.content.text.trim();\n",
       "            if (id in Bokeh.index) {\n",
       "              Bokeh.index[id].model.document.clear();\n",
       "              delete Bokeh.index[id];\n",
       "            }\n",
       "          }\n",
       "        }\n",
       "      });\n",
       "      // Destroy server and session\n",
       "      const cmd_destroy = \"import bokeh.io.notebook as ion; ion.destroy_server('\" + server_id + \"')\";\n",
       "      cell.notebook.kernel.execute(cmd_destroy);\n",
       "    }\n",
       "  }\n",
       "\n",
       "  /**\n",
       "   * Handle when a new output is added\n",
       "   */\n",
       "  function handleAddOutput(event, handle) {\n",
       "    const output_area = handle.output_area;\n",
       "    const output = handle.output;\n",
       "\n",
       "    // limit handleAddOutput to display_data with EXEC_MIME_TYPE content only\n",
       "    if ((output.output_type != \"display_data\") || (!Object.prototype.hasOwnProperty.call(output.data, EXEC_MIME_TYPE))) {\n",
       "      return\n",
       "    }\n",
       "\n",
       "    const toinsert = output_area.element.find(\".\" + CLASS_NAME.split(' ')[0]);\n",
       "\n",
       "    if (output.metadata[EXEC_MIME_TYPE][\"id\"] !== undefined) {\n",
       "      toinsert[toinsert.length - 1].firstChild.textContent = output.data[JS_MIME_TYPE];\n",
       "      // store reference to embed id on output_area\n",
       "      output_area._bokeh_element_id = output.metadata[EXEC_MIME_TYPE][\"id\"];\n",
       "    }\n",
       "    if (output.metadata[EXEC_MIME_TYPE][\"server_id\"] !== undefined) {\n",
       "      const bk_div = document.createElement(\"div\");\n",
       "      bk_div.innerHTML = output.data[HTML_MIME_TYPE];\n",
       "      const script_attrs = bk_div.children[0].attributes;\n",
       "      for (let i = 0; i < script_attrs.length; i++) {\n",
       "        toinsert[toinsert.length - 1].firstChild.setAttribute(script_attrs[i].name, script_attrs[i].value);\n",
       "        toinsert[toinsert.length - 1].firstChild.textContent = bk_div.children[0].textContent\n",
       "      }\n",
       "      // store reference to server id on output_area\n",
       "      output_area._bokeh_server_id = output.metadata[EXEC_MIME_TYPE][\"server_id\"];\n",
       "    }\n",
       "  }\n",
       "\n",
       "  function register_renderer(events, OutputArea) {\n",
       "\n",
       "    function append_mime(data, metadata, element) {\n",
       "      // create a DOM node to render to\n",
       "      const toinsert = this.create_output_subarea(\n",
       "        metadata,\n",
       "        CLASS_NAME,\n",
       "        EXEC_MIME_TYPE\n",
       "      );\n",
       "      this.keyboard_manager.register_events(toinsert);\n",
       "      // Render to node\n",
       "      const props = {data: data, metadata: metadata[EXEC_MIME_TYPE]};\n",
       "      render(props, toinsert[toinsert.length - 1]);\n",
       "      element.append(toinsert);\n",
       "      return toinsert\n",
       "    }\n",
       "\n",
       "    /* Handle when an output is cleared or removed */\n",
       "    events.on('clear_output.CodeCell', handleClearOutput);\n",
       "    events.on('delete.Cell', handleClearOutput);\n",
       "\n",
       "    /* Handle when a new output is added */\n",
       "    events.on('output_added.OutputArea', handleAddOutput);\n",
       "\n",
       "    /**\n",
       "     * Register the mime type and append_mime function with output_area\n",
       "     */\n",
       "    OutputArea.prototype.register_mime_type(EXEC_MIME_TYPE, append_mime, {\n",
       "      /* Is output safe? */\n",
       "      safe: true,\n",
       "      /* Index of renderer in `output_area.display_order` */\n",
       "      index: 0\n",
       "    });\n",
       "  }\n",
       "\n",
       "  // register the mime type if in Jupyter Notebook environment and previously unregistered\n",
       "  if (root.Jupyter !== undefined) {\n",
       "    const events = require('base/js/events');\n",
       "    const OutputArea = require('notebook/js/outputarea').OutputArea;\n",
       "\n",
       "    if (OutputArea.prototype.mime_types().indexOf(EXEC_MIME_TYPE) == -1) {\n",
       "      register_renderer(events, OutputArea);\n",
       "    }\n",
       "  }\n",
       "  if (typeof (root._bokeh_timeout) === \"undefined\" || force === true) {\n",
       "    root._bokeh_timeout = Date.now() + 5000;\n",
       "    root._bokeh_failed_load = false;\n",
       "  }\n",
       "\n",
       "  const NB_LOAD_WARNING = {'data': {'text/html':\n",
       "     \"<div style='background-color: #fdd'>\\n\"+\n",
       "     \"<p>\\n\"+\n",
       "     \"BokehJS does not appear to have successfully loaded. If loading BokehJS from CDN, this \\n\"+\n",
       "     \"may be due to a slow or bad network connection. Possible fixes:\\n\"+\n",
       "     \"</p>\\n\"+\n",
       "     \"<ul>\\n\"+\n",
       "     \"<li>re-rerun `output_notebook()` to attempt to load from CDN again, or</li>\\n\"+\n",
       "     \"<li>use INLINE resources instead, as so:</li>\\n\"+\n",
       "     \"</ul>\\n\"+\n",
       "     \"<code>\\n\"+\n",
       "     \"from bokeh.resources import INLINE\\n\"+\n",
       "     \"output_notebook(resources=INLINE)\\n\"+\n",
       "     \"</code>\\n\"+\n",
       "     \"</div>\"}};\n",
       "\n",
       "  function display_loaded() {\n",
       "    const el = document.getElementById(\"1002\");\n",
       "    if (el != null) {\n",
       "      el.textContent = \"BokehJS is loading...\";\n",
       "    }\n",
       "    if (root.Bokeh !== undefined) {\n",
       "      if (el != null) {\n",
       "        el.textContent = \"BokehJS \" + root.Bokeh.version + \" successfully loaded.\";\n",
       "      }\n",
       "    } else if (Date.now() < root._bokeh_timeout) {\n",
       "      setTimeout(display_loaded, 100)\n",
       "    }\n",
       "  }\n",
       "\n",
       "  function run_callbacks() {\n",
       "    try {\n",
       "      root._bokeh_onload_callbacks.forEach(function(callback) {\n",
       "        if (callback != null)\n",
       "          callback();\n",
       "      });\n",
       "    } finally {\n",
       "      delete root._bokeh_onload_callbacks\n",
       "    }\n",
       "    console.debug(\"Bokeh: all callbacks have finished\");\n",
       "  }\n",
       "\n",
       "  function load_libs(css_urls, js_urls, callback) {\n",
       "    if (css_urls == null) css_urls = [];\n",
       "    if (js_urls == null) js_urls = [];\n",
       "\n",
       "    root._bokeh_onload_callbacks.push(callback);\n",
       "    if (root._bokeh_is_loading > 0) {\n",
       "      console.debug(\"Bokeh: BokehJS is being loaded, scheduling callback at\", now());\n",
       "      return null;\n",
       "    }\n",
       "    if (js_urls == null || js_urls.length === 0) {\n",
       "      run_callbacks();\n",
       "      return null;\n",
       "    }\n",
       "    console.debug(\"Bokeh: BokehJS not loaded, scheduling load and callback at\", now());\n",
       "    root._bokeh_is_loading = css_urls.length + js_urls.length;\n",
       "\n",
       "    function on_load() {\n",
       "      root._bokeh_is_loading--;\n",
       "      if (root._bokeh_is_loading === 0) {\n",
       "        console.debug(\"Bokeh: all BokehJS libraries/stylesheets loaded\");\n",
       "        run_callbacks()\n",
       "      }\n",
       "    }\n",
       "\n",
       "    function on_error(url) {\n",
       "      console.error(\"failed to load \" + url);\n",
       "    }\n",
       "\n",
       "    for (let i = 0; i < css_urls.length; i++) {\n",
       "      const url = css_urls[i];\n",
       "      const element = document.createElement(\"link\");\n",
       "      element.onload = on_load;\n",
       "      element.onerror = on_error.bind(null, url);\n",
       "      element.rel = \"stylesheet\";\n",
       "      element.type = \"text/css\";\n",
       "      element.href = url;\n",
       "      console.debug(\"Bokeh: injecting link tag for BokehJS stylesheet: \", url);\n",
       "      document.body.appendChild(element);\n",
       "    }\n",
       "\n",
       "    for (let i = 0; i < js_urls.length; i++) {\n",
       "      const url = js_urls[i];\n",
       "      const element = document.createElement('script');\n",
       "      element.onload = on_load;\n",
       "      element.onerror = on_error.bind(null, url);\n",
       "      element.async = false;\n",
       "      element.src = url;\n",
       "      console.debug(\"Bokeh: injecting script tag for BokehJS library: \", url);\n",
       "      document.head.appendChild(element);\n",
       "    }\n",
       "  };\n",
       "\n",
       "  function inject_raw_css(css) {\n",
       "    const element = document.createElement(\"style\");\n",
       "    element.appendChild(document.createTextNode(css));\n",
       "    document.body.appendChild(element);\n",
       "  }\n",
       "\n",
       "  const js_urls = [\"https://cdn.bokeh.org/bokeh/release/bokeh-2.4.3.min.js\", \"https://cdn.bokeh.org/bokeh/release/bokeh-gl-2.4.3.min.js\", \"https://cdn.bokeh.org/bokeh/release/bokeh-widgets-2.4.3.min.js\", \"https://cdn.bokeh.org/bokeh/release/bokeh-tables-2.4.3.min.js\", \"https://cdn.bokeh.org/bokeh/release/bokeh-mathjax-2.4.3.min.js\"];\n",
       "  const css_urls = [];\n",
       "\n",
       "  const inline_js = [    function(Bokeh) {\n",
       "      Bokeh.set_log_level(\"info\");\n",
       "    },\n",
       "function(Bokeh) {\n",
       "    }\n",
       "  ];\n",
       "\n",
       "  function run_inline_js() {\n",
       "    if (root.Bokeh !== undefined || force === true) {\n",
       "          for (let i = 0; i < inline_js.length; i++) {\n",
       "      inline_js[i].call(root, root.Bokeh);\n",
       "    }\n",
       "if (force === true) {\n",
       "        display_loaded();\n",
       "      }} else if (Date.now() < root._bokeh_timeout) {\n",
       "      setTimeout(run_inline_js, 100);\n",
       "    } else if (!root._bokeh_failed_load) {\n",
       "      console.log(\"Bokeh: BokehJS failed to load within specified timeout.\");\n",
       "      root._bokeh_failed_load = true;\n",
       "    } else if (force !== true) {\n",
       "      const cell = $(document.getElementById(\"1002\")).parents('.cell').data().cell;\n",
       "      cell.output_area.append_execute_result(NB_LOAD_WARNING)\n",
       "    }\n",
       "  }\n",
       "\n",
       "  if (root._bokeh_is_loading === 0) {\n",
       "    console.debug(\"Bokeh: BokehJS loaded, going straight to plotting\");\n",
       "    run_inline_js();\n",
       "  } else {\n",
       "    load_libs(css_urls, js_urls, function() {\n",
       "      console.debug(\"Bokeh: BokehJS plotting callback run at\", now());\n",
       "      run_inline_js();\n",
       "    });\n",
       "  }\n",
       "}(window));"
      ],
      "application/vnd.bokehjs_load.v0+json": "(function(root) {\n  function now() {\n    return new Date();\n  }\n\n  const force = true;\n\n  if (typeof root._bokeh_onload_callbacks === \"undefined\" || force === true) {\n    root._bokeh_onload_callbacks = [];\n    root._bokeh_is_loading = undefined;\n  }\n\n\n  if (typeof (root._bokeh_timeout) === \"undefined\" || force === true) {\n    root._bokeh_timeout = Date.now() + 5000;\n    root._bokeh_failed_load = false;\n  }\n\n  const NB_LOAD_WARNING = {'data': {'text/html':\n     \"<div style='background-color: #fdd'>\\n\"+\n     \"<p>\\n\"+\n     \"BokehJS does not appear to have successfully loaded. If loading BokehJS from CDN, this \\n\"+\n     \"may be due to a slow or bad network connection. Possible fixes:\\n\"+\n     \"</p>\\n\"+\n     \"<ul>\\n\"+\n     \"<li>re-rerun `output_notebook()` to attempt to load from CDN again, or</li>\\n\"+\n     \"<li>use INLINE resources instead, as so:</li>\\n\"+\n     \"</ul>\\n\"+\n     \"<code>\\n\"+\n     \"from bokeh.resources import INLINE\\n\"+\n     \"output_notebook(resources=INLINE)\\n\"+\n     \"</code>\\n\"+\n     \"</div>\"}};\n\n  function display_loaded() {\n    const el = document.getElementById(\"1002\");\n    if (el != null) {\n      el.textContent = \"BokehJS is loading...\";\n    }\n    if (root.Bokeh !== undefined) {\n      if (el != null) {\n        el.textContent = \"BokehJS \" + root.Bokeh.version + \" successfully loaded.\";\n      }\n    } else if (Date.now() < root._bokeh_timeout) {\n      setTimeout(display_loaded, 100)\n    }\n  }\n\n  function run_callbacks() {\n    try {\n      root._bokeh_onload_callbacks.forEach(function(callback) {\n        if (callback != null)\n          callback();\n      });\n    } finally {\n      delete root._bokeh_onload_callbacks\n    }\n    console.debug(\"Bokeh: all callbacks have finished\");\n  }\n\n  function load_libs(css_urls, js_urls, callback) {\n    if (css_urls == null) css_urls = [];\n    if (js_urls == null) js_urls = [];\n\n    root._bokeh_onload_callbacks.push(callback);\n    if (root._bokeh_is_loading > 0) {\n      console.debug(\"Bokeh: BokehJS is being loaded, scheduling callback at\", now());\n      return null;\n    }\n    if (js_urls == null || js_urls.length === 0) {\n      run_callbacks();\n      return null;\n    }\n    console.debug(\"Bokeh: BokehJS not loaded, scheduling load and callback at\", now());\n    root._bokeh_is_loading = css_urls.length + js_urls.length;\n\n    function on_load() {\n      root._bokeh_is_loading--;\n      if (root._bokeh_is_loading === 0) {\n        console.debug(\"Bokeh: all BokehJS libraries/stylesheets loaded\");\n        run_callbacks()\n      }\n    }\n\n    function on_error(url) {\n      console.error(\"failed to load \" + url);\n    }\n\n    for (let i = 0; i < css_urls.length; i++) {\n      const url = css_urls[i];\n      const element = document.createElement(\"link\");\n      element.onload = on_load;\n      element.onerror = on_error.bind(null, url);\n      element.rel = \"stylesheet\";\n      element.type = \"text/css\";\n      element.href = url;\n      console.debug(\"Bokeh: injecting link tag for BokehJS stylesheet: \", url);\n      document.body.appendChild(element);\n    }\n\n    for (let i = 0; i < js_urls.length; i++) {\n      const url = js_urls[i];\n      const element = document.createElement('script');\n      element.onload = on_load;\n      element.onerror = on_error.bind(null, url);\n      element.async = false;\n      element.src = url;\n      console.debug(\"Bokeh: injecting script tag for BokehJS library: \", url);\n      document.head.appendChild(element);\n    }\n  };\n\n  function inject_raw_css(css) {\n    const element = document.createElement(\"style\");\n    element.appendChild(document.createTextNode(css));\n    document.body.appendChild(element);\n  }\n\n  const js_urls = [\"https://cdn.bokeh.org/bokeh/release/bokeh-2.4.3.min.js\", \"https://cdn.bokeh.org/bokeh/release/bokeh-gl-2.4.3.min.js\", \"https://cdn.bokeh.org/bokeh/release/bokeh-widgets-2.4.3.min.js\", \"https://cdn.bokeh.org/bokeh/release/bokeh-tables-2.4.3.min.js\", \"https://cdn.bokeh.org/bokeh/release/bokeh-mathjax-2.4.3.min.js\"];\n  const css_urls = [];\n\n  const inline_js = [    function(Bokeh) {\n      Bokeh.set_log_level(\"info\");\n    },\nfunction(Bokeh) {\n    }\n  ];\n\n  function run_inline_js() {\n    if (root.Bokeh !== undefined || force === true) {\n          for (let i = 0; i < inline_js.length; i++) {\n      inline_js[i].call(root, root.Bokeh);\n    }\nif (force === true) {\n        display_loaded();\n      }} else if (Date.now() < root._bokeh_timeout) {\n      setTimeout(run_inline_js, 100);\n    } else if (!root._bokeh_failed_load) {\n      console.log(\"Bokeh: BokehJS failed to load within specified timeout.\");\n      root._bokeh_failed_load = true;\n    } else if (force !== true) {\n      const cell = $(document.getElementById(\"1002\")).parents('.cell').data().cell;\n      cell.output_area.append_execute_result(NB_LOAD_WARNING)\n    }\n  }\n\n  if (root._bokeh_is_loading === 0) {\n    console.debug(\"Bokeh: BokehJS loaded, going straight to plotting\");\n    run_inline_js();\n  } else {\n    load_libs(css_urls, js_urls, function() {\n      console.debug(\"Bokeh: BokehJS plotting callback run at\", now());\n      run_inline_js();\n    });\n  }\n}(window));"
     },
     "metadata": {},
     "output_type": "display_data"
    }
   ],
   "source": [
    "# output bokeh plots inline in this notebook \n",
    "\n",
    "output_notebook()"
   ]
  },
  {
   "cell_type": "code",
   "execution_count": 90,
   "id": "9c798569",
   "metadata": {},
   "outputs": [],
   "source": [
    "subset_df = coords_df.sample(n=500)"
   ]
  },
  {
   "cell_type": "code",
   "execution_count": 91,
   "id": "0c909a44",
   "metadata": {},
   "outputs": [],
   "source": [
    "p = figure(plot_width=800, plot_height=800)\n",
    "_ = p.text(x=subset_df.x, y=subset_df.y, text=subset_df.token)"
   ]
  },
  {
   "cell_type": "code",
   "execution_count": 92,
   "id": "0b3f7cb7",
   "metadata": {
    "scrolled": true
   },
   "outputs": [
    {
     "data": {
      "text/html": [
       "\n",
       "  <div class=\"bk-root\" id=\"957ab90a-fc16-45f3-863b-a4e4e516d065\" data-root-id=\"1107\"></div>\n"
      ]
     },
     "metadata": {},
     "output_type": "display_data"
    },
    {
     "data": {
      "application/javascript": [
       "(function(root) {\n",
       "  function embed_document(root) {\n",
       "  const docs_json = {\"e8b1991e-f641-4a0f-849e-170c5222e332\":{\"defs\":[],\"roots\":{\"references\":[{\"attributes\":{\"below\":[{\"id\":\"1116\"}],\"center\":[{\"id\":\"1119\"},{\"id\":\"1123\"}],\"height\":800,\"left\":[{\"id\":\"1120\"}],\"renderers\":[{\"id\":\"1142\"}],\"title\":{\"id\":\"1155\"},\"toolbar\":{\"id\":\"1131\"},\"width\":800,\"x_range\":{\"id\":\"1108\"},\"x_scale\":{\"id\":\"1112\"},\"y_range\":{\"id\":\"1110\"},\"y_scale\":{\"id\":\"1114\"}},\"id\":\"1107\",\"subtype\":\"Figure\",\"type\":\"Plot\"},{\"attributes\":{},\"id\":\"1114\",\"type\":\"LinearScale\"},{\"attributes\":{\"data\":{\"text\":[\"salutes\",\"denounce\",\"Nebo\",\"godmother\",\"irregular\",\"variation\",\"twin\",\"stark\",\"fragmentary\",\"thine\",\"housekeeper\",\"taketh\",\"hansom\",\"shabby\",\"currants\",\"examination\",\"bearing\",\"shuffling\",\"struck\",\"dispersed\",\"seeming\",\"betweene\",\"avarice\",\"Sonnes\",\"loveliness\",\"surrender\",\"Little\",\"prejudice\",\"feel\",\"buckler\",\"aunt\",\"bony\",\"cakes\",\"passover\",\"crude\",\"nominally\",\"carbuncle\",\"contribute\",\"heaps\",\"papers\",\"sort\",\"candlesticks\",\"coins\",\"Diana\",\"absorbed\",\"inherited\",\"cat\",\"puttest\",\"whips\",\"Hararite\",\"forget\",\"consuming\",\"7\",\"violently\",\"troop\",\"lo\",\"dreaded\",\"Vane\",\"invented\",\"abruptness\",\"heere\",\"tilted\",\"Swiftly\",\"associates\",\"hired\",\"Cassi\",\"Italian\",\"wand\",\"False\",\"social\",\"baronet\",\"Hercules\",\"lot\",\"aware\",\"overshadowed\",\"bramble\",\"mutiny\",\"ride\",\"border\",\"nought\",\"quaint\",\"icy\",\"coffins\",\"braue\",\"salted\",\"Price\",\"smelt\",\"Stern\",\"Stars\",\"Solitary\",\"liver\",\"Bunger\",\"thereto\",\"latitude\",\"aim\",\"booty\",\"pantaloons\",\"implied\",\"baptize\",\"hearty\",\"restored\",\"snug\",\"exceeded\",\"period\",\"snapping\",\"draws\",\"ve\",\"consideration\",\"shrieks\",\"swollen\",\"Achbor\",\"Deck\",\"haue\",\"refuse\",\"elevate\",\"_him_\",\"heightened\",\"tax\",\"HER\",\"enjoyments\",\"ado\",\"marriage\",\"WILL\",\"poem\",\"hating\",\"analogy\",\"141\",\"Room\",\"Gaal\",\"goodwill\",\"Cousin\",\"anywhere\",\"Doe\",\"sill\",\"Vicarage\",\"increaseth\",\"againe\",\"moral\",\"rumour\",\"bargains\",\"Pharisee\",\"unfrequently\",\"Wife\",\"nature\",\"fulfill\",\"Eshtemoa\",\"oppose\",\"*\",\"heaving\",\"bandstand\",\"unknown\",\"Monkey\",\"false\",\"guessed\",\"incident\",\"strongest\",\"depended\",\"Rosse\",\"enjoyment\",\"palace\",\"assist\",\"heart\",\"Gresham\",\"Indiana\",\"puffed\",\"Fellowes\",\"pioneers\",\"condescend\",\"&\",\"deere\",\"Anything\",\"pitied\",\"Whitman\",\"careless\",\"Sub\",\"strict\",\"whirlwinds\",\"deliuer\",\"conjectured\",\"distrustful\",\"33\",\"oaks\",\"shapes\",\"speak\",\"conversation\",\"shouldered\",\"preferring\",\"waving\",\"Mattaniah\",\"solemnly\",\"Hare\",\"gaped\",\"horns\",\"Jonah\",\"moons\",\"searched\",\"ringed\",\"expects\",\"thither\",\"ascending\",\"stones\",\"genius\",\"Standing\",\"ghastly\",\"penetrated\",\"Saying\",\"strain\",\"Confess\",\"contempt\",\"cheer\",\"architects\",\"instrument\",\"quietude\",\"promise\",\"fibres\",\"superstitious\",\"Sons\",\"spoons\",\"prayers\",\"certain\",\"Gershon\",\"holding\",\"Chebar\",\"footprint\",\"Hart\",\"sincerity\",\"Martha\",\"fasted\",\"stared\",\"chasing\",\"puns\",\"Thessalonica\",\"Comes\",\"burneth\",\"gallantry\",\"aboriginal\",\"Millions\",\"descend\",\"believers\",\"wizards\",\"alongside\",\"wailing\",\"securely\",\"declares\",\"item\",\"circles\",\"Sepharvaim\",\"Third\",\"deliberation\",\"calves\",\"Pass\",\"Trumpet\",\"piano\",\"thoughts\",\"Hardy\",\"imitated\",\"advances\",\"hauing\",\"Bless\",\"want\",\"panted\",\"intensity\",\"evenings\",\"pose\",\"lipp\",\"opposing\",\"scent\",\"censers\",\"checked\",\"disappearing\",\"over\",\"Bates\",\"alliance\",\"piazza\",\"baptism\",\"sustenance\",\"sallied\",\"surfaces\",\"perfect\",\"hermit\",\"pitched\",\"Haman\",\"commissioned\",\"soonest\",\"excite\",\"behinde\",\"beseech\",\"That\",\"tolerably\",\"quiver\",\"contrition\",\"corn\",\"gods\",\"sap\",\"Winthrop\",\"urgent\",\"quadrant\",\"alien\",\"committeth\",\"accompanying\",\"tranquil\",\"barred\",\"Foyles\",\"Prison\",\"neared\",\"vinegar\",\"saide\",\"job\",\"smoke\",\"damn\",\"expressing\",\"spar\",\"unwell\",\"Adventures\",\"whalemen\",\"Marriage\",\"speaker\",\"envious\",\"than\",\"crouch\",\"emotional\",\"limbs\",\"Kohath\",\"curseth\",\"imprisoned\",\"tied\",\"bestial\",\"Epaminondas\",\"violets\",\"paradox\",\"dunce\",\"threshingfloor\",\"speeches\",\"bask\",\"orb\",\"invariable\",\"later\",\"quickened\",\"fauour\",\"Manet\",\"fortified\",\"strive\",\"gloomily\",\"tattered\",\"Manxman\",\"proof\",\"prey\",\"modesty\",\"martyrs\",\"service\",\"peddler\",\"receiving\",\"loom\",\"essence\",\"intentions\",\"brand\",\"clown\",\"Havilah\",\"scorched\",\"Whenever\",\"merged\",\"coals\",\"Forty\",\"hissed\",\"Wonderful\",\"vices\",\"shining\",\"chemistry\",\"welcoming\",\"unheard\",\"gaping\",\"sphere\",\"languages\",\"Meraioth\",\"sickle\",\"after\",\"writes\",\"erred\",\"follies\",\"W\",\"hardness\",\"trusted\",\"Tut\",\"imbecile\",\"deity\",\"five\",\"whatever\",\"confuse\",\"prow\",\"Barbary\",\"clasp\",\"gathereth\",\"reckoning\",\"ether\",\"lengthwise\",\"gaily\",\"flattered\",\"nourishing\",\"talk\",\"hop\",\"tucked\",\"venturing\",\"marvels\",\"adrift\",\"damnable\",\"from\",\"Zuar\",\"sobriety\",\"became\",\"Laertes\",\"suited\",\"rocking\",\"abundance\",\"reminiscence\",\"thy\",\"half\",\"heirs\",\"mail\",\"reliance\",\"terror\",\"compound\",\"stript\",\"overwhelmed\",\"lightly\",\"drench\",\"mistook\",\"grinned\",\"Suliman\",\"Is\",\"peals\",\"stopping\",\"couldest\",\"lame\",\"Wrath\",\"Bezaleel\",\"irritating\",\"broken\",\"carelessness\",\"harder\",\"Tahpanhes\",\"Maidens\",\"content\",\"dissatisfaction\",\"chewed\",\"Satan\",\"astonishing\",\"incalculable\",\"etc\",\"(\",\"offending\",\"wheel\",\"honesty\",\"seas\",\"eras\",\"persevering\",\"merge\",\"variously\",\"meaningless\",\"conventional\",\"joyous\",\"Freedom\",\"miser\",\"Deep\",\"intelligence\",\"leopard\",\"charming\",\"ensigns\",\"tip\",\"outrage\",\"separated\",\"approving\",\"piles\",\"Camillo\",\"Lust\",\"backsliding\",\"54\",\"extol\",\"superiour\",\"underground\",\"extravagance\",\"condolence\",\"locking\",\"busily\",\"picked\",\"sensation\",\"portraits\",\"splice\",\"uppermost\",\"impart\",\"useful\",\"artists\",\"unabated\",\"vastly\",\"six\",\"forks\",\"even\",\"Mill\",\"unfairly\",\"raven\",\"bracelets\"],\"x\":{\"__ndarray__\":\"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\",\"dtype\":\"float64\",\"order\":\"little\",\"shape\":[500]},\"y\":{\"__ndarray__\":\"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\",\"dtype\":\"float64\",\"order\":\"little\",\"shape\":[500]}},\"selected\":{\"id\":\"1164\"},\"selection_policy\":{\"id\":\"1163\"}},\"id\":\"1138\",\"type\":\"ColumnDataSource\"},{\"attributes\":{},\"id\":\"1164\",\"type\":\"Selection\"},{\"attributes\":{\"coordinates\":null,\"formatter\":{\"id\":\"1161\"},\"group\":null,\"major_label_policy\":{\"id\":\"1162\"},\"ticker\":{\"id\":\"1117\"}},\"id\":\"1116\",\"type\":\"LinearAxis\"},{\"attributes\":{},\"id\":\"1108\",\"type\":\"DataRange1d\"},{\"attributes\":{},\"id\":\"1121\",\"type\":\"BasicTicker\"},{\"attributes\":{\"tools\":[{\"id\":\"1124\"},{\"id\":\"1125\"},{\"id\":\"1126\"},{\"id\":\"1127\"},{\"id\":\"1128\"},{\"id\":\"1129\"}]},\"id\":\"1131\",\"type\":\"Toolbar\"},{\"attributes\":{},\"id\":\"1125\",\"type\":\"WheelZoomTool\"},{\"attributes\":{},\"id\":\"1124\",\"type\":\"PanTool\"},{\"attributes\":{\"text_alpha\":{\"value\":0.1},\"text_color\":{\"value\":\"black\"},\"x\":{\"field\":\"x\"},\"y\":{\"field\":\"y\"}},\"id\":\"1140\",\"type\":\"Text\"},{\"attributes\":{\"overlay\":{\"id\":\"1130\"}},\"id\":\"1126\",\"type\":\"BoxZoomTool\"},{\"attributes\":{},\"id\":\"1127\",\"type\":\"SaveTool\"},{\"attributes\":{\"coordinates\":null,\"data_source\":{\"id\":\"1138\"},\"glyph\":{\"id\":\"1139\"},\"group\":null,\"hover_glyph\":null,\"muted_glyph\":{\"id\":\"1141\"},\"nonselection_glyph\":{\"id\":\"1140\"},\"view\":{\"id\":\"1143\"}},\"id\":\"1142\",\"type\":\"GlyphRenderer\"},{\"attributes\":{},\"id\":\"1162\",\"type\":\"AllLabels\"},{\"attributes\":{},\"id\":\"1158\",\"type\":\"BasicTickFormatter\"},{\"attributes\":{\"coordinates\":null,\"group\":null},\"id\":\"1155\",\"type\":\"Title\"},{\"attributes\":{},\"id\":\"1112\",\"type\":\"LinearScale\"},{\"attributes\":{},\"id\":\"1159\",\"type\":\"AllLabels\"},{\"attributes\":{},\"id\":\"1129\",\"type\":\"HelpTool\"},{\"attributes\":{},\"id\":\"1117\",\"type\":\"BasicTicker\"},{\"attributes\":{\"axis\":{\"id\":\"1116\"},\"coordinates\":null,\"group\":null,\"ticker\":null},\"id\":\"1119\",\"type\":\"Grid\"},{\"attributes\":{\"text_color\":{\"value\":\"black\"},\"x\":{\"field\":\"x\"},\"y\":{\"field\":\"y\"}},\"id\":\"1139\",\"type\":\"Text\"},{\"attributes\":{},\"id\":\"1161\",\"type\":\"BasicTickFormatter\"},{\"attributes\":{\"bottom_units\":\"screen\",\"coordinates\":null,\"fill_alpha\":0.5,\"fill_color\":\"lightgrey\",\"group\":null,\"left_units\":\"screen\",\"level\":\"overlay\",\"line_alpha\":1.0,\"line_color\":\"black\",\"line_dash\":[4,4],\"line_width\":2,\"right_units\":\"screen\",\"syncable\":false,\"top_units\":\"screen\"},\"id\":\"1130\",\"type\":\"BoxAnnotation\"},{\"attributes\":{\"text_alpha\":{\"value\":0.2},\"text_color\":{\"value\":\"black\"},\"x\":{\"field\":\"x\"},\"y\":{\"field\":\"y\"}},\"id\":\"1141\",\"type\":\"Text\"},{\"attributes\":{\"axis\":{\"id\":\"1120\"},\"coordinates\":null,\"dimension\":1,\"group\":null,\"ticker\":null},\"id\":\"1123\",\"type\":\"Grid\"},{\"attributes\":{\"source\":{\"id\":\"1138\"}},\"id\":\"1143\",\"type\":\"CDSView\"},{\"attributes\":{\"coordinates\":null,\"formatter\":{\"id\":\"1158\"},\"group\":null,\"major_label_policy\":{\"id\":\"1159\"},\"ticker\":{\"id\":\"1121\"}},\"id\":\"1120\",\"type\":\"LinearAxis\"},{\"attributes\":{},\"id\":\"1128\",\"type\":\"ResetTool\"},{\"attributes\":{},\"id\":\"1110\",\"type\":\"DataRange1d\"},{\"attributes\":{},\"id\":\"1163\",\"type\":\"UnionRenderers\"}],\"root_ids\":[\"1107\"]},\"title\":\"Bokeh Application\",\"version\":\"2.4.3\"}};\n",
       "  const render_items = [{\"docid\":\"e8b1991e-f641-4a0f-849e-170c5222e332\",\"root_ids\":[\"1107\"],\"roots\":{\"1107\":\"957ab90a-fc16-45f3-863b-a4e4e516d065\"}}];\n",
       "  root.Bokeh.embed.embed_items_notebook(docs_json, render_items);\n",
       "  }\n",
       "  if (root.Bokeh !== undefined) {\n",
       "    embed_document(root);\n",
       "  } else {\n",
       "    let attempts = 0;\n",
       "    const timer = setInterval(function(root) {\n",
       "      if (root.Bokeh !== undefined) {\n",
       "        clearInterval(timer);\n",
       "        embed_document(root);\n",
       "      } else {\n",
       "        attempts++;\n",
       "        if (attempts > 100) {\n",
       "          clearInterval(timer);\n",
       "          console.log(\"Bokeh: ERROR: Unable to run BokehJS code because BokehJS library is missing\");\n",
       "        }\n",
       "      }\n",
       "    }, 10, root)\n",
       "  }\n",
       "})(window);"
      ],
      "application/vnd.bokehjs_exec.v0+json": ""
     },
     "metadata": {
      "application/vnd.bokehjs_exec.v0+json": {
       "id": "1107"
      }
     },
     "output_type": "display_data"
    }
   ],
   "source": [
    "show(p)"
   ]
  },
  {
   "cell_type": "markdown",
   "id": "afc3daa0",
   "metadata": {},
   "source": [
    "## Pre-Trained Word Vectors\n",
    "\n",
    "Existing pre-trained word vectors can be found at:\n",
    "- word2vec: (English) https://github.com/3Top/word2vec-api, (non-English) github.com/Kyubyong/wordvectors\n",
    "- GloVe: nlp.stanford.edu/projects/glove\n",
    "- fastText: fasttext.cc\n",
    "\n",
    "Francois Chollet has a well written post in the [Keras Blog](https://blog.keras.io/using-pre-trained-word-embeddings-in-a-keras-model.html) on this topic.\n",
    "\n",
    "Gensim comes with several already pre-trained models, in the Gensim-data repository:"
   ]
  },
  {
   "cell_type": "code",
   "execution_count": 110,
   "id": "916993f8",
   "metadata": {},
   "outputs": [
    {
     "name": "stdout",
     "output_type": "stream",
     "text": [
      "['fasttext-wiki-news-subwords-300', 'conceptnet-numberbatch-17-06-300', 'word2vec-ruscorpora-300', 'word2vec-google-news-300', 'glove-wiki-gigaword-50', 'glove-wiki-gigaword-100', 'glove-wiki-gigaword-200', 'glove-wiki-gigaword-300', 'glove-twitter-25', 'glove-twitter-50', 'glove-twitter-100', 'glove-twitter-200', '__testing_word2vec-matrix-synopsis']\n"
     ]
    }
   ],
   "source": [
    "import gensim.downloader \n",
    "\n",
    "# Show all available models in gensim-data\n",
    "print(list(gensim.downloader.info()['models'].keys()))"
   ]
  },
  {
   "cell_type": "code",
   "execution_count": 112,
   "id": "0c00bc47",
   "metadata": {},
   "outputs": [
    {
     "name": "stdout",
     "output_type": "stream",
     "text": [
      "[--------------------------------------------------] 1.4% 23.4/1662.8MB downloaded"
     ]
    },
    {
     "name": "stderr",
     "output_type": "stream",
     "text": [
      "IOPub message rate exceeded.\n",
      "The notebook server will temporarily stop sending output\n",
      "to the client in order to avoid crashing it.\n",
      "To change this limit, set the config variable\n",
      "`--NotebookApp.iopub_msg_rate_limit`.\n",
      "\n",
      "Current values:\n",
      "NotebookApp.iopub_msg_rate_limit=1000.0 (msgs/sec)\n",
      "NotebookApp.rate_limit_window=3.0 (secs)\n",
      "\n"
     ]
    },
    {
     "name": "stdout",
     "output_type": "stream",
     "text": [
      "[=-------------------------------------------------] 3.3% 55.4/1662.8MB downloaded"
     ]
    },
    {
     "name": "stderr",
     "output_type": "stream",
     "text": [
      "IOPub message rate exceeded.\n",
      "The notebook server will temporarily stop sending output\n",
      "to the client in order to avoid crashing it.\n",
      "To change this limit, set the config variable\n",
      "`--NotebookApp.iopub_msg_rate_limit`.\n",
      "\n",
      "Current values:\n",
      "NotebookApp.iopub_msg_rate_limit=1000.0 (msgs/sec)\n",
      "NotebookApp.rate_limit_window=3.0 (secs)\n",
      "\n"
     ]
    },
    {
     "name": "stdout",
     "output_type": "stream",
     "text": [
      "[==------------------------------------------------] 5.2% 87.0/1662.8MB downloaded"
     ]
    },
    {
     "name": "stderr",
     "output_type": "stream",
     "text": [
      "IOPub message rate exceeded.\n",
      "The notebook server will temporarily stop sending output\n",
      "to the client in order to avoid crashing it.\n",
      "To change this limit, set the config variable\n",
      "`--NotebookApp.iopub_msg_rate_limit`.\n",
      "\n",
      "Current values:\n",
      "NotebookApp.iopub_msg_rate_limit=1000.0 (msgs/sec)\n",
      "NotebookApp.rate_limit_window=3.0 (secs)\n",
      "\n"
     ]
    },
    {
     "name": "stdout",
     "output_type": "stream",
     "text": [
      "[===-----------------------------------------------] 7.2% 119.2/1662.8MB downloaded"
     ]
    },
    {
     "name": "stderr",
     "output_type": "stream",
     "text": [
      "IOPub message rate exceeded.\n",
      "The notebook server will temporarily stop sending output\n",
      "to the client in order to avoid crashing it.\n",
      "To change this limit, set the config variable\n",
      "`--NotebookApp.iopub_msg_rate_limit`.\n",
      "\n",
      "Current values:\n",
      "NotebookApp.iopub_msg_rate_limit=1000.0 (msgs/sec)\n",
      "NotebookApp.rate_limit_window=3.0 (secs)\n",
      "\n"
     ]
    },
    {
     "name": "stdout",
     "output_type": "stream",
     "text": [
      "[====----------------------------------------------] 9.5% 158.1/1662.8MB downloaded"
     ]
    },
    {
     "name": "stderr",
     "output_type": "stream",
     "text": [
      "IOPub message rate exceeded.\n",
      "The notebook server will temporarily stop sending output\n",
      "to the client in order to avoid crashing it.\n",
      "To change this limit, set the config variable\n",
      "`--NotebookApp.iopub_msg_rate_limit`.\n",
      "\n",
      "Current values:\n",
      "NotebookApp.iopub_msg_rate_limit=1000.0 (msgs/sec)\n",
      "NotebookApp.rate_limit_window=3.0 (secs)\n",
      "\n"
     ]
    },
    {
     "name": "stdout",
     "output_type": "stream",
     "text": [
      "[=====---------------------------------------------] 11.7% 194.8/1662.8MB downloaded"
     ]
    },
    {
     "name": "stderr",
     "output_type": "stream",
     "text": [
      "IOPub message rate exceeded.\n",
      "The notebook server will temporarily stop sending output\n",
      "to the client in order to avoid crashing it.\n",
      "To change this limit, set the config variable\n",
      "`--NotebookApp.iopub_msg_rate_limit`.\n",
      "\n",
      "Current values:\n",
      "NotebookApp.iopub_msg_rate_limit=1000.0 (msgs/sec)\n",
      "NotebookApp.rate_limit_window=3.0 (secs)\n",
      "\n"
     ]
    },
    {
     "name": "stdout",
     "output_type": "stream",
     "text": [
      "[=======-------------------------------------------] 14.1% 235.1/1662.8MB downloaded"
     ]
    },
    {
     "name": "stderr",
     "output_type": "stream",
     "text": [
      "IOPub message rate exceeded.\n",
      "The notebook server will temporarily stop sending output\n",
      "to the client in order to avoid crashing it.\n",
      "To change this limit, set the config variable\n",
      "`--NotebookApp.iopub_msg_rate_limit`.\n",
      "\n",
      "Current values:\n",
      "NotebookApp.iopub_msg_rate_limit=1000.0 (msgs/sec)\n",
      "NotebookApp.rate_limit_window=3.0 (secs)\n",
      "\n"
     ]
    },
    {
     "name": "stdout",
     "output_type": "stream",
     "text": [
      "[========------------------------------------------] 16.1% 267.6/1662.8MB downloaded"
     ]
    },
    {
     "name": "stderr",
     "output_type": "stream",
     "text": [
      "IOPub message rate exceeded.\n",
      "The notebook server will temporarily stop sending output\n",
      "to the client in order to avoid crashing it.\n",
      "To change this limit, set the config variable\n",
      "`--NotebookApp.iopub_msg_rate_limit`.\n",
      "\n",
      "Current values:\n",
      "NotebookApp.iopub_msg_rate_limit=1000.0 (msgs/sec)\n",
      "NotebookApp.rate_limit_window=3.0 (secs)\n",
      "\n"
     ]
    },
    {
     "name": "stdout",
     "output_type": "stream",
     "text": [
      "[=========-----------------------------------------] 18.1% 300.3/1662.8MB downloaded"
     ]
    },
    {
     "name": "stderr",
     "output_type": "stream",
     "text": [
      "IOPub message rate exceeded.\n",
      "The notebook server will temporarily stop sending output\n",
      "to the client in order to avoid crashing it.\n",
      "To change this limit, set the config variable\n",
      "`--NotebookApp.iopub_msg_rate_limit`.\n",
      "\n",
      "Current values:\n",
      "NotebookApp.iopub_msg_rate_limit=1000.0 (msgs/sec)\n",
      "NotebookApp.rate_limit_window=3.0 (secs)\n",
      "\n"
     ]
    },
    {
     "name": "stdout",
     "output_type": "stream",
     "text": [
      "[===========---------------------------------------] 22.3% 371.4/1662.8MB downloaded"
     ]
    },
    {
     "name": "stderr",
     "output_type": "stream",
     "text": [
      "IOPub message rate exceeded.\n",
      "The notebook server will temporarily stop sending output\n",
      "to the client in order to avoid crashing it.\n",
      "To change this limit, set the config variable\n",
      "`--NotebookApp.iopub_msg_rate_limit`.\n",
      "\n",
      "Current values:\n",
      "NotebookApp.iopub_msg_rate_limit=1000.0 (msgs/sec)\n",
      "NotebookApp.rate_limit_window=3.0 (secs)\n",
      "\n"
     ]
    },
    {
     "name": "stdout",
     "output_type": "stream",
     "text": [
      "[============--------------------------------------] 24.2% 401.9/1662.8MB downloaded"
     ]
    },
    {
     "name": "stderr",
     "output_type": "stream",
     "text": [
      "IOPub message rate exceeded.\n",
      "The notebook server will temporarily stop sending output\n",
      "to the client in order to avoid crashing it.\n",
      "To change this limit, set the config variable\n",
      "`--NotebookApp.iopub_msg_rate_limit`.\n",
      "\n",
      "Current values:\n",
      "NotebookApp.iopub_msg_rate_limit=1000.0 (msgs/sec)\n",
      "NotebookApp.rate_limit_window=3.0 (secs)\n",
      "\n"
     ]
    },
    {
     "name": "stdout",
     "output_type": "stream",
     "text": [
      "[================----------------------------------] 32.2% 535.3/1662.8MB downloaded"
     ]
    },
    {
     "name": "stderr",
     "output_type": "stream",
     "text": [
      "IOPub message rate exceeded.\n",
      "The notebook server will temporarily stop sending output\n",
      "to the client in order to avoid crashing it.\n",
      "To change this limit, set the config variable\n",
      "`--NotebookApp.iopub_msg_rate_limit`.\n",
      "\n",
      "Current values:\n",
      "NotebookApp.iopub_msg_rate_limit=1000.0 (msgs/sec)\n",
      "NotebookApp.rate_limit_window=3.0 (secs)\n",
      "\n"
     ]
    },
    {
     "name": "stdout",
     "output_type": "stream",
     "text": [
      "[=================---------------------------------] 34.1% 567.4/1662.8MB downloaded"
     ]
    },
    {
     "name": "stderr",
     "output_type": "stream",
     "text": [
      "IOPub message rate exceeded.\n",
      "The notebook server will temporarily stop sending output\n",
      "to the client in order to avoid crashing it.\n",
      "To change this limit, set the config variable\n",
      "`--NotebookApp.iopub_msg_rate_limit`.\n",
      "\n",
      "Current values:\n",
      "NotebookApp.iopub_msg_rate_limit=1000.0 (msgs/sec)\n",
      "NotebookApp.rate_limit_window=3.0 (secs)\n",
      "\n"
     ]
    },
    {
     "name": "stdout",
     "output_type": "stream",
     "text": [
      "[=================---------------------------------] 35.9% 597.5/1662.8MB downloaded"
     ]
    },
    {
     "name": "stderr",
     "output_type": "stream",
     "text": [
      "IOPub message rate exceeded.\n",
      "The notebook server will temporarily stop sending output\n",
      "to the client in order to avoid crashing it.\n",
      "To change this limit, set the config variable\n",
      "`--NotebookApp.iopub_msg_rate_limit`.\n",
      "\n",
      "Current values:\n",
      "NotebookApp.iopub_msg_rate_limit=1000.0 (msgs/sec)\n",
      "NotebookApp.rate_limit_window=3.0 (secs)\n",
      "\n"
     ]
    },
    {
     "name": "stdout",
     "output_type": "stream",
     "text": [
      "[==================--------------------------------] 37.9% 629.6/1662.8MB downloaded"
     ]
    },
    {
     "name": "stderr",
     "output_type": "stream",
     "text": [
      "IOPub message rate exceeded.\n",
      "The notebook server will temporarily stop sending output\n",
      "to the client in order to avoid crashing it.\n",
      "To change this limit, set the config variable\n",
      "`--NotebookApp.iopub_msg_rate_limit`.\n",
      "\n",
      "Current values:\n",
      "NotebookApp.iopub_msg_rate_limit=1000.0 (msgs/sec)\n",
      "NotebookApp.rate_limit_window=3.0 (secs)\n",
      "\n"
     ]
    },
    {
     "name": "stdout",
     "output_type": "stream",
     "text": [
      "[===================-------------------------------] 39.8% 661.0/1662.8MB downloaded"
     ]
    },
    {
     "name": "stderr",
     "output_type": "stream",
     "text": [
      "IOPub message rate exceeded.\n",
      "The notebook server will temporarily stop sending output\n",
      "to the client in order to avoid crashing it.\n",
      "To change this limit, set the config variable\n",
      "`--NotebookApp.iopub_msg_rate_limit`.\n",
      "\n",
      "Current values:\n",
      "NotebookApp.iopub_msg_rate_limit=1000.0 (msgs/sec)\n",
      "NotebookApp.rate_limit_window=3.0 (secs)\n",
      "\n"
     ]
    },
    {
     "name": "stdout",
     "output_type": "stream",
     "text": [
      "[====================------------------------------] 41.7% 693.2/1662.8MB downloaded"
     ]
    },
    {
     "name": "stderr",
     "output_type": "stream",
     "text": [
      "IOPub message rate exceeded.\n",
      "The notebook server will temporarily stop sending output\n",
      "to the client in order to avoid crashing it.\n",
      "To change this limit, set the config variable\n",
      "`--NotebookApp.iopub_msg_rate_limit`.\n",
      "\n",
      "Current values:\n",
      "NotebookApp.iopub_msg_rate_limit=1000.0 (msgs/sec)\n",
      "NotebookApp.rate_limit_window=3.0 (secs)\n",
      "\n"
     ]
    },
    {
     "name": "stdout",
     "output_type": "stream",
     "text": [
      "[=====================-----------------------------] 43.6% 724.2/1662.8MB downloaded"
     ]
    },
    {
     "name": "stderr",
     "output_type": "stream",
     "text": [
      "IOPub message rate exceeded.\n",
      "The notebook server will temporarily stop sending output\n",
      "to the client in order to avoid crashing it.\n",
      "To change this limit, set the config variable\n",
      "`--NotebookApp.iopub_msg_rate_limit`.\n",
      "\n",
      "Current values:\n",
      "NotebookApp.iopub_msg_rate_limit=1000.0 (msgs/sec)\n",
      "NotebookApp.rate_limit_window=3.0 (secs)\n",
      "\n"
     ]
    },
    {
     "name": "stdout",
     "output_type": "stream",
     "text": [
      "[======================----------------------------] 45.4% 755.3/1662.8MB downloaded"
     ]
    },
    {
     "name": "stderr",
     "output_type": "stream",
     "text": [
      "IOPub message rate exceeded.\n",
      "The notebook server will temporarily stop sending output\n",
      "to the client in order to avoid crashing it.\n",
      "To change this limit, set the config variable\n",
      "`--NotebookApp.iopub_msg_rate_limit`.\n",
      "\n",
      "Current values:\n",
      "NotebookApp.iopub_msg_rate_limit=1000.0 (msgs/sec)\n",
      "NotebookApp.rate_limit_window=3.0 (secs)\n",
      "\n"
     ]
    },
    {
     "name": "stdout",
     "output_type": "stream",
     "text": [
      "[=======================---------------------------] 47.4% 787.4/1662.8MB downloaded"
     ]
    },
    {
     "name": "stderr",
     "output_type": "stream",
     "text": [
      "IOPub message rate exceeded.\n",
      "The notebook server will temporarily stop sending output\n",
      "to the client in order to avoid crashing it.\n",
      "To change this limit, set the config variable\n",
      "`--NotebookApp.iopub_msg_rate_limit`.\n",
      "\n",
      "Current values:\n",
      "NotebookApp.iopub_msg_rate_limit=1000.0 (msgs/sec)\n",
      "NotebookApp.rate_limit_window=3.0 (secs)\n",
      "\n"
     ]
    },
    {
     "name": "stdout",
     "output_type": "stream",
     "text": [
      "[========================--------------------------] 49.6% 824.5/1662.8MB downloaded"
     ]
    },
    {
     "name": "stderr",
     "output_type": "stream",
     "text": [
      "IOPub message rate exceeded.\n",
      "The notebook server will temporarily stop sending output\n",
      "to the client in order to avoid crashing it.\n",
      "To change this limit, set the config variable\n",
      "`--NotebookApp.iopub_msg_rate_limit`.\n",
      "\n",
      "Current values:\n",
      "NotebookApp.iopub_msg_rate_limit=1000.0 (msgs/sec)\n",
      "NotebookApp.rate_limit_window=3.0 (secs)\n",
      "\n"
     ]
    },
    {
     "name": "stdout",
     "output_type": "stream",
     "text": [
      "[=========================-------------------------] 52.0% 864.4/1662.8MB downloaded"
     ]
    },
    {
     "name": "stderr",
     "output_type": "stream",
     "text": [
      "IOPub message rate exceeded.\n",
      "The notebook server will temporarily stop sending output\n",
      "to the client in order to avoid crashing it.\n",
      "To change this limit, set the config variable\n",
      "`--NotebookApp.iopub_msg_rate_limit`.\n",
      "\n",
      "Current values:\n",
      "NotebookApp.iopub_msg_rate_limit=1000.0 (msgs/sec)\n",
      "NotebookApp.rate_limit_window=3.0 (secs)\n",
      "\n"
     ]
    },
    {
     "name": "stdout",
     "output_type": "stream",
     "text": [
      "[===========================-----------------------] 54.5% 906.0/1662.8MB downloaded"
     ]
    },
    {
     "name": "stderr",
     "output_type": "stream",
     "text": [
      "IOPub message rate exceeded.\n",
      "The notebook server will temporarily stop sending output\n",
      "to the client in order to avoid crashing it.\n",
      "To change this limit, set the config variable\n",
      "`--NotebookApp.iopub_msg_rate_limit`.\n",
      "\n",
      "Current values:\n",
      "NotebookApp.iopub_msg_rate_limit=1000.0 (msgs/sec)\n",
      "NotebookApp.rate_limit_window=3.0 (secs)\n",
      "\n"
     ]
    },
    {
     "name": "stdout",
     "output_type": "stream",
     "text": [
      "[============================----------------------] 56.9% 946.4/1662.8MB downloaded"
     ]
    },
    {
     "name": "stderr",
     "output_type": "stream",
     "text": [
      "IOPub message rate exceeded.\n",
      "The notebook server will temporarily stop sending output\n",
      "to the client in order to avoid crashing it.\n",
      "To change this limit, set the config variable\n",
      "`--NotebookApp.iopub_msg_rate_limit`.\n",
      "\n",
      "Current values:\n",
      "NotebookApp.iopub_msg_rate_limit=1000.0 (msgs/sec)\n",
      "NotebookApp.rate_limit_window=3.0 (secs)\n",
      "\n"
     ]
    },
    {
     "name": "stdout",
     "output_type": "stream",
     "text": [
      "[=============================---------------------] 59.2% 984.4/1662.8MB downloaded"
     ]
    },
    {
     "name": "stderr",
     "output_type": "stream",
     "text": [
      "IOPub message rate exceeded.\n",
      "The notebook server will temporarily stop sending output\n",
      "to the client in order to avoid crashing it.\n",
      "To change this limit, set the config variable\n",
      "`--NotebookApp.iopub_msg_rate_limit`.\n",
      "\n",
      "Current values:\n",
      "NotebookApp.iopub_msg_rate_limit=1000.0 (msgs/sec)\n",
      "NotebookApp.rate_limit_window=3.0 (secs)\n",
      "\n"
     ]
    },
    {
     "name": "stdout",
     "output_type": "stream",
     "text": [
      "[==============================--------------------] 61.4% 1021.7/1662.8MB downloaded"
     ]
    },
    {
     "name": "stderr",
     "output_type": "stream",
     "text": [
      "IOPub message rate exceeded.\n",
      "The notebook server will temporarily stop sending output\n",
      "to the client in order to avoid crashing it.\n",
      "To change this limit, set the config variable\n",
      "`--NotebookApp.iopub_msg_rate_limit`.\n",
      "\n",
      "Current values:\n",
      "NotebookApp.iopub_msg_rate_limit=1000.0 (msgs/sec)\n",
      "NotebookApp.rate_limit_window=3.0 (secs)\n",
      "\n"
     ]
    },
    {
     "name": "stdout",
     "output_type": "stream",
     "text": [
      "[================================------------------] 64.0% 1064.6/1662.8MB downloaded"
     ]
    },
    {
     "name": "stderr",
     "output_type": "stream",
     "text": [
      "IOPub message rate exceeded.\n",
      "The notebook server will temporarily stop sending output\n",
      "to the client in order to avoid crashing it.\n",
      "To change this limit, set the config variable\n",
      "`--NotebookApp.iopub_msg_rate_limit`.\n",
      "\n",
      "Current values:\n",
      "NotebookApp.iopub_msg_rate_limit=1000.0 (msgs/sec)\n",
      "NotebookApp.rate_limit_window=3.0 (secs)\n",
      "\n"
     ]
    },
    {
     "name": "stdout",
     "output_type": "stream",
     "text": [
      "[=================================-----------------] 66.4% 1104.6/1662.8MB downloaded"
     ]
    },
    {
     "name": "stderr",
     "output_type": "stream",
     "text": [
      "IOPub message rate exceeded.\n",
      "The notebook server will temporarily stop sending output\n",
      "to the client in order to avoid crashing it.\n",
      "To change this limit, set the config variable\n",
      "`--NotebookApp.iopub_msg_rate_limit`.\n",
      "\n",
      "Current values:\n",
      "NotebookApp.iopub_msg_rate_limit=1000.0 (msgs/sec)\n",
      "NotebookApp.rate_limit_window=3.0 (secs)\n",
      "\n"
     ]
    },
    {
     "name": "stdout",
     "output_type": "stream",
     "text": [
      "[==================================----------------] 68.9% 1145.0/1662.8MB downloaded"
     ]
    },
    {
     "name": "stderr",
     "output_type": "stream",
     "text": [
      "IOPub message rate exceeded.\n",
      "The notebook server will temporarily stop sending output\n",
      "to the client in order to avoid crashing it.\n",
      "To change this limit, set the config variable\n",
      "`--NotebookApp.iopub_msg_rate_limit`.\n",
      "\n",
      "Current values:\n",
      "NotebookApp.iopub_msg_rate_limit=1000.0 (msgs/sec)\n",
      "NotebookApp.rate_limit_window=3.0 (secs)\n",
      "\n"
     ]
    },
    {
     "name": "stdout",
     "output_type": "stream",
     "text": [
      "[===================================---------------] 71.3% 1185.7/1662.8MB downloaded"
     ]
    },
    {
     "name": "stderr",
     "output_type": "stream",
     "text": [
      "IOPub message rate exceeded.\n",
      "The notebook server will temporarily stop sending output\n",
      "to the client in order to avoid crashing it.\n",
      "To change this limit, set the config variable\n",
      "`--NotebookApp.iopub_msg_rate_limit`.\n",
      "\n",
      "Current values:\n",
      "NotebookApp.iopub_msg_rate_limit=1000.0 (msgs/sec)\n",
      "NotebookApp.rate_limit_window=3.0 (secs)\n",
      "\n"
     ]
    },
    {
     "name": "stdout",
     "output_type": "stream",
     "text": [
      "[====================================--------------] 73.8% 1226.5/1662.8MB downloaded"
     ]
    },
    {
     "name": "stderr",
     "output_type": "stream",
     "text": [
      "IOPub message rate exceeded.\n",
      "The notebook server will temporarily stop sending output\n",
      "to the client in order to avoid crashing it.\n",
      "To change this limit, set the config variable\n",
      "`--NotebookApp.iopub_msg_rate_limit`.\n",
      "\n",
      "Current values:\n",
      "NotebookApp.iopub_msg_rate_limit=1000.0 (msgs/sec)\n",
      "NotebookApp.rate_limit_window=3.0 (secs)\n",
      "\n"
     ]
    },
    {
     "name": "stdout",
     "output_type": "stream",
     "text": [
      "[======================================------------] 76.2% 1266.5/1662.8MB downloaded"
     ]
    },
    {
     "name": "stderr",
     "output_type": "stream",
     "text": [
      "IOPub message rate exceeded.\n",
      "The notebook server will temporarily stop sending output\n",
      "to the client in order to avoid crashing it.\n",
      "To change this limit, set the config variable\n",
      "`--NotebookApp.iopub_msg_rate_limit`.\n",
      "\n",
      "Current values:\n",
      "NotebookApp.iopub_msg_rate_limit=1000.0 (msgs/sec)\n",
      "NotebookApp.rate_limit_window=3.0 (secs)\n",
      "\n"
     ]
    },
    {
     "name": "stdout",
     "output_type": "stream",
     "text": [
      "[=======================================-----------] 78.6% 1306.7/1662.8MB downloaded"
     ]
    },
    {
     "name": "stderr",
     "output_type": "stream",
     "text": [
      "IOPub message rate exceeded.\n",
      "The notebook server will temporarily stop sending output\n",
      "to the client in order to avoid crashing it.\n",
      "To change this limit, set the config variable\n",
      "`--NotebookApp.iopub_msg_rate_limit`.\n",
      "\n",
      "Current values:\n",
      "NotebookApp.iopub_msg_rate_limit=1000.0 (msgs/sec)\n",
      "NotebookApp.rate_limit_window=3.0 (secs)\n",
      "\n"
     ]
    },
    {
     "name": "stdout",
     "output_type": "stream",
     "text": [
      "[========================================----------] 80.9% 1345.2/1662.8MB downloaded"
     ]
    },
    {
     "name": "stderr",
     "output_type": "stream",
     "text": [
      "IOPub message rate exceeded.\n",
      "The notebook server will temporarily stop sending output\n",
      "to the client in order to avoid crashing it.\n",
      "To change this limit, set the config variable\n",
      "`--NotebookApp.iopub_msg_rate_limit`.\n",
      "\n",
      "Current values:\n",
      "NotebookApp.iopub_msg_rate_limit=1000.0 (msgs/sec)\n",
      "NotebookApp.rate_limit_window=3.0 (secs)\n",
      "\n"
     ]
    },
    {
     "name": "stdout",
     "output_type": "stream",
     "text": [
      "[=========================================---------] 83.4% 1387.0/1662.8MB downloaded"
     ]
    },
    {
     "name": "stderr",
     "output_type": "stream",
     "text": [
      "IOPub message rate exceeded.\n",
      "The notebook server will temporarily stop sending output\n",
      "to the client in order to avoid crashing it.\n",
      "To change this limit, set the config variable\n",
      "`--NotebookApp.iopub_msg_rate_limit`.\n",
      "\n",
      "Current values:\n",
      "NotebookApp.iopub_msg_rate_limit=1000.0 (msgs/sec)\n",
      "NotebookApp.rate_limit_window=3.0 (secs)\n",
      "\n"
     ]
    },
    {
     "name": "stdout",
     "output_type": "stream",
     "text": [
      "[==========================================--------] 85.7% 1425.5/1662.8MB downloaded"
     ]
    },
    {
     "name": "stderr",
     "output_type": "stream",
     "text": [
      "IOPub message rate exceeded.\n",
      "The notebook server will temporarily stop sending output\n",
      "to the client in order to avoid crashing it.\n",
      "To change this limit, set the config variable\n",
      "`--NotebookApp.iopub_msg_rate_limit`.\n",
      "\n",
      "Current values:\n",
      "NotebookApp.iopub_msg_rate_limit=1000.0 (msgs/sec)\n",
      "NotebookApp.rate_limit_window=3.0 (secs)\n",
      "\n"
     ]
    },
    {
     "name": "stdout",
     "output_type": "stream",
     "text": [
      "[============================================------] 88.3% 1467.7/1662.8MB downloaded"
     ]
    },
    {
     "name": "stderr",
     "output_type": "stream",
     "text": [
      "IOPub message rate exceeded.\n",
      "The notebook server will temporarily stop sending output\n",
      "to the client in order to avoid crashing it.\n",
      "To change this limit, set the config variable\n",
      "`--NotebookApp.iopub_msg_rate_limit`.\n",
      "\n",
      "Current values:\n",
      "NotebookApp.iopub_msg_rate_limit=1000.0 (msgs/sec)\n",
      "NotebookApp.rate_limit_window=3.0 (secs)\n",
      "\n"
     ]
    },
    {
     "name": "stdout",
     "output_type": "stream",
     "text": [
      "[=============================================-----] 90.7% 1507.9/1662.8MB downloaded"
     ]
    },
    {
     "name": "stderr",
     "output_type": "stream",
     "text": [
      "IOPub message rate exceeded.\n",
      "The notebook server will temporarily stop sending output\n",
      "to the client in order to avoid crashing it.\n",
      "To change this limit, set the config variable\n",
      "`--NotebookApp.iopub_msg_rate_limit`.\n",
      "\n",
      "Current values:\n",
      "NotebookApp.iopub_msg_rate_limit=1000.0 (msgs/sec)\n",
      "NotebookApp.rate_limit_window=3.0 (secs)\n",
      "\n"
     ]
    },
    {
     "name": "stdout",
     "output_type": "stream",
     "text": [
      "[==============================================----] 93.1% 1547.9/1662.8MB downloaded"
     ]
    },
    {
     "name": "stderr",
     "output_type": "stream",
     "text": [
      "IOPub message rate exceeded.\n",
      "The notebook server will temporarily stop sending output\n",
      "to the client in order to avoid crashing it.\n",
      "To change this limit, set the config variable\n",
      "`--NotebookApp.iopub_msg_rate_limit`.\n",
      "\n",
      "Current values:\n",
      "NotebookApp.iopub_msg_rate_limit=1000.0 (msgs/sec)\n",
      "NotebookApp.rate_limit_window=3.0 (secs)\n",
      "\n"
     ]
    },
    {
     "name": "stdout",
     "output_type": "stream",
     "text": [
      "[===============================================---] 95.5% 1588.6/1662.8MB downloaded"
     ]
    },
    {
     "name": "stderr",
     "output_type": "stream",
     "text": [
      "IOPub message rate exceeded.\n",
      "The notebook server will temporarily stop sending output\n",
      "to the client in order to avoid crashing it.\n",
      "To change this limit, set the config variable\n",
      "`--NotebookApp.iopub_msg_rate_limit`.\n",
      "\n",
      "Current values:\n",
      "NotebookApp.iopub_msg_rate_limit=1000.0 (msgs/sec)\n",
      "NotebookApp.rate_limit_window=3.0 (secs)\n",
      "\n"
     ]
    },
    {
     "name": "stdout",
     "output_type": "stream",
     "text": [
      "[================================================--] 98.0% 1629.4/1662.8MB downloaded"
     ]
    },
    {
     "name": "stderr",
     "output_type": "stream",
     "text": [
      "IOPub message rate exceeded.\n",
      "The notebook server will temporarily stop sending output\n",
      "to the client in order to avoid crashing it.\n",
      "To change this limit, set the config variable\n",
      "`--NotebookApp.iopub_msg_rate_limit`.\n",
      "\n",
      "Current values:\n",
      "NotebookApp.iopub_msg_rate_limit=1000.0 (msgs/sec)\n",
      "NotebookApp.rate_limit_window=3.0 (secs)\n",
      "\n"
     ]
    },
    {
     "name": "stdout",
     "output_type": "stream",
     "text": [
      "[=================================================-] 100.0% 1662.4/1662.8MB downloaded\n"
     ]
    }
   ],
   "source": [
    "# warning: this is a 1.7GB download\n",
    "googlenews_vectors = gensim.downloader.load('word2vec-google-news-300')"
   ]
  },
  {
   "cell_type": "code",
   "execution_count": 113,
   "id": "ae760b04",
   "metadata": {},
   "outputs": [
    {
     "data": {
      "text/plain": [
       "[('relatives', 0.6662651896476746),\n",
       " ('familiy', 0.6517067551612854),\n",
       " ('families', 0.6252894401550293),\n",
       " ('siblings', 0.6140850186347961),\n",
       " ('friends', 0.6128395199775696),\n",
       " ('mother', 0.6065612435340881),\n",
       " ('fam_ily', 0.5926255583763123),\n",
       " ('famiy', 0.5916980504989624),\n",
       " ('famliy', 0.5840003490447998),\n",
       " ('aunt', 0.5811319351196289)]"
      ]
     },
     "execution_count": 113,
     "metadata": {},
     "output_type": "execute_result"
    }
   ],
   "source": [
    "googlenews_vectors.most_similar('family')"
   ]
  },
  {
   "cell_type": "code",
   "execution_count": 114,
   "id": "db6f8625",
   "metadata": {},
   "outputs": [
    {
     "data": {
      "text/plain": [
       "[('mother', 0.8462507128715515),\n",
       " ('daughter', 0.7899606823921204),\n",
       " ('husband', 0.7560456991195679),\n",
       " ('son', 0.7279756665229797),\n",
       " ('eldest_daughter', 0.7120418548583984),\n",
       " ('niece', 0.7096832990646362),\n",
       " ('aunt', 0.6960804462432861),\n",
       " ('grandmother', 0.689734160900116),\n",
       " ('sister', 0.6895190477371216),\n",
       " ('daughters', 0.6731120944023132)]"
      ]
     },
     "execution_count": 114,
     "metadata": {},
     "output_type": "execute_result"
    }
   ],
   "source": [
    "googlenews_vectors.most_similar(positive=['father', 'woman'], negative=['man'])"
   ]
  },
  {
   "cell_type": "code",
   "execution_count": 123,
   "id": "84c716d9",
   "metadata": {},
   "outputs": [
    {
     "data": {
      "text/plain": [
       "[('barcelona', 0.5641589760780334),\n",
       " ('madrid', 0.5531224012374878),\n",
       " ('sweden', 0.5319081544876099),\n",
       " ('luis', 0.5283914804458618),\n",
       " ('alex', 0.5277433395385742),\n",
       " ('diego', 0.5276082754135132),\n",
       " ('hong_kong', 0.526089072227478),\n",
       " ('italy', 0.5217777490615845),\n",
       " ('los_angeles', 0.5217476487159729),\n",
       " ('london', 0.5210322141647339)]"
      ]
     },
     "execution_count": 123,
     "metadata": {},
     "output_type": "execute_result"
    }
   ],
   "source": [
    "googlenews_vectors.most_similar(positive=['tokyo', 'spain'], negative=['japan'])"
   ]
  },
  {
   "cell_type": "code",
   "execution_count": 125,
   "id": "92404544",
   "metadata": {},
   "outputs": [
    {
     "data": {
      "text/plain": [
       "[('adore', 0.5677226185798645),\n",
       " ('loved', 0.5532373189926147),\n",
       " ('loves', 0.5279984474182129),\n",
       " ('romance', 0.508080244064331),\n",
       " ('absolutely_adore', 0.5061413049697876),\n",
       " ('brotherly_sisterly', 0.49159693717956543),\n",
       " ('virginal_bride', 0.48833003640174866),\n",
       " ('coolest_chick', 0.48740699887275696),\n",
       " ('Ilove', 0.4870930314064026),\n",
       " ('romantic', 0.48444706201553345)]"
      ]
     },
     "execution_count": 125,
     "metadata": {},
     "output_type": "execute_result"
    }
   ],
   "source": [
    "googlenews_vectors.most_similar(positive=['love', 'woman'], negative=['man'])"
   ]
  },
  {
   "cell_type": "code",
   "execution_count": null,
   "id": "27f474b8",
   "metadata": {},
   "outputs": [],
   "source": []
  }
 ],
 "metadata": {
  "kernelspec": {
   "display_name": "Python 3 (ipykernel)",
   "language": "python",
   "name": "python3"
  },
  "language_info": {
   "codemirror_mode": {
    "name": "ipython",
    "version": 3
   },
   "file_extension": ".py",
   "mimetype": "text/x-python",
   "name": "python",
   "nbconvert_exporter": "python",
   "pygments_lexer": "ipython3",
   "version": "3.9.12"
  }
 },
 "nbformat": 4,
 "nbformat_minor": 5
}
