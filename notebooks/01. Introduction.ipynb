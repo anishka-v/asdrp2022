{
 "cells": [
  {
   "cell_type": "markdown",
   "id": "7a69fd2f",
   "metadata": {},
   "source": [
    "# Hello World!\n"
   ]
  },
  {
   "cell_type": "code",
   "execution_count": 1,
   "id": "15095ef1",
   "metadata": {},
   "outputs": [],
   "source": [
    "# dynamic typing\n",
    "\n",
    "x = 5\n",
    "y = 6.3"
   ]
  },
  {
   "cell_type": "markdown",
   "id": "4e5be399",
   "metadata": {},
   "source": [
    "### Immutable Strings"
   ]
  },
  {
   "cell_type": "code",
   "execution_count": 2,
   "id": "f935052b",
   "metadata": {},
   "outputs": [
    {
     "data": {
      "text/plain": [
       "'G'"
      ]
     },
     "execution_count": 2,
     "metadata": {},
     "output_type": "execute_result"
    }
   ],
   "source": [
    "s = \"Good Afternoon\"\n",
    "\n",
    "s[0]"
   ]
  },
  {
   "cell_type": "code",
   "execution_count": 3,
   "id": "057a31ac",
   "metadata": {},
   "outputs": [
    {
     "data": {
      "text/plain": [
       "'After'"
      ]
     },
     "execution_count": 3,
     "metadata": {},
     "output_type": "execute_result"
    }
   ],
   "source": [
    "s[5:10]"
   ]
  },
  {
   "cell_type": "code",
   "execution_count": 4,
   "id": "26fd1225",
   "metadata": {},
   "outputs": [
    {
     "data": {
      "text/plain": [
       "'Good After'"
      ]
     },
     "execution_count": 4,
     "metadata": {},
     "output_type": "execute_result"
    }
   ],
   "source": [
    "s[:10]"
   ]
  },
  {
   "cell_type": "code",
   "execution_count": 6,
   "id": "cd1895d5",
   "metadata": {},
   "outputs": [
    {
     "data": {
      "text/plain": [
       "'Afternoon'"
      ]
     },
     "execution_count": 6,
     "metadata": {},
     "output_type": "execute_result"
    }
   ],
   "source": [
    "s[5:]"
   ]
  },
  {
   "cell_type": "code",
   "execution_count": 5,
   "id": "f888c0ec",
   "metadata": {},
   "outputs": [
    {
     "data": {
      "text/plain": [
       "'noon'"
      ]
     },
     "execution_count": 5,
     "metadata": {},
     "output_type": "execute_result"
    }
   ],
   "source": [
    "s[-4:]"
   ]
  },
  {
   "cell_type": "code",
   "execution_count": 8,
   "id": "261aafe2",
   "metadata": {},
   "outputs": [],
   "source": [
    "t = s.upper()"
   ]
  },
  {
   "cell_type": "code",
   "execution_count": 10,
   "id": "37b1844b",
   "metadata": {},
   "outputs": [
    {
     "data": {
      "text/plain": [
       "5"
      ]
     },
     "execution_count": 10,
     "metadata": {},
     "output_type": "execute_result"
    }
   ],
   "source": [
    "pos = s.find(\"A\")\n",
    "pos"
   ]
  },
  {
   "cell_type": "code",
   "execution_count": 11,
   "id": "79e8627c",
   "metadata": {},
   "outputs": [
    {
     "data": {
      "text/plain": [
       "'George Washington'"
      ]
     },
     "execution_count": 11,
     "metadata": {},
     "output_type": "execute_result"
    }
   ],
   "source": [
    "first = \"George\"\n",
    "last = \"Washington\"\n",
    "name = first + \" \" + last\n",
    "name"
   ]
  },
  {
   "cell_type": "markdown",
   "id": "b4e84e85",
   "metadata": {},
   "source": [
    "### Lists"
   ]
  },
  {
   "cell_type": "code",
   "execution_count": 12,
   "id": "daf795da",
   "metadata": {},
   "outputs": [],
   "source": [
    "a = [16, 25.3, \"hello\", 45]"
   ]
  },
  {
   "cell_type": "code",
   "execution_count": 13,
   "id": "917a14a6",
   "metadata": {},
   "outputs": [
    {
     "data": {
      "text/plain": [
       "16"
      ]
     },
     "execution_count": 13,
     "metadata": {},
     "output_type": "execute_result"
    }
   ],
   "source": [
    "a[0]"
   ]
  },
  {
   "cell_type": "code",
   "execution_count": 14,
   "id": "7c0e821d",
   "metadata": {},
   "outputs": [
    {
     "data": {
      "text/plain": [
       "45"
      ]
     },
     "execution_count": 14,
     "metadata": {},
     "output_type": "execute_result"
    }
   ],
   "source": [
    "a[-1]"
   ]
  },
  {
   "cell_type": "code",
   "execution_count": 15,
   "id": "70e107d9",
   "metadata": {},
   "outputs": [
    {
     "data": {
      "text/plain": [
       "[16, 25.3]"
      ]
     },
     "execution_count": 15,
     "metadata": {},
     "output_type": "execute_result"
    }
   ],
   "source": [
    "a[0:2]"
   ]
  },
  {
   "cell_type": "code",
   "execution_count": 17,
   "id": "2388599d",
   "metadata": {},
   "outputs": [
    {
     "data": {
      "text/plain": [
       "range(2000, 2014)"
      ]
     },
     "execution_count": 17,
     "metadata": {},
     "output_type": "execute_result"
    }
   ],
   "source": [
    "years = range(2000, 2014)\n",
    "years"
   ]
  },
  {
   "cell_type": "raw",
   "id": "50e60ae4",
   "metadata": {},
   "source": [
    "years = xrange(2000, 2014)\n",
    "years"
   ]
  },
  {
   "cell_type": "code",
   "execution_count": 18,
   "id": "42cd0746",
   "metadata": {},
   "outputs": [],
   "source": [
    "s = \"Princeton Plasma Physics Lab\""
   ]
  },
  {
   "cell_type": "code",
   "execution_count": 19,
   "id": "3a92d9f3",
   "metadata": {},
   "outputs": [
    {
     "data": {
      "text/plain": [
       "['Princeton', 'Plasma', 'Physics', 'Lab']"
      ]
     },
     "execution_count": 19,
     "metadata": {},
     "output_type": "execute_result"
    }
   ],
   "source": [
    "s.split()"
   ]
  },
  {
   "cell_type": "code",
   "execution_count": 20,
   "id": "116e533c",
   "metadata": {},
   "outputs": [
    {
     "name": "stdout",
     "output_type": "stream",
     "text": [
      "Help on method_descriptor:\n",
      "\n",
      "split(self, /, sep=None, maxsplit=-1)\n",
      "    Return a list of the words in the string, using sep as the delimiter string.\n",
      "    \n",
      "    sep\n",
      "      The delimiter according which to split the string.\n",
      "      None (the default value) means split according to any whitespace,\n",
      "      and discard empty strings from the result.\n",
      "    maxsplit\n",
      "      Maximum number of splits to do.\n",
      "      -1 (the default value) means no limit.\n",
      "\n"
     ]
    }
   ],
   "source": [
    "help(str.split)"
   ]
  },
  {
   "cell_type": "markdown",
   "id": "91324d89",
   "metadata": {},
   "source": [
    "### Tuple"
   ]
  },
  {
   "cell_type": "code",
   "execution_count": 21,
   "id": "9f75726e",
   "metadata": {},
   "outputs": [
    {
     "data": {
      "text/plain": [
       "('apple', 'banana', 'cherry')"
      ]
     },
     "execution_count": 21,
     "metadata": {},
     "output_type": "execute_result"
    }
   ],
   "source": [
    "mytuple = (\"apple\", \"banana\", \"cherry\")\n",
    "mytuple"
   ]
  },
  {
   "cell_type": "code",
   "execution_count": 22,
   "id": "ce95007c",
   "metadata": {},
   "outputs": [
    {
     "name": "stdout",
     "output_type": "stream",
     "text": [
      "('apple', 'banana', 'cherry', 'apple', 'cherry')\n"
     ]
    }
   ],
   "source": [
    "thistuple = (\"apple\", \"banana\", \"cherry\", \"apple\", \"cherry\")\n",
    "print(thistuple)"
   ]
  },
  {
   "cell_type": "code",
   "execution_count": 23,
   "id": "1d735c08",
   "metadata": {},
   "outputs": [
    {
     "name": "stdout",
     "output_type": "stream",
     "text": [
      "5\n"
     ]
    }
   ],
   "source": [
    "print(len(thistuple))"
   ]
  },
  {
   "cell_type": "code",
   "execution_count": 24,
   "id": "90de12f6",
   "metadata": {},
   "outputs": [
    {
     "name": "stdout",
     "output_type": "stream",
     "text": [
      "<class 'str'>\n"
     ]
    }
   ],
   "source": [
    "thistuple = (\"apple\")\n",
    "print(type(thistuple))"
   ]
  },
  {
   "cell_type": "code",
   "execution_count": 25,
   "id": "1c19a1aa",
   "metadata": {},
   "outputs": [
    {
     "name": "stdout",
     "output_type": "stream",
     "text": [
      "<class 'tuple'>\n"
     ]
    }
   ],
   "source": [
    "thistuple = (\"apple\",)\n",
    "print(type(thistuple))"
   ]
  },
  {
   "cell_type": "code",
   "execution_count": 26,
   "id": "9dc6ece1",
   "metadata": {},
   "outputs": [],
   "source": [
    "tuple1 = (\"apple\", \"banana\", \"cherry\")\n",
    "tuple2 = (1, 5, 7, 9, 3)\n",
    "tuple3 = (True, False, False)"
   ]
  },
  {
   "cell_type": "code",
   "execution_count": 27,
   "id": "08180af0",
   "metadata": {},
   "outputs": [],
   "source": [
    "tuple1 = (\"abc\", 34, True, 40, \"male\")"
   ]
  },
  {
   "cell_type": "code",
   "execution_count": 28,
   "id": "4792b56f",
   "metadata": {},
   "outputs": [
    {
     "name": "stdout",
     "output_type": "stream",
     "text": [
      "<class 'tuple'>\n"
     ]
    }
   ],
   "source": [
    "mytuple = (\"apple\", \"banana\", \"cherry\")\n",
    "print(type(mytuple))"
   ]
  },
  {
   "cell_type": "code",
   "execution_count": 29,
   "id": "ca3d8fdb",
   "metadata": {},
   "outputs": [
    {
     "name": "stdout",
     "output_type": "stream",
     "text": [
      "('apple', 'banana', 'cherry')\n"
     ]
    }
   ],
   "source": [
    "thistuple = tuple((\"apple\", \"banana\", \"cherry\")) # note the double round-brackets\n",
    "print(thistuple)"
   ]
  },
  {
   "cell_type": "code",
   "execution_count": 31,
   "id": "08a404d1",
   "metadata": {},
   "outputs": [],
   "source": [
    "# What happens if we don't use the double round-brackets?\n",
    "# thistuple = tuple(\"apple\", \"banana\", \"cherry\")\n",
    "# print(thistuple)"
   ]
  },
  {
   "cell_type": "code",
   "execution_count": null,
   "id": "290b7df2",
   "metadata": {},
   "outputs": [],
   "source": []
  }
 ],
 "metadata": {
  "kernelspec": {
   "display_name": "Python 3 (ipykernel)",
   "language": "python",
   "name": "python3"
  },
  "language_info": {
   "codemirror_mode": {
    "name": "ipython",
    "version": 3
   },
   "file_extension": ".py",
   "mimetype": "text/x-python",
   "name": "python",
   "nbconvert_exporter": "python",
   "pygments_lexer": "ipython3",
   "version": "3.9.7"
  }
 },
 "nbformat": 4,
 "nbformat_minor": 5
}
