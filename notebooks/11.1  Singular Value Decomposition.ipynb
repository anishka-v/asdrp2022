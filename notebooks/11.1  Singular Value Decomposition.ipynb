{
 "cells": [
  {
   "cell_type": "markdown",
   "id": "593776df",
   "metadata": {},
   "source": [
    "# Singular Value Decomposition (SVD)\n",
    "\n",
    "The Singular-Value Decomposition, or SVD for short, is a matrix decomposition method for reducing a matrix to its constituent parts in order to make certain subsequent matrix calculations simpler.  SVD is a general matrix decomposition technique for any rectangular matrices.  A related eigen decomposition for square symmetric matrices is usally introduced in most beginning Linear Algebra course.  If you'd like to refresh the concept of eigen decomposition, here's an excellent tutorial by [Grant Sanderson](https://www.youtube.com/watch?v=PFDu9oVAE-g). It explains eigenvectors and eigenvalues visually.\n",
    "\n",
    "For the case of simplicity we will focus on the SVD for real-valued matrices and ignore the case for complex numbers.\n",
    "\n",
    "$ A = U \\Sigma V $\n",
    "\n",
    "Where $A$ is the real $m x n$ matrix that we wish to decompose, $U$ is an $m x m$ matrix, $\\Sigma$ is an $m x n$ diagonal matrix, and $V$ is an n x n matrix, and is often written as $V^T$ where T is the matrix transpose.\n",
    "\n",
    "The diagonal values in the Sigma matrix are known as the singular values of the original matrix $A$. The columns of the $U$ matrix are called the left-singular vectors of $A$, and the columns of $V$ are called the right-singular vectors of $A$.\n",
    "\n",
    "### Calculate Singular-Value Decomposition\n",
    "\n",
    "The SVD can be calculated by calling the `svd()` function.\n",
    "\n",
    "The function takes a matrix and returns the $U$, $\\Sigma$ and $V$ elements. The Sigma diagonal matrix is returned as a vector of singular values. The $V$ matrix is returned in a transposed form, e.g. $V^T$\n",
    "\n",
    "The example below defines a $3×2$ matrix and calculates the Singular-value decomposition."
   ]
  },
  {
   "cell_type": "code",
   "execution_count": 2,
   "id": "75805f30",
   "metadata": {},
   "outputs": [
    {
     "name": "stdout",
     "output_type": "stream",
     "text": [
      "[[1 2]\n",
      " [3 4]\n",
      " [5 6]]\n",
      "[[-0.2298477   0.88346102  0.40824829]\n",
      " [-0.52474482  0.24078249 -0.81649658]\n",
      " [-0.81964194 -0.40189603  0.40824829]]\n",
      "[9.52551809 0.51430058]\n",
      "[[-0.61962948 -0.78489445]\n",
      " [-0.78489445  0.61962948]]\n"
     ]
    }
   ],
   "source": [
    "import numpy as np\n",
    "from numpy import array\n",
    "from scipy.linalg import svd\n",
    "\n",
    "# define a matrix\n",
    "A = array([[1, 2], [3, 4], [5, 6]])\n",
    "print(A)\n",
    "\n",
    "# SVD\n",
    "U, s, VT = svd(A)\n",
    "print(U)\n",
    "print(s)\n",
    "print(VT)"
   ]
  },
  {
   "cell_type": "code",
   "execution_count": 2,
   "id": "0b72275c",
   "metadata": {},
   "outputs": [
    {
     "data": {
      "text/plain": [
       "(3, 2)"
      ]
     },
     "execution_count": 2,
     "metadata": {},
     "output_type": "execute_result"
    }
   ],
   "source": [
    "A.shape"
   ]
  },
  {
   "cell_type": "markdown",
   "id": "8930044a",
   "metadata": {},
   "source": [
    "### SVD for Dimensionality Reduction\n",
    "\n",
    "A popular application of SVD is for dimensionality reduction.\n",
    "\n",
    "Data with a large number of features, such as more features (columns) than observations (rows) may be reduced to a smaller subset of features that are most relevant to the prediction problem.\n",
    "\n",
    "The result is a matrix with a lower rank that is said to approximate the original matrix.\n",
    "\n",
    "To do this we can perform an SVD operation on the original data and select the top k largest singular values in Sigma. These columns can be selected from Sigma and the rows selected from V^T.\n",
    "\n",
    "An approximate B of the original vector A can then be reconstructed.\n",
    "\n",
    "$B = U \\Sigma_k . V_k{^T}$\n",
    "\n",
    "There are restrictions on 𝐔, 𝚺, and 𝐕:\n",
    "\n",
    "𝐔 has dimensions n×k, 𝚺 has dimensions k×k, and 𝐕 has dimensions kxk.\n",
    "\n",
    "𝐔 and 𝐕 are orthogonal matrices. That is, 𝐔⊤𝐔=𝐈 and 𝐕⊤𝐕=𝐈. This also implies that all columns of 𝐔 and 𝐕 have magnitude 1 and are mutually orthogonal.\n",
    "\n",
    "𝚺 is a diagonal matrix. That is, all elements in 𝚺 are 0 unless they lie on the diagonal. In addition, the diagonal elements in 𝚺 are arranged from biggest to smallest."
   ]
  },
  {
   "cell_type": "markdown",
   "id": "6e455556",
   "metadata": {},
   "source": [
    "For example, consider this matrix: \n",
    "\n",
    "$$\\begin{bmatrix}\n",
    "1 & 0\\\\\n",
    "0 & 4\\\\\n",
    "0 & 0\n",
    "\\end{bmatrix}$$\n",
    "\n",
    "The SVD of 𝐗 is:\n",
    "\n",
    "\n",
    "\\begin{align}\n",
    "X &= U\\Sigma V^T\\\\\n",
    "&= \\begin{bmatrix}\n",
    "0 & 1 & 0\\\\\n",
    "1 & 0 & 0\\\\\n",
    "0 & 0 & 1\n",
    "\\end{bmatrix}\n",
    "\\begin{bmatrix}\n",
    "4 & 0\\\\\n",
    "0 & 1\\\\\n",
    "0 & 0\n",
    "\\end{bmatrix}\n",
    "\\begin{bmatrix}\n",
    "0 & 1\\\\\n",
    "1 & 0\n",
    "\\end{bmatrix}\n",
    "\\end{align}\n",
    "\n",
    "We can check that this decomposition reproduces 𝐗:"
   ]
  },
  {
   "cell_type": "code",
   "execution_count": 3,
   "id": "9cde0ef4",
   "metadata": {},
   "outputs": [
    {
     "data": {
      "text/plain": [
       "array([[1, 0],\n",
       "       [0, 4],\n",
       "       [0, 0]])"
      ]
     },
     "execution_count": 3,
     "metadata": {},
     "output_type": "execute_result"
    }
   ],
   "source": [
    "U = np.array([\n",
    "    [0, 1, 0],\n",
    "    [1, 0, 0],\n",
    "    [0, 0, 1],\n",
    "])\n",
    "S = np.array([\n",
    "    [4, 0],\n",
    "    [0, 1],\n",
    "    [0, 0],\n",
    "])\n",
    "V = np.array([\n",
    "    [0, 1],\n",
    "    [1, 0],\n",
    "])\n",
    "\n",
    "U @ S @ V.T"
   ]
  },
  {
   "cell_type": "markdown",
   "id": "b491fec3",
   "metadata": {},
   "source": [
    "We can also check that the matrices 𝐔, 𝚺, and 𝐕 fulfill the requirements of the SVD.\n",
    "\n",
    "First: 𝐗 has dimensions 3×2. 𝐔 has dimensions 3×3, 𝚺 has dimensions 3×2, and 𝐕 has dimensions 2×2.\n",
    "\n",
    "Second: 𝐔 and 𝐕 are orthogonal matrices:"
   ]
  },
  {
   "cell_type": "code",
   "execution_count": 4,
   "id": "c36aad58",
   "metadata": {},
   "outputs": [
    {
     "data": {
      "text/plain": [
       "array([[1, 0, 0],\n",
       "       [0, 1, 0],\n",
       "       [0, 0, 1]])"
      ]
     },
     "execution_count": 4,
     "metadata": {},
     "output_type": "execute_result"
    }
   ],
   "source": [
    "U @ U.T"
   ]
  },
  {
   "cell_type": "code",
   "execution_count": 5,
   "id": "81fc6c78",
   "metadata": {},
   "outputs": [
    {
     "data": {
      "text/plain": [
       "array([[1, 0],\n",
       "       [0, 1]])"
      ]
     },
     "execution_count": 5,
     "metadata": {},
     "output_type": "execute_result"
    }
   ],
   "source": [
    "V @ V.T"
   ]
  },
  {
   "cell_type": "markdown",
   "id": "50ff3481",
   "metadata": {},
   "source": [
    "Third: 𝚺 is diagonal, and its diagonal elements are arranged from greatest to least."
   ]
  },
  {
   "cell_type": "code",
   "execution_count": 6,
   "id": "e4f52ed3",
   "metadata": {},
   "outputs": [
    {
     "data": {
      "text/plain": [
       "array([[4, 0],\n",
       "       [0, 1],\n",
       "       [0, 0]])"
      ]
     },
     "execution_count": 6,
     "metadata": {},
     "output_type": "execute_result"
    }
   ],
   "source": [
    "S"
   ]
  },
  {
   "cell_type": "markdown",
   "id": "07ff3e9a",
   "metadata": {},
   "source": [
    "### Computing SVD in Python\n",
    "\n",
    "To compute the SVD in Python, we use the np.linalg.svd function:"
   ]
  },
  {
   "cell_type": "code",
   "execution_count": 7,
   "id": "53cd9ee8",
   "metadata": {},
   "outputs": [
    {
     "data": {
      "text/plain": [
       "(array([[0., 1., 0.],\n",
       "        [1., 0., 0.],\n",
       "        [0., 0., 1.]]),\n",
       " array([4., 1.]),\n",
       " array([[0., 1.],\n",
       "        [1., 0.]]))"
      ]
     },
     "execution_count": 7,
     "metadata": {},
     "output_type": "execute_result"
    }
   ],
   "source": [
    "svd = np.linalg.svd\n",
    "\n",
    "X = np.array([\n",
    "    [1, 0],\n",
    "    [0, 4],\n",
    "    [0, 0]\n",
    "])\n",
    "svd(X)"
   ]
  },
  {
   "cell_type": "markdown",
   "id": "3fbe0f43",
   "metadata": {},
   "source": [
    "np.linalg.svd returns a tuple of three arrays corresponding to 𝐔, 𝚺, and 𝐕⊤. Notice that the 𝚺 value is one-dimensional numpy array rather than a diagonal matrix, which can cause problems recreating 𝐗 using the return values of np.linalg.svd. For convenience, we often use full_matrices=False in our call to np.linalg.svd, which reduces the dimensions of 𝐔 or 𝐕⊤ to match the dimensions of 𝚺:"
   ]
  },
  {
   "cell_type": "code",
   "execution_count": 8,
   "id": "8514d7f2",
   "metadata": {},
   "outputs": [
    {
     "data": {
      "text/plain": [
       "(array([[0., 1.],\n",
       "        [1., 0.],\n",
       "        [0., 0.]]),\n",
       " array([4., 1.]),\n",
       " array([[0., 1.],\n",
       "        [1., 0.]]))"
      ]
     },
     "execution_count": 8,
     "metadata": {},
     "output_type": "execute_result"
    }
   ],
   "source": [
    "svd(X, full_matrices=False)"
   ]
  },
  {
   "cell_type": "markdown",
   "id": "258fc87e",
   "metadata": {},
   "source": [
    "This allows us to use np.diag to create the diagonal matrix 𝚺 and reproduce the original 𝐗:"
   ]
  },
  {
   "cell_type": "code",
   "execution_count": 9,
   "id": "973e2621",
   "metadata": {},
   "outputs": [
    {
     "data": {
      "text/plain": [
       "array([[1., 0.],\n",
       "       [0., 4.],\n",
       "       [0., 0.]])"
      ]
     },
     "execution_count": 9,
     "metadata": {},
     "output_type": "execute_result"
    }
   ],
   "source": [
    "U, S, Vt = svd(X, full_matrices=False)\n",
    "U @ np.diag(S) @ Vt"
   ]
  },
  {
   "cell_type": "markdown",
   "id": "fa7cec60",
   "metadata": {},
   "source": [
    "This takes advantage of the fact that an all-zero row in a matrix multiplication can be removed."
   ]
  },
  {
   "cell_type": "markdown",
   "id": "47c2c452",
   "metadata": {},
   "source": [
    "### Latent Semantic Analysis (LSA)\n",
    "\n",
    "In natural language processing, this approach can be used on matrices of word occurrences or word frequencies in documents and is called **Latent Semantic Analysis** or **Latent Semantic Indexing**.\n",
    "\n",
    "Example: first a 3×10 matrix is defined, with more columns than rows. The SVD is calculated and only the first two features are selected. The elements are recombined to give an accurate reproduction of the original matrix. Finally the transform is calculated two different ways."
   ]
  },
  {
   "cell_type": "code",
   "execution_count": 5,
   "id": "c39238b6",
   "metadata": {},
   "outputs": [
    {
     "name": "stdout",
     "output_type": "stream",
     "text": [
      "[[ 1  2  3  4  5  6  7  8  9 10]\n",
      " [11 12 13 14 15 16 17 18 19 20]\n",
      " [21 22 23 24 25 26 27 28 29 30]]\n",
      "(3, 10)\n"
     ]
    }
   ],
   "source": [
    "from numpy import diag\n",
    "from numpy import zeros\n",
    "from scipy.linalg import svd\n",
    "# define a matrix\n",
    "A = array([\n",
    "    [1,2,3,4,5,6,7,8,9,10],\n",
    "    [11,12,13,14,15,16,17,18,19,20],\n",
    "    [21,22,23,24,25,26,27,28,29,30]])\n",
    "print(A)\n",
    "print(A.shape)"
   ]
  },
  {
   "cell_type": "code",
   "execution_count": null,
   "id": "1686cde8",
   "metadata": {},
   "outputs": [],
   "source": [
    "# Singular-value decomposition\n",
    "U, s, VT = svd(A)"
   ]
  },
  {
   "cell_type": "code",
   "execution_count": 6,
   "id": "b8f94503",
   "metadata": {},
   "outputs": [
    {
     "name": "stdout",
     "output_type": "stream",
     "text": [
      "[[9.69657342e+01 0.00000000e+00 0.00000000e+00 0.00000000e+00\n",
      "  0.00000000e+00 0.00000000e+00 0.00000000e+00 0.00000000e+00\n",
      "  0.00000000e+00 0.00000000e+00]\n",
      " [0.00000000e+00 7.25578339e+00 0.00000000e+00 0.00000000e+00\n",
      "  0.00000000e+00 0.00000000e+00 0.00000000e+00 0.00000000e+00\n",
      "  0.00000000e+00 0.00000000e+00]\n",
      " [0.00000000e+00 0.00000000e+00 1.48879510e-15 0.00000000e+00\n",
      "  0.00000000e+00 0.00000000e+00 0.00000000e+00 0.00000000e+00\n",
      "  0.00000000e+00 0.00000000e+00]]\n"
     ]
    }
   ],
   "source": [
    "# create m x n Sigma matrix\n",
    "Sigma = zeros((A.shape[0], A.shape[1]))\n",
    "\n",
    "# populate Sigma with n x n diagonal matrix\n",
    "Sigma[:A.shape[0], :A.shape[0]] = diag(s)\n",
    "\n",
    "print(Sigma)"
   ]
  },
  {
   "cell_type": "code",
   "execution_count": 7,
   "id": "94e4e30f",
   "metadata": {},
   "outputs": [],
   "source": [
    "# select the 2 most important singular values\n",
    "n_elements = 2\n",
    "Sigma = Sigma[:, :n_elements]\n",
    "VT = VT[:n_elements, :]"
   ]
  },
  {
   "cell_type": "markdown",
   "id": "c0648d23",
   "metadata": {},
   "source": [
    "Let's reconstruct with only n_elements = 2 singular values:"
   ]
  },
  {
   "cell_type": "code",
   "execution_count": 8,
   "id": "543457e7",
   "metadata": {},
   "outputs": [
    {
     "name": "stdout",
     "output_type": "stream",
     "text": [
      "[[ 1.  2.  3.  4.  5.  6.  7.  8.  9. 10.]\n",
      " [11. 12. 13. 14. 15. 16. 17. 18. 19. 20.]\n",
      " [21. 22. 23. 24. 25. 26. 27. 28. 29. 30.]]\n"
     ]
    }
   ],
   "source": [
    "# reconstruct\n",
    "B = U.dot(Sigma.dot(VT))\n",
    "print(B)"
   ]
  },
  {
   "cell_type": "code",
   "execution_count": 9,
   "id": "d4e8b071",
   "metadata": {},
   "outputs": [
    {
     "name": "stdout",
     "output_type": "stream",
     "text": [
      "[[-18.52157747  -6.47697214]\n",
      " [-49.81310011  -1.91182038]\n",
      " [-81.10462276   2.65333138]]\n",
      "[[-18.52157747  -6.47697214]\n",
      " [-49.81310011  -1.91182038]\n",
      " [-81.10462276   2.65333138]]\n"
     ]
    }
   ],
   "source": [
    "# transform\n",
    "T = U.dot(Sigma)\n",
    "print(T)\n",
    "T = A.dot(VT.T)\n",
    "print(T)"
   ]
  },
  {
   "cell_type": "markdown",
   "id": "e750b671",
   "metadata": {},
   "source": [
    "### `scikit-learn` SVD\n",
    "\n",
    "The scikit-learn provides a TruncatedSVD class that implements this capability directly.\n",
    "\n",
    "The TruncatedSVD class can be created in which you must specify the number of desirable features or components to select, e.g. 2. Once created, you can fit the transform (e.g. calculate V^Tk) by calling the fit() function, then apply it to the original matrix by calling the transform() function. The result is the transform of A called T above.\n",
    "\n",
    "The example below demonstrates the TruncatedSVD class."
   ]
  },
  {
   "cell_type": "code",
   "execution_count": 10,
   "id": "c962c4c5",
   "metadata": {},
   "outputs": [
    {
     "name": "stdout",
     "output_type": "stream",
     "text": [
      "[[ 1  2  3  4  5  6  7  8  9 10]\n",
      " [11 12 13 14 15 16 17 18 19 20]\n",
      " [21 22 23 24 25 26 27 28 29 30]]\n"
     ]
    }
   ],
   "source": [
    "from numpy import array\n",
    "from sklearn.decomposition import TruncatedSVD\n",
    "# define array\n",
    "A = array([\n",
    "    [1,2,3,4,5,6,7,8,9,10],\n",
    "    [11,12,13,14,15,16,17,18,19,20],\n",
    "    [21,22,23,24,25,26,27,28,29,30]])\n",
    "print(A)"
   ]
  },
  {
   "cell_type": "code",
   "execution_count": 11,
   "id": "d7a446c8",
   "metadata": {},
   "outputs": [
    {
     "name": "stdout",
     "output_type": "stream",
     "text": [
      "[[18.52157747  6.47697214]\n",
      " [49.81310011  1.91182038]\n",
      " [81.10462276 -2.65333138]]\n"
     ]
    }
   ],
   "source": [
    "# svd\n",
    "svd = TruncatedSVD(n_components=2)\n",
    "svd.fit(A)\n",
    "result = svd.transform(A)\n",
    "print(result)"
   ]
  },
  {
   "cell_type": "markdown",
   "id": "8a60377b",
   "metadata": {},
   "source": [
    "We can see that the values match those calculated manually above, except for the sign on some values. We can expect there to be some instability when it comes to the sign given the nature of the calculations involved and the differences in the underlying libraries and methods used. This instability of sign should not be a problem in practice as long as the transform is trained for reuse."
   ]
  },
  {
   "cell_type": "code",
   "execution_count": 13,
   "id": "c1e15c29",
   "metadata": {},
   "outputs": [
    {
     "data": {
      "text/plain": [
       "(3, 2)"
      ]
     },
     "execution_count": 13,
     "metadata": {},
     "output_type": "execute_result"
    }
   ],
   "source": [
    "result.shape"
   ]
  },
  {
   "cell_type": "markdown",
   "id": "277fa8f1",
   "metadata": {},
   "source": [
    "### Latent Semantic Analysis (LSA)\n",
    "\n",
    "Singular value decomposition can be used to classify similar objects (for example, news articles on a particular topic). SVD applied to NLP is often referred to as Latent Semantic Analysis (LSA).\n",
    "\n",
    "Imagine four blog posts, two about skiing and two about hockey. Consider five different words and the number of times they appear in each post:"
   ]
  },
  {
   "cell_type": "code",
   "execution_count": 14,
   "id": "13928f51",
   "metadata": {},
   "outputs": [
    {
     "data": {
      "text/html": [
       "<div>\n",
       "<style scoped>\n",
       "    .dataframe tbody tr th:only-of-type {\n",
       "        vertical-align: middle;\n",
       "    }\n",
       "\n",
       "    .dataframe tbody tr th {\n",
       "        vertical-align: top;\n",
       "    }\n",
       "\n",
       "    .dataframe thead th {\n",
       "        text-align: right;\n",
       "    }\n",
       "</style>\n",
       "<table border=\"1\" class=\"dataframe\">\n",
       "  <thead>\n",
       "    <tr style=\"text-align: right;\">\n",
       "      <th></th>\n",
       "      <th>post1</th>\n",
       "      <th>post2</th>\n",
       "      <th>post3</th>\n",
       "      <th>post4</th>\n",
       "    </tr>\n",
       "    <tr>\n",
       "      <th>word:</th>\n",
       "      <th></th>\n",
       "      <th></th>\n",
       "      <th></th>\n",
       "      <th></th>\n",
       "    </tr>\n",
       "  </thead>\n",
       "  <tbody>\n",
       "    <tr>\n",
       "      <th>ice</th>\n",
       "      <td>4</td>\n",
       "      <td>4</td>\n",
       "      <td>6</td>\n",
       "      <td>2</td>\n",
       "    </tr>\n",
       "    <tr>\n",
       "      <th>snow</th>\n",
       "      <td>6</td>\n",
       "      <td>1</td>\n",
       "      <td>0</td>\n",
       "      <td>5</td>\n",
       "    </tr>\n",
       "    <tr>\n",
       "      <th>tahoe</th>\n",
       "      <td>3</td>\n",
       "      <td>0</td>\n",
       "      <td>0</td>\n",
       "      <td>5</td>\n",
       "    </tr>\n",
       "    <tr>\n",
       "      <th>goal</th>\n",
       "      <td>0</td>\n",
       "      <td>6</td>\n",
       "      <td>5</td>\n",
       "      <td>1</td>\n",
       "    </tr>\n",
       "    <tr>\n",
       "      <th>puck</th>\n",
       "      <td>0</td>\n",
       "      <td>4</td>\n",
       "      <td>5</td>\n",
       "      <td>0</td>\n",
       "    </tr>\n",
       "  </tbody>\n",
       "</table>\n",
       "</div>"
      ],
      "text/plain": [
       "       post1  post2  post3  post4\n",
       "word:                            \n",
       "ice        4      4      6      2\n",
       "snow       6      1      0      5\n",
       "tahoe      3      0      0      5\n",
       "goal       0      6      5      1\n",
       "puck       0      4      5      0"
      ]
     },
     "execution_count": 14,
     "metadata": {},
     "output_type": "execute_result"
    }
   ],
   "source": [
    "import pandas as pd\n",
    "\n",
    "c_names = ['post1', 'post2', 'post3', 'post4']\n",
    "words = ['ice', 'snow', 'tahoe', 'goal', 'puck']\n",
    "post_words = pd.DataFrame([[4, 4, 6, 2],\n",
    "                           [6, 1, 0, 5],\n",
    "                           [3, 0, 0, 5],\n",
    "                           [0, 6, 5, 1],\n",
    "                           [0, 4, 5, 0]],\n",
    "                          index = words,\n",
    "                          columns = c_names)\n",
    "post_words.index.names = ['word:']\n",
    "post_words"
   ]
  },
  {
   "cell_type": "markdown",
   "id": "42046635",
   "metadata": {},
   "source": [
    "It looks like posts 1 and 4 pertain to skiing, and while posts 2 and 3 are about hockey.\n",
    "\n",
    "Imagine the DataFrame post_words as the matrix  A , where the entries represent the number of times a given word appears in the post. The singular value decomposition of  A  can be calculated using numpy."
   ]
  },
  {
   "cell_type": "code",
   "execution_count": 16,
   "id": "8514dbf6",
   "metadata": {},
   "outputs": [
    {
     "name": "stdout",
     "output_type": "stream",
     "text": [
      "V = \n",
      "[[-0.4  -0.57 -0.63 -0.35]\n",
      " [-0.6   0.33  0.41 -0.6 ]\n",
      " [ 0.6  -0.41  0.32 -0.61]\n",
      " [-0.34 -0.63  0.58  0.39]]\n"
     ]
    }
   ],
   "source": [
    "import numpy as np\n",
    "\n",
    "U, sigma, V = np.linalg.svd(post_words)\n",
    "print(\"V = \")\n",
    "print(np.round(V, decimals=2))"
   ]
  },
  {
   "cell_type": "markdown",
   "id": "c860b48d",
   "metadata": {},
   "source": [
    "From SVD: $a_i = U \\Sigma v_i$ , that is each column  $v_i$  of  $V$  defines the entries in that column,  $a_i$ , of our term-document matrix,  $A$ . Let's label $V$ with the identities of the posts using a DataFrame:"
   ]
  },
  {
   "cell_type": "code",
   "execution_count": 17,
   "id": "48fb4172",
   "metadata": {},
   "outputs": [
    {
     "data": {
      "text/html": [
       "<div>\n",
       "<style scoped>\n",
       "    .dataframe tbody tr th:only-of-type {\n",
       "        vertical-align: middle;\n",
       "    }\n",
       "\n",
       "    .dataframe tbody tr th {\n",
       "        vertical-align: top;\n",
       "    }\n",
       "\n",
       "    .dataframe thead th {\n",
       "        text-align: right;\n",
       "    }\n",
       "</style>\n",
       "<table border=\"1\" class=\"dataframe\">\n",
       "  <thead>\n",
       "    <tr style=\"text-align: right;\">\n",
       "      <th></th>\n",
       "      <th>post1</th>\n",
       "      <th>post2</th>\n",
       "      <th>post3</th>\n",
       "      <th>post4</th>\n",
       "    </tr>\n",
       "  </thead>\n",
       "  <tbody>\n",
       "    <tr>\n",
       "      <th>0</th>\n",
       "      <td>-0.395634</td>\n",
       "      <td>-0.570869</td>\n",
       "      <td>-0.630100</td>\n",
       "      <td>-0.347212</td>\n",
       "    </tr>\n",
       "    <tr>\n",
       "      <th>1</th>\n",
       "      <td>-0.599836</td>\n",
       "      <td>0.331743</td>\n",
       "      <td>0.408279</td>\n",
       "      <td>-0.602870</td>\n",
       "    </tr>\n",
       "    <tr>\n",
       "      <th>2</th>\n",
       "      <td>0.604001</td>\n",
       "      <td>-0.405353</td>\n",
       "      <td>0.321932</td>\n",
       "      <td>-0.605996</td>\n",
       "    </tr>\n",
       "    <tr>\n",
       "      <th>3</th>\n",
       "      <td>-0.344752</td>\n",
       "      <td>-0.632253</td>\n",
       "      <td>0.576751</td>\n",
       "      <td>0.385695</td>\n",
       "    </tr>\n",
       "  </tbody>\n",
       "</table>\n",
       "</div>"
      ],
      "text/plain": [
       "      post1     post2     post3     post4\n",
       "0 -0.395634 -0.570869 -0.630100 -0.347212\n",
       "1 -0.599836  0.331743  0.408279 -0.602870\n",
       "2  0.604001 -0.405353  0.321932 -0.605996\n",
       "3 -0.344752 -0.632253  0.576751  0.385695"
      ]
     },
     "execution_count": 17,
     "metadata": {},
     "output_type": "execute_result"
    }
   ],
   "source": [
    "V_df = pd.DataFrame(V, columns=c_names)\n",
    "V_df"
   ]
  },
  {
   "cell_type": "markdown",
   "id": "ae9706b8",
   "metadata": {},
   "source": [
    "Note how post1 and post4 agree closely in value in the first two rows of  $V$ , as do post2 and post3. This indicates that posts 1 and 4 contain similar words (in this case words relating to skiing). However, the agreement is less close in the last two rows, even among related posts. This is because the weights of the last two rows,  $σ_3$  and  $σ_4$ , are small compared to  $σ_1$  and  $σ_2$ . Let's look at the values for the $σ$ 's."
   ]
  },
  {
   "cell_type": "code",
   "execution_count": 18,
   "id": "af303c6a",
   "metadata": {},
   "outputs": [
    {
     "data": {
      "text/plain": [
       "array([13.3221948 ,  9.2609512 ,  2.41918664,  1.37892883])"
      ]
     },
     "execution_count": 18,
     "metadata": {},
     "output_type": "execute_result"
    }
   ],
   "source": [
    "sigma"
   ]
  },
  {
   "cell_type": "markdown",
   "id": "7d8f9c30",
   "metadata": {},
   "source": [
    "$σ_1$ and $σ_2$ are about an order of magnitude greater than $σ_3$ and $σ_4$, indicating that the values in the first two rows of V are much more important than the values in the last two. In fact we could closely reproduce A using just the first two rows of V and first two columns of U, with an error of at most 1 word:"
   ]
  },
  {
   "cell_type": "code",
   "execution_count": 20,
   "id": "04fb0a66",
   "metadata": {},
   "outputs": [
    {
     "name": "stdout",
     "output_type": "stream",
     "text": [
      "A calculated using only the first two components:\n",
      "\n",
      "          post1     post2     post3     post4\n",
      "ice    3.197084  4.818556  5.325736  2.792675\n",
      "snow   5.619793  0.588201  0.384675  5.412204\n",
      "tahoe  4.043943  0.071665 -0.123639  3.917015\n",
      "goal   0.682117  5.089628  5.762122  0.336491\n",
      "puck   0.129398  4.219523  4.799185 -0.143946\n",
      "\n",
      "Error from actual value:\n",
      "\n",
      "          post1     post2     post3     post4\n",
      "word:                                        \n",
      "ice    0.802916 -0.818556  0.674264 -0.792675\n",
      "snow   0.380207  0.411799 -0.384675 -0.412204\n",
      "tahoe -1.043943 -0.071665  0.123639  1.082985\n",
      "goal  -0.682117  0.910372 -0.762122  0.663509\n",
      "puck  -0.129398 -0.219523  0.200815  0.143946\n"
     ]
    }
   ],
   "source": [
    "A_approx = np.matrix(U[:, :2]) * np.diag(sigma[:2]) * np.matrix(V[:2, :])\n",
    "\n",
    "print(\"A calculated using only the first two components:\\n\")\n",
    "print(pd.DataFrame(A_approx, index=words, columns=c_names))\n",
    "print(\"\\nError from actual value:\\n\")\n",
    "print(post_words - A_approx)"
   ]
  },
  {
   "cell_type": "markdown",
   "id": "9a9ed8e6",
   "metadata": {},
   "source": [
    "To help visualize the similarity between posts,  V  can be displayed as an image. Notice how the similar posts (1 and 4, 2 and 3) have similar color values in the first two rows:"
   ]
  },
  {
   "cell_type": "code",
   "execution_count": 22,
   "id": "732dab45",
   "metadata": {},
   "outputs": [
    {
     "data": {
      "image/png": "[encoded data removed]",
      "text/plain": [
       "<Figure size 432x288 with 2 Axes>"
      ]
     },
     "metadata": {
      "needs_background": "light"
     },
     "output_type": "display_data"
    }
   ],
   "source": [
    "%matplotlib inline\n",
    "import matplotlib.pyplot as plt\n",
    "\n",
    "plt.imshow(V, interpolation='none')\n",
    "plt.xticks(range(len(c_names)))\n",
    "plt.yticks(range(len(words)))\n",
    "plt.ylim([len(words) - 1.5, -.5])\n",
    "ax = plt.gca()\n",
    "ax.set_xticklabels(c_names)\n",
    "ax.set_yticklabels(range(1, len(words) + 1))\n",
    "plt.title(\"$V$\")\n",
    "plt.colorbar();"
   ]
  },
  {
   "cell_type": "markdown",
   "id": "091a8159",
   "metadata": {},
   "source": [
    "Another thing the singular value decomposition tells us is what most defines the different categories of posts. The skiing posts have very different values from the hockey posts in the second row of  V , i.e.  $V_{2,1}≈V_{2,4}$  and  $V_{2,2}≈V_{2,3}$  but  $V_{2,1}≠V_{2,2}$.\n",
    "\n",
    "Recall from above that:\n",
    "\n",
    "$a_i =u_1∗σ_1∗V_{1,i}+u_2∗σ_2∗V_{2,i}+...$\n",
    "\n",
    "Thus the posts differ very much in how much the values in  $u_2$  contribute to their final word count."
   ]
  },
  {
   "cell_type": "code",
   "execution_count": 23,
   "id": "54c24508",
   "metadata": {},
   "outputs": [
    {
     "data": {
      "text/html": [
       "<div>\n",
       "<style scoped>\n",
       "    .dataframe tbody tr th:only-of-type {\n",
       "        vertical-align: middle;\n",
       "    }\n",
       "\n",
       "    .dataframe tbody tr th {\n",
       "        vertical-align: top;\n",
       "    }\n",
       "\n",
       "    .dataframe thead th {\n",
       "        text-align: right;\n",
       "    }\n",
       "</style>\n",
       "<table border=\"1\" class=\"dataframe\">\n",
       "  <thead>\n",
       "    <tr style=\"text-align: right;\">\n",
       "      <th></th>\n",
       "      <th>0</th>\n",
       "    </tr>\n",
       "  </thead>\n",
       "  <tbody>\n",
       "    <tr>\n",
       "      <th>ice</th>\n",
       "      <td>0.018526</td>\n",
       "    </tr>\n",
       "    <tr>\n",
       "      <th>snow</th>\n",
       "      <td>-0.678291</td>\n",
       "    </tr>\n",
       "    <tr>\n",
       "      <th>tahoe</th>\n",
       "      <td>-0.519801</td>\n",
       "    </tr>\n",
       "    <tr>\n",
       "      <th>goal</th>\n",
       "      <td>0.370263</td>\n",
       "    </tr>\n",
       "    <tr>\n",
       "      <th>puck</th>\n",
       "      <td>0.363717</td>\n",
       "    </tr>\n",
       "  </tbody>\n",
       "</table>\n",
       "</div>"
      ],
      "text/plain": [
       "              0\n",
       "ice    0.018526\n",
       "snow  -0.678291\n",
       "tahoe -0.519801\n",
       "goal   0.370263\n",
       "puck   0.363717"
      ]
     },
     "execution_count": 23,
     "metadata": {},
     "output_type": "execute_result"
    }
   ],
   "source": [
    "pd.DataFrame(U[:,1], index=words)"
   ]
  },
  {
   "cell_type": "markdown",
   "id": "79702795",
   "metadata": {},
   "source": [
    "From this we can conclude that, at least in this small data set, the words 'snow' and 'tahoe' identify a different class of posts from the words 'goal' and 'puck'."
   ]
  },
  {
   "cell_type": "markdown",
   "id": "23c52b59",
   "metadata": {},
   "source": [
    "## SVD on BBC News\n",
    "\n",
    "Let's apply what we just learned to analyzing some real world BBC news articles."
   ]
  },
  {
   "cell_type": "code",
   "execution_count": 25,
   "id": "5fa94bff",
   "metadata": {},
   "outputs": [
    {
     "data": {
      "text/html": [
       "<div>\n",
       "<style scoped>\n",
       "    .dataframe tbody tr th:only-of-type {\n",
       "        vertical-align: middle;\n",
       "    }\n",
       "\n",
       "    .dataframe tbody tr th {\n",
       "        vertical-align: top;\n",
       "    }\n",
       "\n",
       "    .dataframe thead th {\n",
       "        text-align: right;\n",
       "    }\n",
       "</style>\n",
       "<table border=\"1\" class=\"dataframe\">\n",
       "  <thead>\n",
       "    <tr style=\"text-align: right;\">\n",
       "      <th></th>\n",
       "      <th>text</th>\n",
       "      <th>labels</th>\n",
       "    </tr>\n",
       "  </thead>\n",
       "  <tbody>\n",
       "    <tr>\n",
       "      <th>0</th>\n",
       "      <td>Ad sales boost Time Warner profit\\n\\nQuarterly...</td>\n",
       "      <td>business</td>\n",
       "    </tr>\n",
       "    <tr>\n",
       "      <th>1</th>\n",
       "      <td>Dollar gains on Greenspan speech\\n\\nThe dollar...</td>\n",
       "      <td>business</td>\n",
       "    </tr>\n",
       "    <tr>\n",
       "      <th>2</th>\n",
       "      <td>Yukos unit buyer faces loan claim\\n\\nThe owner...</td>\n",
       "      <td>business</td>\n",
       "    </tr>\n",
       "    <tr>\n",
       "      <th>3</th>\n",
       "      <td>High fuel prices hit BA's profits\\n\\nBritish A...</td>\n",
       "      <td>business</td>\n",
       "    </tr>\n",
       "    <tr>\n",
       "      <th>4</th>\n",
       "      <td>Pernod takeover talk lifts Domecq\\n\\nShares in...</td>\n",
       "      <td>business</td>\n",
       "    </tr>\n",
       "  </tbody>\n",
       "</table>\n",
       "</div>"
      ],
      "text/plain": [
       "                                                text    labels\n",
       "0  Ad sales boost Time Warner profit\\n\\nQuarterly...  business\n",
       "1  Dollar gains on Greenspan speech\\n\\nThe dollar...  business\n",
       "2  Yukos unit buyer faces loan claim\\n\\nThe owner...  business\n",
       "3  High fuel prices hit BA's profits\\n\\nBritish A...  business\n",
       "4  Pernod takeover talk lifts Domecq\\n\\nShares in...  business"
      ]
     },
     "execution_count": 25,
     "metadata": {},
     "output_type": "execute_result"
    }
   ],
   "source": [
    "df = pd.read_csv('../data/bbc_text.csv')\n",
    "df.head(5)"
   ]
  },
  {
   "cell_type": "code",
   "execution_count": 30,
   "id": "936e3076",
   "metadata": {},
   "outputs": [
    {
     "data": {
      "text/plain": [
       "(2225, 2)"
      ]
     },
     "execution_count": 30,
     "metadata": {},
     "output_type": "execute_result"
    }
   ],
   "source": [
    "df.shape"
   ]
  },
  {
   "cell_type": "code",
   "execution_count": 26,
   "id": "c39d154b",
   "metadata": {},
   "outputs": [
    {
     "data": {
      "text/plain": [
       "<AxesSubplot:>"
      ]
     },
     "execution_count": 26,
     "metadata": {},
     "output_type": "execute_result"
    },
    {
     "data": {
      "image/png": "[encoded data removed]",
      "text/plain": [
       "<Figure size 432x288 with 1 Axes>"
      ]
     },
     "metadata": {
      "needs_background": "light"
     },
     "output_type": "display_data"
    }
   ],
   "source": [
    "df[\"labels\"].hist()"
   ]
  },
  {
   "cell_type": "markdown",
   "id": "ae50ab49",
   "metadata": {},
   "source": [
    "Let's ignore the labels to see if we can find clusters of text that reflect the actual labels."
   ]
  },
  {
   "cell_type": "code",
   "execution_count": 59,
   "id": "72c909f1",
   "metadata": {},
   "outputs": [
    {
     "data": {
      "text/plain": [
       "0    Ad sales boost Time Warner profit\\n\\nQuarterly...\n",
       "1    Dollar gains on Greenspan speech\\n\\nThe dollar...\n",
       "Name: text, dtype: object"
      ]
     },
     "execution_count": 59,
     "metadata": {},
     "output_type": "execute_result"
    }
   ],
   "source": [
    "news = df[\"text\"]\n",
    "news.head(2)"
   ]
  },
  {
   "cell_type": "markdown",
   "id": "3bfb0d76",
   "metadata": {},
   "source": [
    "Let's do some preprocess of the text:\n",
    "- remove punctuations\n",
    "- stopword removal\n",
    "- lemmatization\n",
    "- casefold"
   ]
  },
  {
   "cell_type": "code",
   "execution_count": 55,
   "id": "699905d6",
   "metadata": {},
   "outputs": [
    {
     "data": {
      "text/plain": [
       "2225"
      ]
     },
     "execution_count": 55,
     "metadata": {},
     "output_type": "execute_result"
    }
   ],
   "source": [
    "from nltk.tokenize import RegexpTokenizer\n",
    "from nltk.corpus import stopwords\n",
    "from nltk.stem import WordNetLemmatizer\n",
    "\n",
    "punct_remover = RegexpTokenizer(r'\\w+')\n",
    "news_tokens = [punct_remover.tokenize(n) for n in news]\n",
    "\n",
    "len(news_tokens)"
   ]
  },
  {
   "cell_type": "code",
   "execution_count": 64,
   "id": "9f99252e",
   "metadata": {},
   "outputs": [
    {
     "name": "stdout",
     "output_type": "stream",
     "text": [
      "['ad sale boost time warner profit quarterly profit us medium giant timewarner jumped 76 1 13bn 600m three month december 639m year earlier firm one biggest investor google benefited sale high speed internet connection higher advert sale timewarner said fourth quarter sale rose 2 11 1bn 10 9bn profit buoyed one gain offset profit dip warner bros le user aol time warner said friday owns 8 search engine google internet business aol ha mixed fortune lost 464 000 subscriber fourth quarter profit lower preceding three quarter however company said aol underlying profit exceptional item rose 8 back stronger internet advertising revenue hope increase subscriber offering online service free timewarner internet customer try sign aol existing customer high speed broadband timewarner also ha restate 2000 2003 result following probe us securities exchange commission sec close concluding time warner fourth quarter profit slightly better analyst expectation film division saw profit slump 27 284m helped box office flop alexander catwoman sharp contrast year earlier third final film lord rings trilogy boosted result full year timewarner posted profit 3 36bn 27 2003 performance revenue grew 6 4 42 09bn financial performance wa strong meeting exceeding full year objective greatly enhancing flexibility chairman chief executive richard parsons said 2005 timewarner projecting operating earnings growth around 5 also expects higher revenue wider profit margin timewarner restate account part effort resolve inquiry aol us market regulator ha already offered pay 300m settle charge deal review sec company said wa unable estimate amount needed set aside legal reserve previously set 500m intends adjust way account deal german music publisher bertelsmann purchase stake aol europe reported advertising revenue book sale stake aol europe loss value stake ']\n"
     ]
    }
   ],
   "source": [
    "lemmatizer = WordNetLemmatizer()\n",
    "\n",
    "stop_words = set(stopwords.words(\"english\"))\n",
    "\n",
    "def lemmatize_text(input):\n",
    "    output = \"\"\n",
    "    for w in input:\n",
    "        candidate = lemmatizer.lemmatize(w).casefold()\n",
    "        if candidate not in stop_words:\n",
    "            output += candidate + \" \"\n",
    "    return output\n",
    "\n",
    "news_lemmas = [lemmatize_text(n) for n in news_tokens]\n",
    "\n",
    "print(news_lemmas[:1])"
   ]
  },
  {
   "cell_type": "code",
   "execution_count": 69,
   "id": "d79ac145",
   "metadata": {},
   "outputs": [
    {
     "data": {
      "text/plain": [
       "(2225, 1)"
      ]
     },
     "execution_count": 69,
     "metadata": {},
     "output_type": "execute_result"
    }
   ],
   "source": [
    "news_df = pd.DataFrame(news_lemmas, columns=['news'])\n",
    "news_df.shape"
   ]
  },
  {
   "cell_type": "code",
   "execution_count": 70,
   "id": "1bd1972f",
   "metadata": {},
   "outputs": [
    {
     "data": {
      "text/html": [
       "<div>\n",
       "<style scoped>\n",
       "    .dataframe tbody tr th:only-of-type {\n",
       "        vertical-align: middle;\n",
       "    }\n",
       "\n",
       "    .dataframe tbody tr th {\n",
       "        vertical-align: top;\n",
       "    }\n",
       "\n",
       "    .dataframe thead th {\n",
       "        text-align: right;\n",
       "    }\n",
       "</style>\n",
       "<table border=\"1\" class=\"dataframe\">\n",
       "  <thead>\n",
       "    <tr style=\"text-align: right;\">\n",
       "      <th></th>\n",
       "      <th>news</th>\n",
       "    </tr>\n",
       "  </thead>\n",
       "  <tbody>\n",
       "    <tr>\n",
       "      <th>0</th>\n",
       "      <td>ad sale boost time warner profit quarterly pro...</td>\n",
       "    </tr>\n",
       "    <tr>\n",
       "      <th>1</th>\n",
       "      <td>dollar gain greenspan speech dollar ha hit hig...</td>\n",
       "    </tr>\n",
       "  </tbody>\n",
       "</table>\n",
       "</div>"
      ],
      "text/plain": [
       "                                                news\n",
       "0  ad sale boost time warner profit quarterly pro...\n",
       "1  dollar gain greenspan speech dollar ha hit hig..."
      ]
     },
     "execution_count": 70,
     "metadata": {},
     "output_type": "execute_result"
    }
   ],
   "source": [
    "news_df.head(2)"
   ]
  },
  {
   "cell_type": "markdown",
   "id": "670268cf",
   "metadata": {},
   "source": [
    "TF-IDF: term frequency inverse document frequency\n",
    "\n",
    "TFIDF is a more reliable metric than plain frequency because it normalizes frequency across documents. Very common (and semantically meaningless) words like articles (‘the’, ‘a’, ‘an’ …), prepositions, etc… are in this way given less weight and filtered out"
   ]
  },
  {
   "cell_type": "code",
   "execution_count": 86,
   "id": "e99d322f",
   "metadata": {},
   "outputs": [],
   "source": [
    "from sklearn.feature_extraction.text import TfidfVectorizer\n",
    "\n",
    "tfidf = TfidfVectorizer(stop_words='english')\n",
    "Xtrain = tfidf.fit_transform(news_df[\"news\"])"
   ]
  },
  {
   "cell_type": "code",
   "execution_count": null,
   "id": "96b7eee6",
   "metadata": {},
   "outputs": [],
   "source": [
    "from sklearn.preprocessing import StandardScaler\n",
    "from sklearn.decomposition import TruncatedSVD \n",
    "\n",
    "svd=TruncatedSVD(n_components=1000)\n",
    "\n",
    "# DTM_tfidf results are normalized. Since LSA/SVD results are\n",
    "# not normalized, we have to redo the normalization:\n",
    "normalizer = StandardScaler()\n",
    "lsa = make_pipeline(svd, normalizer)\n",
    "\n",
    "X_truncated = lsa.fit_transform(Xtrain)\n",
    "len(X_truncated)"
   ]
  },
  {
   "cell_type": "code",
   "execution_count": null,
   "id": "18968073",
   "metadata": {},
   "outputs": [],
   "source": [
    "print(\"Explained variance of the SVD step: {}%\"\n",
    "      .format(int(svd.explained_variance_ratio_.sum() * 100)))"
   ]
  },
  {
   "cell_type": "code",
   "execution_count": null,
   "id": "4406f4f3",
   "metadata": {},
   "outputs": [],
   "source": []
  }
 ],
 "metadata": {
  "kernelspec": {
   "display_name": "Python 3 (ipykernel)",
   "language": "python",
   "name": "python3"
  },
  "language_info": {
   "codemirror_mode": {
    "name": "ipython",
    "version": 3
   },
   "file_extension": ".py",
   "mimetype": "text/x-python",
   "name": "python",
   "nbconvert_exporter": "python",
   "pygments_lexer": "ipython3",
   "version": "3.9.12"
  }
 },
 "nbformat": 4,
 "nbformat_minor": 5
}
