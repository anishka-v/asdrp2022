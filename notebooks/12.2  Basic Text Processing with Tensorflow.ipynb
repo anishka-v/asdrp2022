{
 "cells": [
  {
   "cell_type": "markdown",
   "id": "e14ed487",
   "metadata": {},
   "source": [
    "# Basic Text Processing with Tensorflow\n",
    "\n",
    "Playground for trying out different feedforward NN is at:\n",
    "\n",
    "https://playground.tensorflow.org/"
   ]
  },
  {
   "cell_type": "code",
   "execution_count": 2,
   "id": "f40e68d8",
   "metadata": {},
   "outputs": [],
   "source": [
    "import numpy as np\n",
    "import pandas as pd\n",
    "import tensorflow as tf\n",
    "import matplotlib.pyplot as plt\n",
    "from sklearn.model_selection import train_test_split\n",
    "from sklearn.feature_extraction.text import TfidfVectorizer\n",
    "from sklearn.metrics import roc_auc_score, f1_score, confusion_matrix\n",
    "\n",
    "from tensorflow.keras.preprocessing.text import Tokenizer\n",
    "from tensorflow.keras.preprocessing.sequence import pad_sequences\n",
    "\n",
    "tf.compat.v1.logging.set_verbosity(tf.compat.v1.logging.ERROR)"
   ]
  },
  {
   "cell_type": "code",
   "execution_count": 3,
   "id": "bb9980f4",
   "metadata": {},
   "outputs": [],
   "source": [
    "sentences = [\n",
    "    \"We live in the Bay Area.\",\n",
    "    \"We communte to work in San Francisco.\",\n",
    "    \"We don't like commuting.\"\n",
    "]"
   ]
  },
  {
   "cell_type": "code",
   "execution_count": 4,
   "id": "03b527cc",
   "metadata": {},
   "outputs": [],
   "source": [
    "MAX_VOCAB_SIZE = 10000\n",
    "tokenizer = Tokenizer(num_words=MAX_VOCAB_SIZE)\n",
    "tokenizer.fit_on_texts(sentences)\n",
    "sequences = tokenizer.texts_to_sequences(sentences)"
   ]
  },
  {
   "cell_type": "code",
   "execution_count": 5,
   "id": "f1ae7154",
   "metadata": {},
   "outputs": [
    {
     "name": "stdout",
     "output_type": "stream",
     "text": [
      "[[1, 3, 2, 4, 5, 6], [1, 7, 8, 9, 2, 10, 11], [1, 12, 13, 14]]\n"
     ]
    }
   ],
   "source": [
    "print(sequences)"
   ]
  },
  {
   "cell_type": "code",
   "execution_count": 6,
   "id": "75ada15e",
   "metadata": {},
   "outputs": [
    {
     "data": {
      "text/plain": [
       "{'we': 1,\n",
       " 'in': 2,\n",
       " 'live': 3,\n",
       " 'the': 4,\n",
       " 'bay': 5,\n",
       " 'area': 6,\n",
       " 'communte': 7,\n",
       " 'to': 8,\n",
       " 'work': 9,\n",
       " 'san': 10,\n",
       " 'francisco': 11,\n",
       " \"don't\": 12,\n",
       " 'like': 13,\n",
       " 'commuting': 14}"
      ]
     },
     "execution_count": 6,
     "metadata": {},
     "output_type": "execute_result"
    }
   ],
   "source": [
    "# Map word to index\n",
    "tokenizer.word_index"
   ]
  },
  {
   "cell_type": "code",
   "execution_count": 8,
   "id": "de332b77",
   "metadata": {},
   "outputs": [
    {
     "name": "stdout",
     "output_type": "stream",
     "text": [
      "[[ 0  1  3  2  4  5  6]\n",
      " [ 1  7  8  9  2 10 11]\n",
      " [ 0  0  0  1 12 13 14]]\n"
     ]
    }
   ],
   "source": [
    "# using defaults\n",
    "data = pad_sequences(sequences)\n",
    "print(data)"
   ]
  },
  {
   "cell_type": "code",
   "execution_count": 9,
   "id": "5951dbab",
   "metadata": {},
   "outputs": [
    {
     "name": "stdout",
     "output_type": "stream",
     "text": [
      "[[ 0  1  3  2  4  5  6]\n",
      " [ 1  7  8  9  2 10 11]\n",
      " [ 0  0  0  1 12 13 14]]\n"
     ]
    }
   ],
   "source": [
    "MAX_SEQUENCE_LENGTH = 7\n",
    "data = pad_sequences(sequences, maxlen=MAX_SEQUENCE_LENGTH)\n",
    "print(data)"
   ]
  },
  {
   "cell_type": "code",
   "execution_count": 10,
   "id": "7fd7f380",
   "metadata": {},
   "outputs": [
    {
     "name": "stdout",
     "output_type": "stream",
     "text": [
      "[[ 1  3  2  4  5  6  0]\n",
      " [ 1  7  8  9  2 10 11]\n",
      " [ 1 12 13 14  0  0  0]]\n"
     ]
    }
   ],
   "source": [
    "data = pad_sequences(sequences, maxlen=MAX_SEQUENCE_LENGTH, padding='post')\n",
    "print(data)"
   ]
  },
  {
   "cell_type": "code",
   "execution_count": 11,
   "id": "ff44c7a2",
   "metadata": {},
   "outputs": [
    {
     "name": "stdout",
     "output_type": "stream",
     "text": [
      "[[ 0  0  1  3  2  4  5  6]\n",
      " [ 0  1  7  8  9  2 10 11]\n",
      " [ 0  0  0  0  1 12 13 14]]\n"
     ]
    }
   ],
   "source": [
    "data = pad_sequences(sequences, maxlen=8)\n",
    "print(data)"
   ]
  },
  {
   "cell_type": "code",
   "execution_count": 12,
   "id": "969bbe45",
   "metadata": {},
   "outputs": [
    {
     "name": "stdout",
     "output_type": "stream",
     "text": [
      "[[ 3  2  4  5  6]\n",
      " [ 8  9  2 10 11]\n",
      " [ 0  1 12 13 14]]\n"
     ]
    }
   ],
   "source": [
    "data = pad_sequences(sequences, maxlen=5)\n",
    "print(data)"
   ]
  },
  {
   "cell_type": "code",
   "execution_count": 13,
   "id": "8516a8c6",
   "metadata": {},
   "outputs": [
    {
     "name": "stdout",
     "output_type": "stream",
     "text": [
      "[[ 1  3  2  4  5]\n",
      " [ 1  7  8  9  2]\n",
      " [ 0  1 12 13 14]]\n"
     ]
    }
   ],
   "source": [
    "data = pad_sequences(sequences, maxlen=5, truncating='post')\n",
    "print(data)"
   ]
  },
  {
   "cell_type": "code",
   "execution_count": null,
   "id": "2d51b965",
   "metadata": {},
   "outputs": [],
   "source": []
  }
 ],
 "metadata": {
  "kernelspec": {
   "display_name": "Python 3 (ipykernel)",
   "language": "python",
   "name": "python3"
  },
  "language_info": {
   "codemirror_mode": {
    "name": "ipython",
    "version": 3
   },
   "file_extension": ".py",
   "mimetype": "text/x-python",
   "name": "python",
   "nbconvert_exporter": "python",
   "pygments_lexer": "ipython3",
   "version": "3.9.12"
  }
 },
 "nbformat": 4,
 "nbformat_minor": 5
}
