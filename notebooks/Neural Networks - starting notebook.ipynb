{
 "cells": [
  {
   "cell_type": "code",
   "execution_count": null,
   "id": "3020978c",
   "metadata": {},
   "outputs": [],
   "source": [
    "import numpy as np\n",
    "import pandas as pd\n",
    "import tensorflow as tf\n",
    "import matplotlib.pyplot as plt\n",
    "import seaborn as sns\n",
    "from sklearn.model_selection import train_test_split\n",
    "from sklearn.preprocessing import MinMaxScaler\n",
    "from sklearn.feature_extraction.text import TfidfVectorizer\n",
    "from sklearn.metrics import roc_auc_score, f1_score, confusion_matrix\n",
    "\n",
    "from tensorflow.keras.layers import Dense, Input, Flatten\n",
    "from tensorflow.keras.models import Model, Sequential\n",
    "from tensorflow.keras.utils import to_categorical\n",
    "\n",
    "tf.compat.v1.logging.set_verbosity(tf.compat.v1.logging.ERROR)"
   ]
  },
  {
   "cell_type": "markdown",
   "id": "7494c875",
   "metadata": {},
   "source": [
    "# Classification\n",
    "\n",
    "## Importing MNist Data"
   ]
  },
  {
   "cell_type": "code",
   "execution_count": null,
   "id": "3314186c",
   "metadata": {},
   "outputs": [],
   "source": [
    "from tensorflow.keras.datasets import mnist\n",
    "(X_train, y_train), (X_valid, y_valid) = mnist.load_data()\n",
    "X_train.shape"
   ]
  },
  {
   "cell_type": "code",
   "execution_count": null,
   "id": "bde5ea3b",
   "metadata": {},
   "outputs": [],
   "source": [
    "y_train.shape"
   ]
  },
  {
   "cell_type": "code",
   "execution_count": null,
   "id": "2be0c165",
   "metadata": {},
   "outputs": [],
   "source": [
    "plt.figure(figsize=(12,5))\n",
    "for k in range(30):\n",
    "    plt.subplot(3,10,k+1)\n",
    "    plt.imshow(X_train[k], cmap='Greys')\n",
    "    plt.axis('off')\n",
    "plt.tight_layout()\n",
    "plt.show()"
   ]
  },
  {
   "cell_type": "markdown",
   "id": "87e306f4",
   "metadata": {},
   "source": [
    "## Preprocessing\n",
    "\n",
    "Let's preprocess our images so that each pixel value is between 0.0 and 1.0 -- as floating point values."
   ]
  },
  {
   "cell_type": "code",
   "execution_count": null,
   "id": "72e635a1",
   "metadata": {},
   "outputs": [],
   "source": [
    "X_train = X_train.reshape(X_train.shape[0], 28, 28, 1).astype('float32')\n",
    "X_valid = X_valid.reshape(X_valid.shape[0], 28, 28, 1).astype('float32')"
   ]
  },
  {
   "cell_type": "code",
   "execution_count": null,
   "id": "c0f8f0cf",
   "metadata": {},
   "outputs": [],
   "source": [
    "X_train /= 255.\n",
    "X_valid /= 255."
   ]
  },
  {
   "cell_type": "code",
   "execution_count": null,
   "id": "93ac441e",
   "metadata": {},
   "outputs": [],
   "source": [
    "n_classes = 10\n",
    "y_train = to_categorical(y_train, n_classes)\n",
    "y_valid = to_categorical(y_valid, n_classes)"
   ]
  },
  {
   "cell_type": "markdown",
   "id": "cc175f02",
   "metadata": {},
   "source": [
    "## Neural Architecture\n",
    "\n",
    "Let's try a simple Dense feed-forward neural network"
   ]
  },
  {
   "cell_type": "markdown",
   "id": "a304a05c",
   "metadata": {},
   "source": [
    "# Regression\n",
    "\n",
    "\n",
    "## Importing Data"
   ]
  },
  {
   "cell_type": "code",
   "execution_count": null,
   "id": "c4925e22",
   "metadata": {},
   "outputs": [],
   "source": [
    "housing = pd.read_csv('../data/housing.csv')"
   ]
  },
  {
   "cell_type": "code",
   "execution_count": null,
   "id": "e3f32a2d",
   "metadata": {},
   "outputs": [],
   "source": [
    "housing.head(5)"
   ]
  },
  {
   "cell_type": "markdown",
   "id": "ae65f33f",
   "metadata": {},
   "source": [
    "## Selecting Data"
   ]
  },
  {
   "cell_type": "code",
   "execution_count": null,
   "id": "f17aa773",
   "metadata": {},
   "outputs": [],
   "source": [
    "housing = housing.dropna()"
   ]
  },
  {
   "cell_type": "code",
   "execution_count": null,
   "id": "746aa292",
   "metadata": {},
   "outputs": [],
   "source": [
    "selected_columns = [\"median_house_value\", \"housing_median_age\", \"total_rooms\", \"total_bedrooms\", \"population\", \"households\", \"median_income\"]\n",
    "\n",
    "df = housing[selected_columns]"
   ]
  },
  {
   "cell_type": "code",
   "execution_count": null,
   "id": "46aa9ec6",
   "metadata": {},
   "outputs": [],
   "source": [
    "df.head()"
   ]
  },
  {
   "cell_type": "code",
   "execution_count": null,
   "id": "863d5e8a",
   "metadata": {},
   "outputs": [],
   "source": [
    "sns.pairplot(df)"
   ]
  },
  {
   "cell_type": "code",
   "execution_count": null,
   "id": "707d25e7",
   "metadata": {},
   "outputs": [],
   "source": [
    "df.shape"
   ]
  },
  {
   "cell_type": "code",
   "execution_count": null,
   "id": "d2dbbd2d",
   "metadata": {},
   "outputs": [],
   "source": [
    "# need to get numpy arrays (ndarray) by calling 'values'\n",
    "\n",
    "X = df[[\"housing_median_age\", \"total_rooms\", \"total_bedrooms\", \"population\", \"households\", \"median_income\"]].values\n",
    "y = df[\"median_house_value\"].values"
   ]
  },
  {
   "cell_type": "code",
   "execution_count": null,
   "id": "6b1d2c9b",
   "metadata": {},
   "outputs": [],
   "source": [
    "type(X)"
   ]
  },
  {
   "cell_type": "code",
   "execution_count": null,
   "id": "964a2b21",
   "metadata": {},
   "outputs": [],
   "source": [
    "type(y)"
   ]
  },
  {
   "cell_type": "markdown",
   "id": "ab0b29a2",
   "metadata": {},
   "source": [
    "## Preprocessing Training & Testing Data"
   ]
  },
  {
   "cell_type": "code",
   "execution_count": null,
   "id": "01d63176",
   "metadata": {},
   "outputs": [],
   "source": [
    "X_train, X_test, y_train, y_test = train_test_split(X, y, test_size=0.3, random_state=42)"
   ]
  },
  {
   "cell_type": "code",
   "execution_count": null,
   "id": "b73feddc",
   "metadata": {},
   "outputs": [],
   "source": [
    "X_train.shape"
   ]
  },
  {
   "cell_type": "code",
   "execution_count": null,
   "id": "eb019bc1",
   "metadata": {},
   "outputs": [],
   "source": [
    "X_test.shape"
   ]
  },
  {
   "cell_type": "code",
   "execution_count": null,
   "id": "76379266",
   "metadata": {},
   "outputs": [],
   "source": [
    "# Scaling features to be between 0 and 1\n",
    "scaler = MinMaxScaler()"
   ]
  },
  {
   "cell_type": "code",
   "execution_count": null,
   "id": "f2f7e264",
   "metadata": {},
   "outputs": [],
   "source": [
    "# Fit the scaler to std dev, min and max of training data set\n",
    "scaler.fit(X_train)\n",
    "X_train = scaler.transform(X_train)\n",
    "X_test = scaler.transform(X_test)"
   ]
  },
  {
   "cell_type": "code",
   "execution_count": null,
   "id": "1681e223",
   "metadata": {},
   "outputs": [],
   "source": [
    "X_train.max()"
   ]
  },
  {
   "cell_type": "code",
   "execution_count": null,
   "id": "6c0cb46b",
   "metadata": {},
   "outputs": [],
   "source": [
    "X_train.min()"
   ]
  },
  {
   "cell_type": "markdown",
   "id": "eb6b6e30",
   "metadata": {},
   "source": [
    "## Building Neural Network Model"
   ]
  },
  {
   "cell_type": "markdown",
   "id": "73b71aab",
   "metadata": {},
   "source": [
    "## Evaluating Model"
   ]
  },
  {
   "cell_type": "code",
   "execution_count": null,
   "id": "57063d9b",
   "metadata": {},
   "outputs": [],
   "source": []
  }
 ],
 "metadata": {
  "kernelspec": {
   "display_name": "Python 3 (ipykernel)",
   "language": "python",
   "name": "python3"
  },
  "language_info": {
   "codemirror_mode": {
    "name": "ipython",
    "version": 3
   },
   "file_extension": ".py",
   "mimetype": "text/x-python",
   "name": "python",
   "nbconvert_exporter": "python",
   "pygments_lexer": "ipython3",
   "version": "3.9.12"
  }
 },
 "nbformat": 4,
 "nbformat_minor": 5
}
