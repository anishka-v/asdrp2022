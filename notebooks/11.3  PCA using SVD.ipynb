{
 "cells": [
  {
   "cell_type": "markdown",
   "id": "9090a3cc",
   "metadata": {},
   "source": [
    "# PCA using SVD\n",
    "\n",
    "We use singular value decomposition (SVD) as a tool to compute the principal component of a matrix (representing a real-world dataset) in this notebook."
   ]
  },
  {
   "cell_type": "markdown",
   "id": "819265e2",
   "metadata": {},
   "source": [
    "## Single Value Decomposition\n",
    "\n",
    "SVD takes a data matrix 𝐗 and produces the matrix factorization 𝐗=𝐔𝚺𝐕<sup>⊤</sup>. This factorization has useful properties that we use to perform dimensionality reduction.\n",
    "\n",
    "There are restrictions on 𝐔, 𝚺, and 𝐕:\n",
    "\n",
    "- 𝐔 has dimensions 𝑛×𝑛, 𝚺 has dimensions 𝑛×𝑑, and 𝐕 has dimensions 𝑑×𝑑.\n",
    "\n",
    "- 𝐔 and 𝐕 are orthogonal matrices. That is, 𝐔<sup>⊤</sup>𝐔=𝐈 and 𝐕<sup>⊤</sup>𝐕=𝐈. This also implies that all columns of 𝐔 and 𝐕 have magnitude 1 and are mutually orthogonal.\n",
    "\n",
    "- 𝚺 is a diagonal matrix. That is, all elements in 𝚺 are 0 unless they lie on the diagonal. In addition, the diagonal elements in 𝚺 are arranged from biggest to smallest.\n",
    "\n",
    "To compute the SVD in Python, we use the np.linalg.svd function.  \n",
    "\n",
    "np.linalg.svd returns a tuple of three arrays corresponding to 𝐔, 𝚺, and 𝐕<sup>⊤</sup>. Notice that the 𝚺 value is one-dimensional numpy array rather than a diagonal matrix, which can cause problems recreating 𝐗 using the return values of np.linalg.svd. For convenience, we often use full_matrices=False in our call to np.linalg.svd, which reduces the dimensions of 𝐔 or 𝐕<sup>⊤</sup> to match the dimensions of 𝚺.  This allows us to use np.diag to create the diagonal matrix 𝚺 and reproduce the original 𝐗:"
   ]
  },
  {
   "cell_type": "markdown",
   "id": "e20e7426",
   "metadata": {},
   "source": [
    "Let's consider this Weight Height dataset from [Kaggle](https://www.kaggle.com/datasets/burnoutminer/heights-and-weights-dataset)."
   ]
  },
  {
   "cell_type": "code",
   "execution_count": 1,
   "id": "6e901de9",
   "metadata": {},
   "outputs": [
    {
     "data": {
      "text/html": [
       "<div>\n",
       "<style scoped>\n",
       "    .dataframe tbody tr th:only-of-type {\n",
       "        vertical-align: middle;\n",
       "    }\n",
       "\n",
       "    .dataframe tbody tr th {\n",
       "        vertical-align: top;\n",
       "    }\n",
       "\n",
       "    .dataframe thead th {\n",
       "        text-align: right;\n",
       "    }\n",
       "</style>\n",
       "<table border=\"1\" class=\"dataframe\">\n",
       "  <thead>\n",
       "    <tr style=\"text-align: right;\">\n",
       "      <th></th>\n",
       "      <th>Height(Inches)</th>\n",
       "      <th>Weight(Pounds)</th>\n",
       "    </tr>\n",
       "    <tr>\n",
       "      <th>Index</th>\n",
       "      <th></th>\n",
       "      <th></th>\n",
       "    </tr>\n",
       "  </thead>\n",
       "  <tbody>\n",
       "    <tr>\n",
       "      <th>1</th>\n",
       "      <td>65.78331</td>\n",
       "      <td>112.9925</td>\n",
       "    </tr>\n",
       "    <tr>\n",
       "      <th>2</th>\n",
       "      <td>71.51521</td>\n",
       "      <td>136.4873</td>\n",
       "    </tr>\n",
       "  </tbody>\n",
       "</table>\n",
       "</div>"
      ],
      "text/plain": [
       "       Height(Inches)  Weight(Pounds)\n",
       "Index                                \n",
       "1            65.78331        112.9925\n",
       "2            71.51521        136.4873"
      ]
     },
     "execution_count": 1,
     "metadata": {},
     "output_type": "execute_result"
    }
   ],
   "source": [
    "import numpy as np\n",
    "import pandas as pd\n",
    "import seaborn as sns\n",
    "\n",
    "htwt = pd.read_csv('../data/height-weights.csv', \n",
    "                   index_col='Index')\n",
    "htwt.head(2)"
   ]
  },
  {
   "cell_type": "code",
   "execution_count": 2,
   "id": "eabe3a61",
   "metadata": {},
   "outputs": [
    {
     "data": {
      "text/html": [
       "<div>\n",
       "<style scoped>\n",
       "    .dataframe tbody tr th:only-of-type {\n",
       "        vertical-align: middle;\n",
       "    }\n",
       "\n",
       "    .dataframe tbody tr th {\n",
       "        vertical-align: top;\n",
       "    }\n",
       "\n",
       "    .dataframe thead th {\n",
       "        text-align: right;\n",
       "    }\n",
       "</style>\n",
       "<table border=\"1\" class=\"dataframe\">\n",
       "  <thead>\n",
       "    <tr style=\"text-align: right;\">\n",
       "      <th></th>\n",
       "      <th>height</th>\n",
       "      <th>weight</th>\n",
       "    </tr>\n",
       "    <tr>\n",
       "      <th>Index</th>\n",
       "      <th></th>\n",
       "      <th></th>\n",
       "    </tr>\n",
       "  </thead>\n",
       "  <tbody>\n",
       "    <tr>\n",
       "      <th>1</th>\n",
       "      <td>65.78331</td>\n",
       "      <td>112.9925</td>\n",
       "    </tr>\n",
       "    <tr>\n",
       "      <th>2</th>\n",
       "      <td>71.51521</td>\n",
       "      <td>136.4873</td>\n",
       "    </tr>\n",
       "    <tr>\n",
       "      <th>3</th>\n",
       "      <td>69.39874</td>\n",
       "      <td>153.0269</td>\n",
       "    </tr>\n",
       "    <tr>\n",
       "      <th>4</th>\n",
       "      <td>68.21660</td>\n",
       "      <td>142.3354</td>\n",
       "    </tr>\n",
       "    <tr>\n",
       "      <th>5</th>\n",
       "      <td>67.78781</td>\n",
       "      <td>144.2971</td>\n",
       "    </tr>\n",
       "  </tbody>\n",
       "</table>\n",
       "</div>"
      ],
      "text/plain": [
       "         height    weight\n",
       "Index                    \n",
       "1      65.78331  112.9925\n",
       "2      71.51521  136.4873\n",
       "3      69.39874  153.0269\n",
       "4      68.21660  142.3354\n",
       "5      67.78781  144.2971"
      ]
     },
     "execution_count": 2,
     "metadata": {},
     "output_type": "execute_result"
    }
   ],
   "source": [
    "htwt = htwt.rename(columns={'Height(Inches)': 'height',\n",
    "                     'Weight(Pounds)': 'weight'})\n",
    "htwt.head(5)"
   ]
  },
  {
   "cell_type": "markdown",
   "id": "80eb2f30",
   "metadata": {},
   "source": [
    "To examine the principal directions of this data matrix, we first center the data by subtracting the mean of each column."
   ]
  },
  {
   "cell_type": "code",
   "execution_count": 3,
   "id": "3dd5fe4b",
   "metadata": {},
   "outputs": [
    {
     "data": {
      "text/html": [
       "<div>\n",
       "<style scoped>\n",
       "    .dataframe tbody tr th:only-of-type {\n",
       "        vertical-align: middle;\n",
       "    }\n",
       "\n",
       "    .dataframe tbody tr th {\n",
       "        vertical-align: top;\n",
       "    }\n",
       "\n",
       "    .dataframe thead th {\n",
       "        text-align: right;\n",
       "    }\n",
       "</style>\n",
       "<table border=\"1\" class=\"dataframe\">\n",
       "  <thead>\n",
       "    <tr style=\"text-align: right;\">\n",
       "      <th></th>\n",
       "      <th>height</th>\n",
       "      <th>weight</th>\n",
       "    </tr>\n",
       "    <tr>\n",
       "      <th>Index</th>\n",
       "      <th></th>\n",
       "      <th></th>\n",
       "    </tr>\n",
       "  </thead>\n",
       "  <tbody>\n",
       "    <tr>\n",
       "      <th>1</th>\n",
       "      <td>-2.209804</td>\n",
       "      <td>-14.086921</td>\n",
       "    </tr>\n",
       "    <tr>\n",
       "      <th>2</th>\n",
       "      <td>3.522096</td>\n",
       "      <td>9.407879</td>\n",
       "    </tr>\n",
       "    <tr>\n",
       "      <th>3</th>\n",
       "      <td>1.405626</td>\n",
       "      <td>25.947479</td>\n",
       "    </tr>\n",
       "    <tr>\n",
       "      <th>4</th>\n",
       "      <td>0.223486</td>\n",
       "      <td>15.255979</td>\n",
       "    </tr>\n",
       "    <tr>\n",
       "      <th>5</th>\n",
       "      <td>-0.205304</td>\n",
       "      <td>17.217679</td>\n",
       "    </tr>\n",
       "  </tbody>\n",
       "</table>\n",
       "</div>"
      ],
      "text/plain": [
       "         height     weight\n",
       "Index                     \n",
       "1     -2.209804 -14.086921\n",
       "2      3.522096   9.407879\n",
       "3      1.405626  25.947479\n",
       "4      0.223486  15.255979\n",
       "5     -0.205304  17.217679"
      ]
     },
     "execution_count": 3,
     "metadata": {},
     "output_type": "execute_result"
    }
   ],
   "source": [
    "htwt_centered = htwt - htwt.mean(axis=0)\n",
    "htwt_centered.head(5)"
   ]
  },
  {
   "cell_type": "markdown",
   "id": "73409d69",
   "metadata": {},
   "source": [
    "Then, we compute the SVD and display the values in 𝐕<sup>⊤</sup>."
   ]
  },
  {
   "cell_type": "code",
   "execution_count": 4,
   "id": "1f3e9c3c",
   "metadata": {},
   "outputs": [
    {
     "ename": "NameError",
     "evalue": "name 'svd' is not defined",
     "output_type": "error",
     "traceback": [
      "\u001b[0;31m---------------------------------------------------------------------------\u001b[0m",
      "\u001b[0;31mNameError\u001b[0m                                 Traceback (most recent call last)",
      "Input \u001b[0;32mIn [4]\u001b[0m, in \u001b[0;36m<cell line: 1>\u001b[0;34m()\u001b[0m\n\u001b[0;32m----> 1\u001b[0m U, S, Vt \u001b[38;5;241m=\u001b[39m \u001b[43msvd\u001b[49m(htwt_centered, full_matrices\u001b[38;5;241m=\u001b[39m\u001b[38;5;28;01mFalse\u001b[39;00m)\n\u001b[1;32m      2\u001b[0m Vt\n",
      "\u001b[0;31mNameError\u001b[0m: name 'svd' is not defined"
     ]
    }
   ],
   "source": [
    "U, S, Vt = svd(htwt_centered, full_matrices=False)\n",
    "Vt"
   ]
  },
  {
   "cell_type": "markdown",
   "id": "ba37b167",
   "metadata": {},
   "source": [
    "What happens if we throw away a column of , a singular value from , and a row from ? In this case we end up with the \"rank 1 approximation\" of the data.\n",
    "\n",
    "In practice, we use a simpler method to compute the reduced dimension 𝐗 which arises from the following equivalence:\n",
    "\n",
    "\n",
    "\\begin{align}\n",
    " X &= U\\Sigma V^T\\\\\n",
    "XV &= U\\Sigma V^T V\\\\\n",
    "XV &= U\\Sigma\n",
    "\\end{align}\n",
    "\n",
    "\n",
    "This means that instead of removing rows from 𝐕⊤ and then computing 𝐗𝐕 , we can compute 𝐔𝚺 and then remove columns until we achieve our desired dimensionality. For this reason, we call the columns of 𝐔𝚺 the principal components of 𝐗.\n",
    "\n",
    "What happens if we throw away a column of 𝐔, a singular value from 𝚺, and a row from V<sup>T</sup> In this case we end up with the \"rank 1 approximation\" of the data.\n",
    "\n",
    "Looking at the data, we see that it does a surprisingly good job."
   ]
  },
  {
   "cell_type": "code",
   "execution_count": null,
   "id": "1dc6641c",
   "metadata": {},
   "outputs": [],
   "source": [
    "#Rather than manually invoking linalg.svd over and over, let's just\n",
    "#define a function that does the rank approximation in one function call\n",
    "def compute_rank_k_approximation(data, k):\n",
    "    u, s, vt = np.linalg.svd(data, full_matrices = False)\n",
    "    return pd.DataFrame(u[:, 0:k] @ np.diag(s[0:k]) @ vt[0:k, :], columns = data.columns)"
   ]
  },
  {
   "cell_type": "code",
   "execution_count": null,
   "id": "c0cc18b1",
   "metadata": {},
   "outputs": [],
   "source": [
    "htwt_rank1_approx = compute_rank_k_approximation(htwt_centered, 1)\n",
    "htwt_rank1_approx.head(5)"
   ]
  },
  {
   "cell_type": "markdown",
   "id": "cefd8817",
   "metadata": {},
   "source": [
    "We can see the PC1 values for the Height-Weight matrix, but what do they mean?"
   ]
  },
  {
   "cell_type": "code",
   "execution_count": null,
   "id": "c58cd2b6",
   "metadata": {},
   "outputs": [],
   "source": [
    "u, s, vt = np.linalg.svd(htwt_centered, full_matrices=False)\n",
    "usig=u*s\n",
    "usig[0:5, 0]"
   ]
  },
  {
   "cell_type": "markdown",
   "id": "66a26107",
   "metadata": {},
   "source": [
    "By plotting the data in a 2D space, we can see what's going on. We're simply getting the original data projected on to some 1 dimensional subspace."
   ]
  },
  {
   "cell_type": "code",
   "execution_count": 5,
   "id": "60f8b2d3",
   "metadata": {},
   "outputs": [
    {
     "ename": "NameError",
     "evalue": "name 'htwt_rank1_approx' is not defined",
     "output_type": "error",
     "traceback": [
      "\u001b[0;31m---------------------------------------------------------------------------\u001b[0m",
      "\u001b[0;31mNameError\u001b[0m                                 Traceback (most recent call last)",
      "Input \u001b[0;32mIn [5]\u001b[0m, in \u001b[0;36m<cell line: 1>\u001b[0;34m()\u001b[0m\n\u001b[0;32m----> 1\u001b[0m sns\u001b[38;5;241m.\u001b[39mscatterplot(x\u001b[38;5;241m=\u001b[39m\u001b[38;5;124m\"\u001b[39m\u001b[38;5;124mheight\u001b[39m\u001b[38;5;124m\"\u001b[39m, y\u001b[38;5;241m=\u001b[39m\u001b[38;5;124m\"\u001b[39m\u001b[38;5;124mweight\u001b[39m\u001b[38;5;124m\"\u001b[39m, data\u001b[38;5;241m=\u001b[39m\u001b[43mhtwt_rank1_approx\u001b[49m)\n",
      "\u001b[0;31mNameError\u001b[0m: name 'htwt_rank1_approx' is not defined"
     ]
    }
   ],
   "source": [
    "sns.scatterplot(x=\"height\", y=\"weight\", data=htwt_rank1_approx)"
   ]
  },
  {
   "cell_type": "code",
   "execution_count": 6,
   "id": "0be19d8f",
   "metadata": {},
   "outputs": [
    {
     "ename": "NameError",
     "evalue": "name 'htwt_rank1_approx' is not defined",
     "output_type": "error",
     "traceback": [
      "\u001b[0;31m---------------------------------------------------------------------------\u001b[0m",
      "\u001b[0;31mNameError\u001b[0m                                 Traceback (most recent call last)",
      "Input \u001b[0;32mIn [6]\u001b[0m, in \u001b[0;36m<cell line: 2>\u001b[0;34m()\u001b[0m\n\u001b[1;32m      1\u001b[0m sns\u001b[38;5;241m.\u001b[39mscatterplot(x\u001b[38;5;241m=\u001b[39m\u001b[38;5;124m\"\u001b[39m\u001b[38;5;124mheight\u001b[39m\u001b[38;5;124m\"\u001b[39m, y\u001b[38;5;241m=\u001b[39m\u001b[38;5;124m\"\u001b[39m\u001b[38;5;124mweight\u001b[39m\u001b[38;5;124m\"\u001b[39m, data\u001b[38;5;241m=\u001b[39mhtwt_centered)\n\u001b[0;32m----> 2\u001b[0m sns\u001b[38;5;241m.\u001b[39mscatterplot(x\u001b[38;5;241m=\u001b[39m\u001b[38;5;124m\"\u001b[39m\u001b[38;5;124mheight\u001b[39m\u001b[38;5;124m\"\u001b[39m, y\u001b[38;5;241m=\u001b[39m\u001b[38;5;124m\"\u001b[39m\u001b[38;5;124mweight\u001b[39m\u001b[38;5;124m\"\u001b[39m, data\u001b[38;5;241m=\u001b[39m\u001b[43mhtwt_rank1_approx\u001b[49m)\n",
      "\u001b[0;31mNameError\u001b[0m: name 'htwt_rank1_approx' is not defined"
     ]
    },
    {
     "data": {
      "image/png": "[encoded data removed]",
      "text/plain": [
       "<Figure size 432x288 with 1 Axes>"
      ]
     },
     "metadata": {
      "needs_background": "light"
     },
     "output_type": "display_data"
    }
   ],
   "source": [
    "sns.scatterplot(x=\"height\", y=\"weight\", data=htwt_centered)\n",
    "sns.scatterplot(x=\"height\", y=\"weight\", data=htwt_rank1_approx)"
   ]
  },
  {
   "cell_type": "markdown",
   "id": "b9cfa847",
   "metadata": {},
   "source": [
    "## Wine Dataset\n",
    "\n",
    "Consider the following wine dataset from [UCI](http://archive.ics.uci.edu/ml/datasets/wine). This dataset contains the results of a chemical analysis of wines grown in the same region in Italy but derived from 3 different cultivars."
   ]
  },
  {
   "cell_type": "code",
   "execution_count": 7,
   "id": "1878d547",
   "metadata": {},
   "outputs": [],
   "source": [
    "wine = pd.read_csv(\"../data/wine.csv\")\n",
    "X = wine.drop(\"Customer_Segment\",axis=1)\n",
    "y = wine[\"Customer_Segment\"]"
   ]
  },
  {
   "cell_type": "code",
   "execution_count": 8,
   "id": "f4823ee7",
   "metadata": {},
   "outputs": [
    {
     "data": {
      "text/html": [
       "<div>\n",
       "<style scoped>\n",
       "    .dataframe tbody tr th:only-of-type {\n",
       "        vertical-align: middle;\n",
       "    }\n",
       "\n",
       "    .dataframe tbody tr th {\n",
       "        vertical-align: top;\n",
       "    }\n",
       "\n",
       "    .dataframe thead th {\n",
       "        text-align: right;\n",
       "    }\n",
       "</style>\n",
       "<table border=\"1\" class=\"dataframe\">\n",
       "  <thead>\n",
       "    <tr style=\"text-align: right;\">\n",
       "      <th></th>\n",
       "      <th>Alcohol</th>\n",
       "      <th>Malic_Acid</th>\n",
       "      <th>Ash</th>\n",
       "      <th>Ash_Alcanity</th>\n",
       "      <th>Magnesium</th>\n",
       "      <th>Total_Phenols</th>\n",
       "      <th>Flavanoids</th>\n",
       "      <th>Nonflavanoid_Phenols</th>\n",
       "      <th>Proanthocyanins</th>\n",
       "      <th>Color_Intensity</th>\n",
       "      <th>Hue</th>\n",
       "      <th>OD280</th>\n",
       "      <th>Proline</th>\n",
       "    </tr>\n",
       "  </thead>\n",
       "  <tbody>\n",
       "    <tr>\n",
       "      <th>0</th>\n",
       "      <td>14.23</td>\n",
       "      <td>1.71</td>\n",
       "      <td>2.43</td>\n",
       "      <td>15.6</td>\n",
       "      <td>127</td>\n",
       "      <td>2.80</td>\n",
       "      <td>3.06</td>\n",
       "      <td>0.28</td>\n",
       "      <td>2.29</td>\n",
       "      <td>5.64</td>\n",
       "      <td>1.04</td>\n",
       "      <td>3.92</td>\n",
       "      <td>1065</td>\n",
       "    </tr>\n",
       "    <tr>\n",
       "      <th>1</th>\n",
       "      <td>13.20</td>\n",
       "      <td>1.78</td>\n",
       "      <td>2.14</td>\n",
       "      <td>11.2</td>\n",
       "      <td>100</td>\n",
       "      <td>2.65</td>\n",
       "      <td>2.76</td>\n",
       "      <td>0.26</td>\n",
       "      <td>1.28</td>\n",
       "      <td>4.38</td>\n",
       "      <td>1.05</td>\n",
       "      <td>3.40</td>\n",
       "      <td>1050</td>\n",
       "    </tr>\n",
       "    <tr>\n",
       "      <th>2</th>\n",
       "      <td>13.16</td>\n",
       "      <td>2.36</td>\n",
       "      <td>2.67</td>\n",
       "      <td>18.6</td>\n",
       "      <td>101</td>\n",
       "      <td>2.80</td>\n",
       "      <td>3.24</td>\n",
       "      <td>0.30</td>\n",
       "      <td>2.81</td>\n",
       "      <td>5.68</td>\n",
       "      <td>1.03</td>\n",
       "      <td>3.17</td>\n",
       "      <td>1185</td>\n",
       "    </tr>\n",
       "  </tbody>\n",
       "</table>\n",
       "</div>"
      ],
      "text/plain": [
       "   Alcohol  Malic_Acid   Ash  Ash_Alcanity  Magnesium  Total_Phenols  \\\n",
       "0    14.23        1.71  2.43          15.6        127           2.80   \n",
       "1    13.20        1.78  2.14          11.2        100           2.65   \n",
       "2    13.16        2.36  2.67          18.6        101           2.80   \n",
       "\n",
       "   Flavanoids  Nonflavanoid_Phenols  Proanthocyanins  Color_Intensity   Hue  \\\n",
       "0        3.06                  0.28             2.29             5.64  1.04   \n",
       "1        2.76                  0.26             1.28             4.38  1.05   \n",
       "2        3.24                  0.30             2.81             5.68  1.03   \n",
       "\n",
       "   OD280  Proline  \n",
       "0   3.92     1065  \n",
       "1   3.40     1050  \n",
       "2   3.17     1185  "
      ]
     },
     "execution_count": 8,
     "metadata": {},
     "output_type": "execute_result"
    }
   ],
   "source": [
    "X.head(3)"
   ]
  },
  {
   "cell_type": "code",
   "execution_count": 9,
   "id": "4e8793e3",
   "metadata": {},
   "outputs": [
    {
     "data": {
      "text/plain": [
       "(178, 13)"
      ]
     },
     "execution_count": 9,
     "metadata": {},
     "output_type": "execute_result"
    }
   ],
   "source": [
    "X.shape"
   ]
  },
  {
   "cell_type": "markdown",
   "id": "4aa5c47a",
   "metadata": {},
   "source": [
    "This real world dataset is really a linear algebra matrix: 178 x 13.  Viewing data as a matrix gives us access to the rich library of tools from linear algebra, including the SVD. This allows us to answer questions such as: \"What characterize clusters of wine?\"\n"
   ]
  },
  {
   "cell_type": "markdown",
   "id": "c8663e08",
   "metadata": {},
   "source": [
    "## Single Value Decomposition\n",
    "\n",
    "SVD takes a data matrix 𝐗 and produces the matrix factorization 𝐗=𝐔𝚺𝐕<sup>⊤</sup>. This factorization has useful properties that we use to perform dimensionality reduction.\n",
    "\n",
    "There are restrictions on 𝐔, 𝚺, and 𝐕:\n",
    "\n",
    "- 𝐔 has dimensions 𝑛×𝑛, 𝚺 has dimensions 𝑛×𝑑, and 𝐕 has dimensions 𝑑×𝑑.\n",
    "\n",
    "- 𝐔 and 𝐕 are orthogonal matrices. That is, 𝐔<sup>⊤</sup>𝐔=𝐈 and 𝐕<sup>⊤</sup>𝐕=𝐈. This also implies that all columns of 𝐔 and 𝐕 have magnitude 1 and are mutually orthogonal.\n",
    "\n",
    "- 𝚺 is a diagonal matrix. That is, all elements in 𝚺 are 0 unless they lie on the diagonal. In addition, the diagonal elements in 𝚺 are arranged from biggest to smallest.\n",
    "\n",
    "To compute the SVD in Python, we use the np.linalg.svd function.  \n",
    "\n",
    "np.linalg.svd returns a tuple of three arrays corresponding to 𝐔, 𝚺, and 𝐕<sup>⊤</sup>. Notice that the 𝚺 value is one-dimensional numpy array rather than a diagonal matrix, which can cause problems recreating 𝐗 using the return values of np.linalg.svd. For convenience, we often use full_matrices=False in our call to np.linalg.svd, which reduces the dimensions of 𝐔 or 𝐕<sup>⊤</sup> to match the dimensions of 𝚺.  This allows us to use np.diag to create the diagonal matrix 𝚺 and reproduce the original 𝐗:"
   ]
  },
  {
   "cell_type": "code",
   "execution_count": 10,
   "id": "926fa7b2",
   "metadata": {},
   "outputs": [],
   "source": [
    "from scipy.linalg import svd\n",
    "U, S, Vt = svd(X, full_matrices=False)"
   ]
  },
  {
   "cell_type": "markdown",
   "id": "3520028b",
   "metadata": {},
   "source": [
    "The rows of 𝐕<sup>⊤</sup> (or equivalently the columns of the untransposed 𝐕) contain the principal directions for the matrix 𝐗."
   ]
  },
  {
   "cell_type": "code",
   "execution_count": 11,
   "id": "086332e1",
   "metadata": {},
   "outputs": [
    {
     "data": {
      "text/plain": [
       "(13, 13)"
      ]
     },
     "execution_count": 11,
     "metadata": {},
     "output_type": "execute_result"
    }
   ],
   "source": [
    "Vt.shape"
   ]
  },
  {
   "cell_type": "code",
   "execution_count": 12,
   "id": "1da1de52",
   "metadata": {},
   "outputs": [
    {
     "data": {
      "text/plain": [
       "array([[-1.49627683e-02, -2.54474351e-03, -2.70802832e-03,\n",
       "        -2.13830885e-02, -1.15577596e-01, -2.74422127e-03,\n",
       "        -2.52832530e-03, -3.91490065e-04, -1.88971728e-03,\n",
       "        -6.06975016e-03, -1.10917441e-03, -3.06051522e-03,\n",
       "        -9.92915809e-01],\n",
       "       [-1.14188469e-01, -2.81196200e-02, -2.21740987e-02,\n",
       "        -2.28259636e-01, -9.57834595e-01, -1.50669805e-02,\n",
       "        -8.07652793e-03, -4.27249598e-03, -1.16097546e-02,\n",
       "        -3.40761623e-02, -7.91544443e-03, -1.96862315e-02,\n",
       "         1.18626915e-01],\n",
       "       [-2.66490054e-01, -1.12359811e-01, -6.45661946e-02,\n",
       "        -9.05890877e-01,  2.58251159e-01, -1.84780284e-02,\n",
       "         1.17540135e-02, -1.87906147e-02, -6.07173969e-03,\n",
       "        -1.51710568e-01, -9.85483353e-03, -2.91511467e-02,\n",
       "        -5.00373434e-03],\n",
       "       [ 5.98660420e-02,  1.70167832e-01, -6.66243285e-03,\n",
       "        -1.81842516e-01,  7.39287427e-03, -9.60006779e-02,\n",
       "        -1.97440467e-01,  1.08161503e-02, -6.17332946e-02,\n",
       "         9.12650501e-01, -7.10611360e-02, -2.10192172e-01,\n",
       "        -2.23506289e-03],\n",
       "       [ 7.99055369e-01,  4.35445018e-02,  4.00035808e-02,\n",
       "        -2.79869594e-01, -4.84421901e-02,  2.40818477e-01,\n",
       "         3.14735352e-01,  4.35287935e-03,  1.46243554e-01,\n",
       "         6.23075478e-02,  7.40735183e-02,  2.99164578e-01,\n",
       "        -3.72895426e-03],\n",
       "       [-2.55170614e-01, -7.46915745e-01,  5.20064945e-04,\n",
       "         1.07961523e-01,  2.66592287e-03,  2.16595249e-01,\n",
       "         3.89761392e-01, -2.88369269e-02,  1.87033379e-01,\n",
       "         3.32164696e-01,  3.42823343e-02,  1.38531171e-01,\n",
       "        -1.30872186e-03],\n",
       "       [ 4.21558976e-01, -6.24511990e-01, -1.55221371e-02,\n",
       "        -2.31654596e-02, -7.04539379e-03, -2.66394891e-01,\n",
       "        -4.64216481e-01,  3.64224309e-02, -2.96787746e-01,\n",
       "        -1.06464709e-01,  6.08714323e-02, -2.01327365e-01,\n",
       "         2.81385406e-04],\n",
       "       [ 7.27478027e-02, -4.17982233e-02, -1.49962495e-01,\n",
       "         1.92277701e-03, -4.83635743e-03, -1.65059543e-01,\n",
       "        -2.62538301e-01,  1.74369774e-02,  9.12748633e-01,\n",
       "        -5.46416951e-02,  5.61324342e-03, -1.94531270e-01,\n",
       "         2.49466997e-04],\n",
       "       [-1.13826490e-01, -1.22935571e-02, -6.95505475e-02,\n",
       "        -3.95655192e-03,  1.86206833e-03, -2.47454688e-01,\n",
       "        -3.76099061e-01, -3.45219877e-02,  3.76237796e-02,\n",
       "         1.03103661e-01, -3.04122883e-02,  8.74750864e-01,\n",
       "         9.59766741e-05],\n",
       "       [ 5.05368203e-02,  1.29224913e-02,  7.22142656e-02,\n",
       "         7.73637137e-04,  3.99836779e-04, -8.51427010e-01,\n",
       "         5.13766096e-01, -4.69077332e-02,  1.74136706e-03,\n",
       "         1.66803397e-02,  2.42435783e-02, -1.05102677e-02,\n",
       "        -9.13751884e-05],\n",
       "       [-6.47374761e-02, -1.48613114e-02,  9.45530180e-01,\n",
       "        -5.64403184e-02, -3.38082848e-03, -3.36806433e-03,\n",
       "        -1.18851811e-01,  2.15564678e-01,  1.24876905e-01,\n",
       "        -8.12246186e-04,  1.47150849e-01,  2.25920672e-02,\n",
       "        -1.95887690e-04],\n",
       "       [-7.57819275e-02,  7.35649366e-02, -1.87848458e-01,\n",
       "         3.17469135e-03,  2.84868170e-04, -7.69768413e-03,\n",
       "        -1.29841325e-02,  1.62343943e-01, -3.15140744e-02,\n",
       "         5.82662370e-02,  9.60504494e-01,  2.77918765e-03,\n",
       "        -2.31560037e-05],\n",
       "       [ 9.28426016e-03,  1.13420305e-02,  1.77738596e-01,\n",
       "        -6.81082636e-04, -2.11486370e-03,  2.92845207e-02,\n",
       "        -7.55741487e-02, -9.59590834e-01,  2.11215813e-02,\n",
       "         3.82921936e-03,  1.96609752e-01, -4.11026641e-02,\n",
       "        -5.95818128e-05]])"
      ]
     },
     "execution_count": 12,
     "metadata": {},
     "output_type": "execute_result"
    }
   ],
   "source": [
    "# first principal component of X is the first row of Vt (or first column of V)\n",
    "Vt[0:]"
   ]
  },
  {
   "cell_type": "markdown",
   "id": "f74f12f6",
   "metadata": {},
   "source": [
    "The principal directions of 𝐗, or the rows of 𝐕<sup>⊤</sup>, align themselves with the direction that the data vary. This is no coincidence: the principal directions of 𝐗 are precisely the orthogonal directions where 𝐗 has the greatest variance."
   ]
  },
  {
   "cell_type": "markdown",
   "id": "ba3fde87",
   "metadata": {},
   "source": [
    "## SVD $\\rightarrow$ Principal Components\n",
    "\n",
    "We can use principal directions to sketch a procedure for dimensionality reduction. First, we find the principal directions of 𝐗 by centering 𝐗, then using the SVD. If 𝐗 has 13 dimensions (as in our wine dataset), this will produce 13 principal directions. Next, we decide how many dimensions we want to reduce to; a common choice is 2. To reduce to 2 dimensions, we keep the first two principal directions and throw out the other 11. Finally, we project the data onto the first two directions. This is principal component analysis (PCA), a method for dimensionality reduction.\n",
    "\n",
    "To remove a direction, we simply drop the last 11 from 𝐕<sup>⊤</sup>:"
   ]
  },
  {
   "cell_type": "code",
   "execution_count": 13,
   "id": "87166753",
   "metadata": {},
   "outputs": [
    {
     "data": {
      "text/plain": [
       "(2, 13)"
      ]
     },
     "execution_count": 13,
     "metadata": {},
     "output_type": "execute_result"
    }
   ],
   "source": [
    "Vt[:2].shape"
   ]
  },
  {
   "cell_type": "markdown",
   "id": "9885a037",
   "metadata": {},
   "source": [
    "Finally, we project the original data points 𝐗 onto the single principal direction. Since the SVD enforces that principal directions in 𝐕<sup>⊤</sup> have magnitude one, this a simply a matrix multiplication 𝐗𝐕, after removing a direction from 𝐕:"
   ]
  },
  {
   "cell_type": "code",
   "execution_count": 14,
   "id": "c0c58915",
   "metadata": {},
   "outputs": [
    {
     "data": {
      "text/html": [
       "<div>\n",
       "<style scoped>\n",
       "    .dataframe tbody tr th:only-of-type {\n",
       "        vertical-align: middle;\n",
       "    }\n",
       "\n",
       "    .dataframe tbody tr th {\n",
       "        vertical-align: top;\n",
       "    }\n",
       "\n",
       "    .dataframe thead th {\n",
       "        text-align: right;\n",
       "    }\n",
       "</style>\n",
       "<table border=\"1\" class=\"dataframe\">\n",
       "  <thead>\n",
       "    <tr style=\"text-align: right;\">\n",
       "      <th></th>\n",
       "      <th>0</th>\n",
       "      <th>1</th>\n",
       "    </tr>\n",
       "  </thead>\n",
       "  <tbody>\n",
       "    <tr>\n",
       "      <th>0</th>\n",
       "      <td>-1072.758361</td>\n",
       "      <td>-0.967325</td>\n",
       "    </tr>\n",
       "    <tr>\n",
       "      <th>1</th>\n",
       "      <td>-1054.621609</td>\n",
       "      <td>24.310812</td>\n",
       "    </tr>\n",
       "    <tr>\n",
       "      <th>2</th>\n",
       "      <td>-1188.953065</td>\n",
       "      <td>37.591312</td>\n",
       "    </tr>\n",
       "    <tr>\n",
       "      <th>3</th>\n",
       "      <td>-1483.244108</td>\n",
       "      <td>61.293558</td>\n",
       "    </tr>\n",
       "    <tr>\n",
       "      <th>4</th>\n",
       "      <td>-744.147210</td>\n",
       "      <td>-32.575308</td>\n",
       "    </tr>\n",
       "    <tr>\n",
       "      <th>...</th>\n",
       "      <td>...</td>\n",
       "      <td>...</td>\n",
       "    </tr>\n",
       "    <tr>\n",
       "      <th>173</th>\n",
       "      <td>-746.463207</td>\n",
       "      <td>-10.014892</td>\n",
       "    </tr>\n",
       "    <tr>\n",
       "      <th>174</th>\n",
       "      <td>-757.244278</td>\n",
       "      <td>-16.010371</td>\n",
       "    </tr>\n",
       "    <tr>\n",
       "      <th>175</th>\n",
       "      <td>-843.673409</td>\n",
       "      <td>-22.567614</td>\n",
       "    </tr>\n",
       "    <tr>\n",
       "      <th>176</th>\n",
       "      <td>-848.627607</td>\n",
       "      <td>-21.891097</td>\n",
       "    </tr>\n",
       "    <tr>\n",
       "      <th>177</th>\n",
       "      <td>-567.953198</td>\n",
       "      <td>-33.307859</td>\n",
       "    </tr>\n",
       "  </tbody>\n",
       "</table>\n",
       "<p>178 rows × 2 columns</p>\n",
       "</div>"
      ],
      "text/plain": [
       "               0          1\n",
       "0   -1072.758361  -0.967325\n",
       "1   -1054.621609  24.310812\n",
       "2   -1188.953065  37.591312\n",
       "3   -1483.244108  61.293558\n",
       "4    -744.147210 -32.575308\n",
       "..           ...        ...\n",
       "173  -746.463207 -10.014892\n",
       "174  -757.244278 -16.010371\n",
       "175  -843.673409 -22.567614\n",
       "176  -848.627607 -21.891097\n",
       "177  -567.953198 -33.307859\n",
       "\n",
       "[178 rows x 2 columns]"
      ]
     },
     "execution_count": 14,
     "metadata": {},
     "output_type": "execute_result"
    }
   ],
   "source": [
    "X @ Vt[:2].T"
   ]
  },
  {
   "cell_type": "markdown",
   "id": "f2633cc4",
   "metadata": {},
   "source": [
    "We have successfully performed PCA to reduce 𝐗 from 13 dimensions to 2. Dimensionality reduction attempts to summarize the data with fewer dimensions while preserving patterns in the data. "
   ]
  },
  {
   "cell_type": "markdown",
   "id": "221fe45f",
   "metadata": {},
   "source": [
    "In practice, we use a simpler method to compute the reduced dimension 𝐗 which arises from the following equivalence:\n",
    "\n",
    "\n",
    "\\begin{align}\n",
    " X &= U\\Sigma V^T\\\\\n",
    "XV &= U\\Sigma V^T V\\\\\n",
    "XV &= U\\Sigma\n",
    "\\end{align}\n",
    "\n",
    "\n",
    "This means that instead of removing rows from 𝐕⊤ and then computing 𝐗𝐕 , we can compute 𝐔𝚺 and then remove columns until we achieve our desired dimensionality. For this reason, we call the columns of 𝐔𝚺 the principal components of 𝐗.\n"
   ]
  },
  {
   "cell_type": "markdown",
   "id": "2e59711c",
   "metadata": {},
   "source": [
    "To reduce 𝐗 from 13 to 2 dimension, we can compute the principal components:"
   ]
  },
  {
   "cell_type": "code",
   "execution_count": 15,
   "id": "5acc42a8",
   "metadata": {},
   "outputs": [
    {
     "data": {
      "text/plain": [
       "array([[-1.07275836e+03, -9.67324841e-01,  8.18073186e+00, ...,\n",
       "         4.27824523e-02, -9.75654612e-02, -6.38812808e-02],\n",
       "       [-1.05462161e+03,  2.43108121e+01,  5.76623934e+00, ...,\n",
       "         7.32469432e-02, -1.28205827e-02, -2.85492563e-02],\n",
       "       [-1.18895307e+03,  3.75913121e+01, -1.64082834e+00, ...,\n",
       "         2.53798915e-01, -3.92428086e-02,  2.92096624e-02],\n",
       "       ...,\n",
       "       [-8.43673409e+02, -2.25676136e+01,  2.89477621e+00, ...,\n",
       "        -1.96155147e-01,  1.34451308e-01, -4.24769246e-02],\n",
       "       [-8.48627607e+02, -2.18910965e+01,  3.21011106e+00, ...,\n",
       "        -2.16994861e-02, -3.33063428e-02, -1.38389302e-01],\n",
       "       [-5.67953198e+02, -3.33078586e+01, -6.10345453e+00, ...,\n",
       "         1.08541129e-01, -4.26030126e-02, -5.24989526e-03]])"
      ]
     },
     "execution_count": 15,
     "metadata": {},
     "output_type": "execute_result"
    }
   ],
   "source": [
    "pcs = U @ np.diag(S)\n",
    "pcs"
   ]
  },
  {
   "cell_type": "markdown",
   "id": "97aaf463",
   "metadata": {},
   "source": [
    "Let's drop the right most 11 columns"
   ]
  },
  {
   "cell_type": "code",
   "execution_count": 16,
   "id": "54657223",
   "metadata": {},
   "outputs": [
    {
     "data": {
      "text/plain": [
       "array([[-1.07275836e+03, -9.67324841e-01],\n",
       "       [-1.05462161e+03,  2.43108121e+01],\n",
       "       [-1.18895307e+03,  3.75913121e+01],\n",
       "       [-1.48324411e+03,  6.12935580e+01],\n",
       "       [-7.44147210e+02, -3.25753080e+01],\n",
       "       [-1.45329348e+03,  5.91413091e+01],\n",
       "       [-1.29255679e+03,  5.56541867e+01],\n",
       "       [-1.30046887e+03,  3.16564434e+01],\n",
       "       [-1.04939991e+03,  2.57395543e+01],\n",
       "       [-1.04955825e+03,  2.43575636e+01],\n",
       "       [-1.51211318e+03,  7.23554692e+01],\n",
       "       [-1.28254819e+03,  5.50007323e+01],\n",
       "       [-1.32155586e+03,  6.56751794e+01],\n",
       "       [-1.15291192e+03,  4.45113018e+01],\n",
       "       [-1.54839264e+03,  8.08913532e+01],\n",
       "       [-1.31432065e+03,  4.21303033e+01],\n",
       "       [-1.28552183e+03,  3.02261696e+01],\n",
       "       [-1.13600125e+03,  1.72727461e+01],\n",
       "       [-1.68124228e+03,  8.98946239e+01],\n",
       "       [-8.53025373e+02, -1.63727677e+01],\n",
       "       [-7.89667103e+02, -3.38826047e+01],\n",
       "       [-7.76997903e+02, -1.25547286e+01],\n",
       "       [-1.03996670e+03,  2.02779160e+01],\n",
       "       [-1.01942504e+03,  2.34922421e+01],\n",
       "       [-8.50801728e+02,  1.78843169e+00],\n",
       "       [-8.39246103e+02, -2.79163496e+01],\n",
       "       [-1.19789746e+03,  4.70495045e+01],\n",
       "       [-1.28738216e+03,  5.66363147e+01],\n",
       "       [-9.21577732e+02, -3.92839210e-01],\n",
       "       [-1.03938315e+03,  2.51555062e+01],\n",
       "       [-1.28833311e+03,  4.85312697e+01],\n",
       "       [-1.51721249e+03,  7.17869770e+01],\n",
       "       [-9.95641033e+02,  1.19539527e+01],\n",
       "       [-1.24220244e+03,  1.36075333e+01],\n",
       "       [-1.10062789e+03,  1.82623852e+01],\n",
       "       [-9.25752777e+02,  6.69259759e+00],\n",
       "       [-8.87075707e+02, -6.43182508e+00],\n",
       "       [-1.10914026e+03,  3.12355780e+01],\n",
       "       [-1.02468519e+03,  2.17494880e+01],\n",
       "       [-7.69984599e+02, -3.75960961e+01],\n",
       "       [-8.03520678e+02, -2.34893568e+01],\n",
       "       [-1.03874058e+03,  3.03072037e+01],\n",
       "       [-1.09952243e+03,  2.76755053e+01],\n",
       "       [-6.87729594e+02, -2.39555337e+01],\n",
       "       [-8.91727845e+02, -3.30924543e+00],\n",
       "       [-1.08587180e+03,  1.53618566e+01],\n",
       "       [-1.06987946e+03,  2.28487700e+01],\n",
       "       [-9.90324967e+02,  1.43921414e+01],\n",
       "       [-1.06508665e+03,  2.07083137e+01],\n",
       "       [-1.26423316e+03,  3.98906199e+01],\n",
       "       [-1.15303181e+03,  4.34723048e+01],\n",
       "       [-1.26755313e+03,  5.40616799e+01],\n",
       "       [-1.19499373e+03,  2.95456465e+01],\n",
       "       [-1.37920152e+03,  4.70023509e+01],\n",
       "       [-1.06675946e+03,  6.95886390e+00],\n",
       "       [-1.12619318e+03,  1.50456866e+01],\n",
       "       [-9.77408562e+02, -3.78670088e+00],\n",
       "       [-1.27342831e+03,  4.71291844e+01],\n",
       "       [-1.28902557e+03,  4.31145752e+01],\n",
       "       [-5.26931223e+02, -2.66431985e+01],\n",
       "       [-6.87427429e+02, -2.14179201e+01],\n",
       "       [-4.58978511e+02, -4.80487681e+01],\n",
       "       [-6.37042822e+02, -2.12924425e+01],\n",
       "       [-4.27738181e+02, -3.96555100e+01],\n",
       "       [-3.65142172e+02, -6.35381173e+01],\n",
       "       [-6.85159354e+02, -1.93685852e+01],\n",
       "       [-5.08046643e+02, -2.04976244e+01],\n",
       "       [-5.16067707e+02, -2.04712681e+01],\n",
       "       [-7.58009809e+02, -2.20840050e+01],\n",
       "       [-7.30956673e+02, -6.49956889e+01],\n",
       "       [-8.76405024e+02, -1.79597279e+00],\n",
       "       [-4.17838827e+02, -4.14058534e+01],\n",
       "       [-4.79481004e+02, -3.47009162e+01],\n",
       "       [-9.94987154e+02, -2.50173478e+01],\n",
       "       [-8.92081762e+02,  1.85459506e+00],\n",
       "       [-4.36747244e+02, -4.74497627e+01],\n",
       "       [-3.99756853e+02, -4.13540229e+01],\n",
       "       [-5.10012926e+02, -5.37523486e+01],\n",
       "       [-7.60958297e+02, -4.63994146e+01],\n",
       "       [-4.72136107e+02, -4.89255623e+01],\n",
       "       [-2.86605286e+02, -5.54030393e+01],\n",
       "       [-7.19534902e+02, -3.79673061e+00],\n",
       "       [-6.35291045e+02, -7.12094290e+00],\n",
       "       [-5.21916292e+02, -2.73779664e+01],\n",
       "       [-5.27796788e+02, -3.41433951e+01],\n",
       "       [-4.58878086e+02, -4.73044535e+01],\n",
       "       [-5.02610680e+02, -3.43730588e+01],\n",
       "       [-5.68970277e+02, -2.52129739e+01],\n",
       "       [-6.85578097e+02, -6.38206008e+00],\n",
       "       [-6.29392218e+02,  4.39168461e-02],\n",
       "       [-4.86582849e+02, -2.65412886e+01],\n",
       "       [-4.57453706e+02, -3.57159158e+01],\n",
       "       [-5.01418703e+02, -2.43795620e+01],\n",
       "       [-2.98739110e+02, -5.57550827e+01],\n",
       "       [-3.54499251e+02, -5.87419185e+01],\n",
       "       [-9.49732414e+02, -5.01131762e+01],\n",
       "       [-6.36742081e+02, -6.07725457e+01],\n",
       "       [-4.35371163e+02, -3.60256023e+01],\n",
       "       [-6.66144213e+02, -1.20307415e+01],\n",
       "       [-4.13922550e+02, -4.20240734e+01],\n",
       "       [-7.16790953e+02, -1.44042362e+01],\n",
       "       [-5.68816770e+02, -2.35585001e+01],\n",
       "       [-4.46913506e+02, -4.84757404e+01],\n",
       "       [-4.22637881e+02, -3.92290805e+01],\n",
       "       [-6.77742559e+02, -8.14492533e+00],\n",
       "       [-3.23879011e+02, -5.56228648e+01],\n",
       "       [-5.16277320e+02, -2.22063791e+01],\n",
       "       [-4.94973424e+02, -2.94792963e+01],\n",
       "       [-3.21062834e+02, -5.71569076e+01],\n",
       "       [-6.86706018e+02, -1.56159941e+01],\n",
       "       [-5.71037520e+02, -4.19965769e+01],\n",
       "       [-3.33553695e+02, -5.22772706e+01],\n",
       "       [-6.15266974e+02, -3.29445412e+01],\n",
       "       [-4.41766471e+02, -3.92091990e+01],\n",
       "       [-3.92696627e+02, -4.16364631e+01],\n",
       "       [-4.14613858e+02, -3.96080385e+01],\n",
       "       [-5.02099325e+02, -3.00377457e+01],\n",
       "       [-3.55752006e+02, -6.93717638e+01],\n",
       "       [-3.79195455e+02, -3.79575138e+01],\n",
       "       [-5.70691192e+02, -2.24517153e+01],\n",
       "       [-6.32329061e+02, -2.40767553e+01],\n",
       "       [-4.76329968e+02, -6.71726078e+01],\n",
       "       [-3.75012357e+02, -6.22641329e+01],\n",
       "       [-3.87967093e+02, -4.41445130e+01],\n",
       "       [-3.87479521e+02, -4.00625230e+01],\n",
       "       [-3.85831566e+02, -4.30987893e+01],\n",
       "       [-3.60154209e+02, -4.73224184e+01],\n",
       "       [-4.74172498e+02, -4.10448970e+01],\n",
       "       [-3.50505783e+02, -5.10317649e+01],\n",
       "       [-5.85842770e+02, -1.46020738e+01],\n",
       "       [-6.40263301e+02, -4.80031871e+01],\n",
       "       [-5.38946197e+02, -4.31736937e+01],\n",
       "       [-5.68123780e+02, -3.47590293e+01],\n",
       "       [-6.08710414e+02, -3.71119836e+01],\n",
       "       [-6.55838093e+02, -1.00895191e+01],\n",
       "       [-7.01593995e+02, -1.36924483e+01],\n",
       "       [-7.25871798e+02, -6.41547996e+00],\n",
       "       [-5.23235507e+02, -3.84674304e+01],\n",
       "       [-5.86744497e+02, -2.19042641e+01],\n",
       "       [-5.98260633e+02, -3.41054284e+01],\n",
       "       [-6.07544870e+02, -2.74313011e+01],\n",
       "       [-7.85449966e+02,  7.87733376e-01],\n",
       "       [-5.28287978e+02, -3.85132471e+01],\n",
       "       [-5.57430861e+02, -2.94356605e+01],\n",
       "       [-8.62547121e+02, -1.19968105e+01],\n",
       "       [-8.36608116e+02, -5.90112233e+00],\n",
       "       [-4.21999924e+02, -3.39627598e+01],\n",
       "       [-6.31243651e+02, -1.51381937e+01],\n",
       "       [-6.56768577e+02, -1.79605612e+01],\n",
       "       [-5.59907157e+02, -4.99518397e+01],\n",
       "       [-5.11471267e+02, -6.60383459e+01],\n",
       "       [-4.90300151e+02, -5.73985067e+01],\n",
       "       [-4.36210098e+02, -6.84600710e+01],\n",
       "       [-6.82232799e+02, -2.01222717e+01],\n",
       "       [-6.48055371e+02, -2.91598463e+01],\n",
       "       [-7.31362337e+02, -1.01520554e+01],\n",
       "       [-4.87597492e+02, -3.49042278e+01],\n",
       "       [-8.85816070e+02,  3.40916070e+00],\n",
       "       [-6.67513611e+02, -2.35975564e+01],\n",
       "       [-6.26680271e+02, -1.89960079e+01],\n",
       "       [-5.27199914e+02, -2.93212572e+01],\n",
       "       [-6.88247699e+02, -2.83857395e+01],\n",
       "       [-5.78940629e+02, -4.08333043e+01],\n",
       "       [-6.83119719e+02, -2.75680814e+01],\n",
       "       [-6.21806670e+02, -2.03780060e+01],\n",
       "       [-5.27244303e+02, -2.97846768e+01],\n",
       "       [-7.03695578e+02, -3.12746396e+01],\n",
       "       [-6.91017904e+02, -9.52110170e+00],\n",
       "       [-7.57631768e+02, -1.92637592e+01],\n",
       "       [-6.39304455e+02, -4.03562775e+01],\n",
       "       [-5.18131251e+02, -3.75807174e+01],\n",
       "       [-4.77302617e+02, -3.30546351e+01],\n",
       "       [-6.66568326e+02, -1.55932095e+01],\n",
       "       [-7.46463207e+02, -1.00148918e+01],\n",
       "       [-7.57244278e+02, -1.60103712e+01],\n",
       "       [-8.43673409e+02, -2.25676136e+01],\n",
       "       [-8.48627607e+02, -2.18910965e+01],\n",
       "       [-5.67953198e+02, -3.33078586e+01]])"
      ]
     },
     "execution_count": 16,
     "metadata": {},
     "output_type": "execute_result"
    }
   ],
   "source": [
    "pcs[:, :2]"
   ]
  },
  {
   "cell_type": "markdown",
   "id": "5e451bb2",
   "metadata": {},
   "source": [
    "This should produce the same result as right multiplying 𝐗 with a truncated 𝐕:"
   ]
  },
  {
   "cell_type": "code",
   "execution_count": 17,
   "id": "c0ff6f7f",
   "metadata": {},
   "outputs": [
    {
     "data": {
      "text/html": [
       "<div>\n",
       "<style scoped>\n",
       "    .dataframe tbody tr th:only-of-type {\n",
       "        vertical-align: middle;\n",
       "    }\n",
       "\n",
       "    .dataframe tbody tr th {\n",
       "        vertical-align: top;\n",
       "    }\n",
       "\n",
       "    .dataframe thead th {\n",
       "        text-align: right;\n",
       "    }\n",
       "</style>\n",
       "<table border=\"1\" class=\"dataframe\">\n",
       "  <thead>\n",
       "    <tr style=\"text-align: right;\">\n",
       "      <th></th>\n",
       "      <th>0</th>\n",
       "      <th>1</th>\n",
       "    </tr>\n",
       "  </thead>\n",
       "  <tbody>\n",
       "    <tr>\n",
       "      <th>0</th>\n",
       "      <td>-1072.758361</td>\n",
       "      <td>-0.967325</td>\n",
       "    </tr>\n",
       "    <tr>\n",
       "      <th>1</th>\n",
       "      <td>-1054.621609</td>\n",
       "      <td>24.310812</td>\n",
       "    </tr>\n",
       "    <tr>\n",
       "      <th>2</th>\n",
       "      <td>-1188.953065</td>\n",
       "      <td>37.591312</td>\n",
       "    </tr>\n",
       "    <tr>\n",
       "      <th>3</th>\n",
       "      <td>-1483.244108</td>\n",
       "      <td>61.293558</td>\n",
       "    </tr>\n",
       "    <tr>\n",
       "      <th>4</th>\n",
       "      <td>-744.147210</td>\n",
       "      <td>-32.575308</td>\n",
       "    </tr>\n",
       "    <tr>\n",
       "      <th>...</th>\n",
       "      <td>...</td>\n",
       "      <td>...</td>\n",
       "    </tr>\n",
       "    <tr>\n",
       "      <th>173</th>\n",
       "      <td>-746.463207</td>\n",
       "      <td>-10.014892</td>\n",
       "    </tr>\n",
       "    <tr>\n",
       "      <th>174</th>\n",
       "      <td>-757.244278</td>\n",
       "      <td>-16.010371</td>\n",
       "    </tr>\n",
       "    <tr>\n",
       "      <th>175</th>\n",
       "      <td>-843.673409</td>\n",
       "      <td>-22.567614</td>\n",
       "    </tr>\n",
       "    <tr>\n",
       "      <th>176</th>\n",
       "      <td>-848.627607</td>\n",
       "      <td>-21.891097</td>\n",
       "    </tr>\n",
       "    <tr>\n",
       "      <th>177</th>\n",
       "      <td>-567.953198</td>\n",
       "      <td>-33.307859</td>\n",
       "    </tr>\n",
       "  </tbody>\n",
       "</table>\n",
       "<p>178 rows × 2 columns</p>\n",
       "</div>"
      ],
      "text/plain": [
       "               0          1\n",
       "0   -1072.758361  -0.967325\n",
       "1   -1054.621609  24.310812\n",
       "2   -1188.953065  37.591312\n",
       "3   -1483.244108  61.293558\n",
       "4    -744.147210 -32.575308\n",
       "..           ...        ...\n",
       "173  -746.463207 -10.014892\n",
       "174  -757.244278 -16.010371\n",
       "175  -843.673409 -22.567614\n",
       "176  -848.627607 -21.891097\n",
       "177  -567.953198 -33.307859\n",
       "\n",
       "[178 rows x 2 columns]"
      ]
     },
     "execution_count": 17,
     "metadata": {},
     "output_type": "execute_result"
    }
   ],
   "source": [
    "X @ Vt[:2].T"
   ]
  },
  {
   "cell_type": "markdown",
   "id": "09862c69",
   "metadata": {},
   "source": [
    "With this, we can describe the final procedure for PCA. To reduce an 𝑛×𝑑 matrix 𝐗 to 𝑘 dimensions (where 𝑘<𝑑), we perform the following steps:\n",
    "\n",
    "1. Center 𝐗 .\n",
    "\n",
    "2. Use the SVD to find 𝐗=𝐔𝚺𝐕<sup>⊤</sup> .\n",
    "\n",
    "3. Compute the principal components 𝐔𝚺 .\n",
    "\n",
    "4. Keep the first 𝑘 columns of 𝐔𝚺 ."
   ]
  },
  {
   "cell_type": "markdown",
   "id": "b9b69eec",
   "metadata": {},
   "source": [
    "## Rank-k Approximation\n",
    "\n",
    "We can also use PCA to construct a rank-k approximation of 𝐗, which produces a rank 𝑘 matrix with the same dimensions as 𝐗. The rank-k appromixation projects the points in 𝐗 onto the top 𝑘 principal directions. The procedure is similar to that of PCA:\n",
    "\n",
    "1. Center 𝐗 .\n",
    "\n",
    "2. Use the SVD to find 𝐗=𝐔𝚺𝐕<sup>⊤</sup> .\n",
    "\n",
    "3. Keep the first 𝑘 columns of 𝐔𝚺 , and the first 𝑘 rows of 𝐕<sup>⊤</sup> \n",
    "\n",
    "4. Compute 𝐗=𝐔𝚺𝐕<sup>⊤</sup>  with the reduced 𝐔𝚺 and 𝐕<sup>⊤</sup> \n",
    "\n",
    "The function below provides an implementation:"
   ]
  },
  {
   "cell_type": "code",
   "execution_count": 18,
   "id": "1e306b4c",
   "metadata": {},
   "outputs": [],
   "source": [
    "def compute_rank_k_approximation(data, k):\n",
    "    centered = data - data.mean(axis=0)\n",
    "    U, S, Vt = np.linalg.svd(centered, full_matrices = False)\n",
    "    approx = (U @ np.diag(S))[:, :k] @ Vt[:k]\n",
    "    return pd.DataFrame(approx, columns = data.columns)"
   ]
  },
  {
   "cell_type": "markdown",
   "id": "d976ec7e",
   "metadata": {},
   "source": [
    "As an example, we will compute the rank-1 approximation of the wine data:"
   ]
  },
  {
   "cell_type": "code",
   "execution_count": 19,
   "id": "d97f6d85",
   "metadata": {},
   "outputs": [
    {
     "data": {
      "text/html": [
       "<div>\n",
       "<style scoped>\n",
       "    .dataframe tbody tr th:only-of-type {\n",
       "        vertical-align: middle;\n",
       "    }\n",
       "\n",
       "    .dataframe tbody tr th {\n",
       "        vertical-align: top;\n",
       "    }\n",
       "\n",
       "    .dataframe thead th {\n",
       "        text-align: right;\n",
       "    }\n",
       "</style>\n",
       "<table border=\"1\" class=\"dataframe\">\n",
       "  <thead>\n",
       "    <tr style=\"text-align: right;\">\n",
       "      <th></th>\n",
       "      <th>Alcohol</th>\n",
       "      <th>Malic_Acid</th>\n",
       "      <th>Ash</th>\n",
       "      <th>Ash_Alcanity</th>\n",
       "      <th>Magnesium</th>\n",
       "      <th>Total_Phenols</th>\n",
       "      <th>Flavanoids</th>\n",
       "      <th>Nonflavanoid_Phenols</th>\n",
       "      <th>Proanthocyanins</th>\n",
       "      <th>Color_Intensity</th>\n",
       "      <th>Hue</th>\n",
       "      <th>OD280</th>\n",
       "      <th>Proline</th>\n",
       "    </tr>\n",
       "  </thead>\n",
       "  <tbody>\n",
       "    <tr>\n",
       "      <th>0</th>\n",
       "      <td>0.528580</td>\n",
       "      <td>-0.216946</td>\n",
       "      <td>0.062090</td>\n",
       "      <td>-1.488103</td>\n",
       "      <td>5.692086</td>\n",
       "      <td>0.315323</td>\n",
       "      <td>0.499280</td>\n",
       "      <td>-0.039211</td>\n",
       "      <td>0.191331</td>\n",
       "      <td>0.741342</td>\n",
       "      <td>0.054595</td>\n",
       "      <td>0.224565</td>\n",
       "      <td>318.506573</td>\n",
       "    </tr>\n",
       "    <tr>\n",
       "      <th>1</th>\n",
       "      <td>0.502919</td>\n",
       "      <td>-0.206414</td>\n",
       "      <td>0.059075</td>\n",
       "      <td>-1.415859</td>\n",
       "      <td>5.415747</td>\n",
       "      <td>0.300015</td>\n",
       "      <td>0.475041</td>\n",
       "      <td>-0.037307</td>\n",
       "      <td>0.182043</td>\n",
       "      <td>0.705351</td>\n",
       "      <td>0.051945</td>\n",
       "      <td>0.213663</td>\n",
       "      <td>303.043752</td>\n",
       "    </tr>\n",
       "    <tr>\n",
       "      <th>2</th>\n",
       "      <td>0.726859</td>\n",
       "      <td>-0.298326</td>\n",
       "      <td>0.085381</td>\n",
       "      <td>-2.046315</td>\n",
       "      <td>7.827280</td>\n",
       "      <td>0.433606</td>\n",
       "      <td>0.686568</td>\n",
       "      <td>-0.053919</td>\n",
       "      <td>0.263103</td>\n",
       "      <td>1.019431</td>\n",
       "      <td>0.075075</td>\n",
       "      <td>0.308803</td>\n",
       "      <td>437.983568</td>\n",
       "    </tr>\n",
       "    <tr>\n",
       "      <th>3</th>\n",
       "      <td>1.216639</td>\n",
       "      <td>-0.499348</td>\n",
       "      <td>0.142913</td>\n",
       "      <td>-3.425185</td>\n",
       "      <td>13.101540</td>\n",
       "      <td>0.725783</td>\n",
       "      <td>1.149199</td>\n",
       "      <td>-0.090252</td>\n",
       "      <td>0.440390</td>\n",
       "      <td>1.706355</td>\n",
       "      <td>0.125663</td>\n",
       "      <td>0.516884</td>\n",
       "      <td>733.110309</td>\n",
       "    </tr>\n",
       "    <tr>\n",
       "      <th>4</th>\n",
       "      <td>-0.019200</td>\n",
       "      <td>0.007880</td>\n",
       "      <td>-0.002255</td>\n",
       "      <td>0.054054</td>\n",
       "      <td>-0.206758</td>\n",
       "      <td>-0.011454</td>\n",
       "      <td>-0.018136</td>\n",
       "      <td>0.001424</td>\n",
       "      <td>-0.006950</td>\n",
       "      <td>-0.026928</td>\n",
       "      <td>-0.001983</td>\n",
       "      <td>-0.008157</td>\n",
       "      <td>-11.569380</td>\n",
       "    </tr>\n",
       "    <tr>\n",
       "      <th>...</th>\n",
       "      <td>...</td>\n",
       "      <td>...</td>\n",
       "      <td>...</td>\n",
       "      <td>...</td>\n",
       "      <td>...</td>\n",
       "      <td>...</td>\n",
       "      <td>...</td>\n",
       "      <td>...</td>\n",
       "      <td>...</td>\n",
       "      <td>...</td>\n",
       "      <td>...</td>\n",
       "      <td>...</td>\n",
       "      <td>...</td>\n",
       "    </tr>\n",
       "    <tr>\n",
       "      <th>173</th>\n",
       "      <td>-0.011582</td>\n",
       "      <td>0.004754</td>\n",
       "      <td>-0.001360</td>\n",
       "      <td>0.032607</td>\n",
       "      <td>-0.124722</td>\n",
       "      <td>-0.006909</td>\n",
       "      <td>-0.010940</td>\n",
       "      <td>0.000859</td>\n",
       "      <td>-0.004192</td>\n",
       "      <td>-0.016244</td>\n",
       "      <td>-0.001196</td>\n",
       "      <td>-0.004921</td>\n",
       "      <td>-6.978975</td>\n",
       "    </tr>\n",
       "    <tr>\n",
       "      <th>174</th>\n",
       "      <td>0.005196</td>\n",
       "      <td>-0.002133</td>\n",
       "      <td>0.000610</td>\n",
       "      <td>-0.014629</td>\n",
       "      <td>0.055956</td>\n",
       "      <td>0.003100</td>\n",
       "      <td>0.004908</td>\n",
       "      <td>-0.000385</td>\n",
       "      <td>0.001881</td>\n",
       "      <td>0.007288</td>\n",
       "      <td>0.000537</td>\n",
       "      <td>0.002208</td>\n",
       "      <td>3.131050</td>\n",
       "    </tr>\n",
       "    <tr>\n",
       "      <th>175</th>\n",
       "      <td>0.146775</td>\n",
       "      <td>-0.060241</td>\n",
       "      <td>0.017241</td>\n",
       "      <td>-0.413214</td>\n",
       "      <td>1.580570</td>\n",
       "      <td>0.087558</td>\n",
       "      <td>0.138639</td>\n",
       "      <td>-0.010888</td>\n",
       "      <td>0.053129</td>\n",
       "      <td>0.205855</td>\n",
       "      <td>0.015160</td>\n",
       "      <td>0.062357</td>\n",
       "      <td>88.442411</td>\n",
       "    </tr>\n",
       "    <tr>\n",
       "      <th>176</th>\n",
       "      <td>0.155069</td>\n",
       "      <td>-0.063645</td>\n",
       "      <td>0.018215</td>\n",
       "      <td>-0.436562</td>\n",
       "      <td>1.669877</td>\n",
       "      <td>0.092506</td>\n",
       "      <td>0.146473</td>\n",
       "      <td>-0.011503</td>\n",
       "      <td>0.056131</td>\n",
       "      <td>0.217486</td>\n",
       "      <td>0.016017</td>\n",
       "      <td>0.065880</td>\n",
       "      <td>93.439694</td>\n",
       "    </tr>\n",
       "    <tr>\n",
       "      <th>177</th>\n",
       "      <td>-0.310188</td>\n",
       "      <td>0.127311</td>\n",
       "      <td>-0.036436</td>\n",
       "      <td>0.873268</td>\n",
       "      <td>-3.340302</td>\n",
       "      <td>-0.185042</td>\n",
       "      <td>-0.292994</td>\n",
       "      <td>0.023010</td>\n",
       "      <td>-0.112280</td>\n",
       "      <td>-0.435044</td>\n",
       "      <td>-0.032038</td>\n",
       "      <td>-0.131782</td>\n",
       "      <td>-186.910089</td>\n",
       "    </tr>\n",
       "  </tbody>\n",
       "</table>\n",
       "<p>178 rows × 13 columns</p>\n",
       "</div>"
      ],
      "text/plain": [
       "      Alcohol  Malic_Acid       Ash  Ash_Alcanity  Magnesium  Total_Phenols  \\\n",
       "0    0.528580   -0.216946  0.062090     -1.488103   5.692086       0.315323   \n",
       "1    0.502919   -0.206414  0.059075     -1.415859   5.415747       0.300015   \n",
       "2    0.726859   -0.298326  0.085381     -2.046315   7.827280       0.433606   \n",
       "3    1.216639   -0.499348  0.142913     -3.425185  13.101540       0.725783   \n",
       "4   -0.019200    0.007880 -0.002255      0.054054  -0.206758      -0.011454   \n",
       "..        ...         ...       ...           ...        ...            ...   \n",
       "173 -0.011582    0.004754 -0.001360      0.032607  -0.124722      -0.006909   \n",
       "174  0.005196   -0.002133  0.000610     -0.014629   0.055956       0.003100   \n",
       "175  0.146775   -0.060241  0.017241     -0.413214   1.580570       0.087558   \n",
       "176  0.155069   -0.063645  0.018215     -0.436562   1.669877       0.092506   \n",
       "177 -0.310188    0.127311 -0.036436      0.873268  -3.340302      -0.185042   \n",
       "\n",
       "     Flavanoids  Nonflavanoid_Phenols  Proanthocyanins  Color_Intensity  \\\n",
       "0      0.499280             -0.039211         0.191331         0.741342   \n",
       "1      0.475041             -0.037307         0.182043         0.705351   \n",
       "2      0.686568             -0.053919         0.263103         1.019431   \n",
       "3      1.149199             -0.090252         0.440390         1.706355   \n",
       "4     -0.018136              0.001424        -0.006950        -0.026928   \n",
       "..          ...                   ...              ...              ...   \n",
       "173   -0.010940              0.000859        -0.004192        -0.016244   \n",
       "174    0.004908             -0.000385         0.001881         0.007288   \n",
       "175    0.138639             -0.010888         0.053129         0.205855   \n",
       "176    0.146473             -0.011503         0.056131         0.217486   \n",
       "177   -0.292994              0.023010        -0.112280        -0.435044   \n",
       "\n",
       "          Hue     OD280     Proline  \n",
       "0    0.054595  0.224565  318.506573  \n",
       "1    0.051945  0.213663  303.043752  \n",
       "2    0.075075  0.308803  437.983568  \n",
       "3    0.125663  0.516884  733.110309  \n",
       "4   -0.001983 -0.008157  -11.569380  \n",
       "..        ...       ...         ...  \n",
       "173 -0.001196 -0.004921   -6.978975  \n",
       "174  0.000537  0.002208    3.131050  \n",
       "175  0.015160  0.062357   88.442411  \n",
       "176  0.016017  0.065880   93.439694  \n",
       "177 -0.032038 -0.131782 -186.910089  \n",
       "\n",
       "[178 rows x 13 columns]"
      ]
     },
     "execution_count": 19,
     "metadata": {},
     "output_type": "execute_result"
    }
   ],
   "source": [
    "rank1 = compute_rank_k_approximation(X, 1)\n",
    "rank1"
   ]
  },
  {
   "cell_type": "markdown",
   "id": "0696c067",
   "metadata": {},
   "source": [
    "## When is PCA useful?\n",
    "\n",
    "We primarily use PCA for exploratory data analysis: when we do not yet know what information the dataset captures or what we might use the data to predict. As a dimensionality reduction technique, PCA is useful primarily when our data contain many columns, and when we have reason to believe that the data are inherently low rank, that the patterns in the data can be summarized with a linear combination of columns.\n"
   ]
  },
  {
   "cell_type": "markdown",
   "id": "6baad6ac",
   "metadata": {},
   "source": [
    "### Scree Plots\n",
    "\n",
    "We use PCA to calculate low-dimensional approximations for high-dimensional data. How accurate are these approximations? To answer this question, we create scree plots using the singular values of the data which describe the captured variance of each principal component.\n",
    "\n",
    "Recall that SVD takes a data matrix 𝐗 and produces the matrix factorization 𝐗=𝐔𝚺𝐕<sup>⊤</sup>. We know that the matrix 𝐕<sup>⊤</sup> contains the principal directions of 𝐗 and that the product 𝐔𝚺 contains the principal components. Now we examine the values in 𝚺.\n",
    "\n",
    "SVD requires that 𝚺 is a diagonal matrix with elements arranged from largest to smallest. The diagonal elements of 𝚺 are called the singular values of 𝐗. Importantly, the relative magnitude of the singular values precisely represent the percent of variance captured by each principal component.\n",
    "\n",
    "Consider our wine dataset:"
   ]
  },
  {
   "cell_type": "code",
   "execution_count": 20,
   "id": "87c758b6",
   "metadata": {},
   "outputs": [
    {
     "data": {
      "text/html": [
       "<div>\n",
       "<style scoped>\n",
       "    .dataframe tbody tr th:only-of-type {\n",
       "        vertical-align: middle;\n",
       "    }\n",
       "\n",
       "    .dataframe tbody tr th {\n",
       "        vertical-align: top;\n",
       "    }\n",
       "\n",
       "    .dataframe thead th {\n",
       "        text-align: right;\n",
       "    }\n",
       "</style>\n",
       "<table border=\"1\" class=\"dataframe\">\n",
       "  <thead>\n",
       "    <tr style=\"text-align: right;\">\n",
       "      <th></th>\n",
       "      <th>Alcohol</th>\n",
       "      <th>Malic_Acid</th>\n",
       "      <th>Ash</th>\n",
       "      <th>Ash_Alcanity</th>\n",
       "      <th>Magnesium</th>\n",
       "      <th>Total_Phenols</th>\n",
       "      <th>Flavanoids</th>\n",
       "      <th>Nonflavanoid_Phenols</th>\n",
       "      <th>Proanthocyanins</th>\n",
       "      <th>Color_Intensity</th>\n",
       "      <th>Hue</th>\n",
       "      <th>OD280</th>\n",
       "      <th>Proline</th>\n",
       "    </tr>\n",
       "  </thead>\n",
       "  <tbody>\n",
       "    <tr>\n",
       "      <th>0</th>\n",
       "      <td>14.23</td>\n",
       "      <td>1.71</td>\n",
       "      <td>2.43</td>\n",
       "      <td>15.6</td>\n",
       "      <td>127</td>\n",
       "      <td>2.80</td>\n",
       "      <td>3.06</td>\n",
       "      <td>0.28</td>\n",
       "      <td>2.29</td>\n",
       "      <td>5.64</td>\n",
       "      <td>1.04</td>\n",
       "      <td>3.92</td>\n",
       "      <td>1065</td>\n",
       "    </tr>\n",
       "    <tr>\n",
       "      <th>1</th>\n",
       "      <td>13.20</td>\n",
       "      <td>1.78</td>\n",
       "      <td>2.14</td>\n",
       "      <td>11.2</td>\n",
       "      <td>100</td>\n",
       "      <td>2.65</td>\n",
       "      <td>2.76</td>\n",
       "      <td>0.26</td>\n",
       "      <td>1.28</td>\n",
       "      <td>4.38</td>\n",
       "      <td>1.05</td>\n",
       "      <td>3.40</td>\n",
       "      <td>1050</td>\n",
       "    </tr>\n",
       "  </tbody>\n",
       "</table>\n",
       "</div>"
      ],
      "text/plain": [
       "   Alcohol  Malic_Acid   Ash  Ash_Alcanity  Magnesium  Total_Phenols  \\\n",
       "0    14.23        1.71  2.43          15.6        127           2.80   \n",
       "1    13.20        1.78  2.14          11.2        100           2.65   \n",
       "\n",
       "   Flavanoids  Nonflavanoid_Phenols  Proanthocyanins  Color_Intensity   Hue  \\\n",
       "0        3.06                  0.28             2.29             5.64  1.04   \n",
       "1        2.76                  0.26             1.28             4.38  1.05   \n",
       "\n",
       "   OD280  Proline  \n",
       "0   3.92     1065  \n",
       "1   3.40     1050  "
      ]
     },
     "execution_count": 20,
     "metadata": {},
     "output_type": "execute_result"
    }
   ],
   "source": [
    "X.head(2)"
   ]
  },
  {
   "cell_type": "markdown",
   "id": "708893b0",
   "metadata": {},
   "source": [
    "First, we center the data and apply SVD. We display the singular values in 𝚺 (recall that the svd function produces a one-dimensional array rather than a matrix)."
   ]
  },
  {
   "cell_type": "code",
   "execution_count": 22,
   "id": "b5c68d2e",
   "metadata": {},
   "outputs": [
    {
     "data": {
      "text/plain": [
       "array([4.19031225e+03, 1.74753375e+02, 4.08723149e+01, 2.97226953e+01,\n",
       "       1.47480712e+01, 1.22011600e+01, 7.02697044e+00, 5.17633888e+00,\n",
       "       4.45433804e+00, 3.56249362e+00, 2.57894324e+00, 1.93127129e+00,\n",
       "       1.20501264e+00])"
      ]
     },
     "execution_count": 22,
     "metadata": {},
     "output_type": "execute_result"
    }
   ],
   "source": [
    "X_centered = X - X.mean(axis=0)\n",
    "U, s, Vt = svd(X_centered, full_matrices=False)\n",
    "s"
   ]
  },
  {
   "cell_type": "markdown",
   "id": "a5f99075",
   "metadata": {},
   "source": [
    "The original data has 13 columns, which result in 13 principal components (and 13 principal directions):"
   ]
  },
  {
   "cell_type": "code",
   "execution_count": 23,
   "id": "97ab5d96",
   "metadata": {},
   "outputs": [
    {
     "data": {
      "text/plain": [
       "(178, 13)"
      ]
     },
     "execution_count": 23,
     "metadata": {},
     "output_type": "execute_result"
    }
   ],
   "source": [
    "pcs = U @ np.diag(s)\n",
    "pcs.shape"
   ]
  },
  {
   "cell_type": "markdown",
   "id": "e08392e7",
   "metadata": {},
   "source": [
    "We often keep only the first two principal components to facilitate further visualization (e.g. scatter plot). How much information do we lose from this approximation? We can quantify this by squaring each element in 𝚺, then dividing by the sum so all the elements sum to 1."
   ]
  },
  {
   "cell_type": "code",
   "execution_count": 24,
   "id": "d96afb79",
   "metadata": {},
   "outputs": [
    {
     "data": {
      "text/plain": [
       "array([9.98091230e-01, 1.73591562e-03, 9.49589576e-05, 5.02173562e-05,\n",
       "       1.23636847e-05, 8.46213034e-06, 2.80681456e-06, 1.52308053e-06,\n",
       "       1.12783044e-06, 7.21415811e-07, 3.78060267e-07, 2.12013755e-07,\n",
       "       8.25392788e-08])"
      ]
     },
     "execution_count": 24,
     "metadata": {},
     "output_type": "execute_result"
    }
   ],
   "source": [
    "(s**2) / sum(s**2)"
   ]
  },
  {
   "cell_type": "markdown",
   "id": "3228f4a5",
   "metadata": {},
   "source": [
    "The values in this array contain the captured variance of each principal component. In this case, the first principal component captures 99.8% of the variance in the original data! \n",
    "\n",
    "A scree plot is a plot of the squared singular values and provides a visualization of the captured variance:"
   ]
  },
  {
   "cell_type": "code",
   "execution_count": 29,
   "id": "95dcaa9c",
   "metadata": {},
   "outputs": [
    {
     "data": {
      "image/png": "[encoded data removed]",
      "text/plain": [
       "<Figure size 432x288 with 1 Axes>"
      ]
     },
     "metadata": {
      "needs_background": "light"
     },
     "output_type": "display_data"
    }
   ],
   "source": [
    "import matplotlib.pyplot as plt\n",
    "plt.plot(s**2);\n",
    "# plt.yscale('log')"
   ]
  },
  {
   "cell_type": "markdown",
   "id": "bcb86108",
   "metadata": {},
   "source": [
    "Like the numeric values, the scree plot suggests that most of the variance in the data can be captured with just the 1st principal component. For PCA, this  means that a scatter plot of the first principal dimension preserves useful patterns in the data and gives us more confidence in proceeding with PCA."
   ]
  },
  {
   "cell_type": "code",
   "execution_count": null,
   "id": "b2394b0a",
   "metadata": {},
   "outputs": [],
   "source": []
  }
 ],
 "metadata": {
  "kernelspec": {
   "display_name": "Python 3 (ipykernel)",
   "language": "python",
   "name": "python3"
  },
  "language_info": {
   "codemirror_mode": {
    "name": "ipython",
    "version": 3
   },
   "file_extension": ".py",
   "mimetype": "text/x-python",
   "name": "python",
   "nbconvert_exporter": "python",
   "pygments_lexer": "ipython3",
   "version": "3.9.12"
  }
 },
 "nbformat": 4,
 "nbformat_minor": 5
}
